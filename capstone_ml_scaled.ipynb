{
 "cells": [
  {
   "cell_type": "code",
   "execution_count": null,
   "metadata": {},
   "outputs": [],
   "source": [
    "%matplotlib inline\n",
    "!pip install dask_ml"
   ]
  },
  {
   "cell_type": "code",
   "execution_count": 9,
   "metadata": {},
   "outputs": [],
   "source": [
    "import pandas as pd\n",
    "import numpy as np\n",
    "from sklearn.model_selection import train_test_split\n",
    "from sklearn.ensemble import RandomForestClassifier"
   ]
  },
  {
   "cell_type": "code",
   "execution_count": 4,
   "metadata": {},
   "outputs": [],
   "source": [
    "#Load and split the data\n",
    "training_data = pd.read_csv(\"train.csv\")\n",
    "testing_data = pd.read_csv(\"test.csv\")\n",
    "costa_rica_data = training_data.drop(['Target'], axis=1)\n",
    "costa_rica_target = training_data['Target']"
   ]
  },
  {
   "cell_type": "code",
   "execution_count": 5,
   "metadata": {},
   "outputs": [],
   "source": [
    "#Clean the data to either replace or remove string columns\n",
    "costa_rica_data.select_dtypes(exclude=[np.number]).head()\n",
    "costa_rica_data = costa_rica_data.select_dtypes(include=[np.number], exclude=[np.object]).fillna(0)"
   ]
  },
  {
   "cell_type": "code",
   "execution_count": 6,
   "metadata": {},
   "outputs": [],
   "source": [
    "#Extract feature names\n",
    "cols = costa_rica_data.columns.values\n",
    "dicts = dict(zip(cols, range(len(cols))))\n",
    "\n",
    "features = []\n",
    "for key in dicts:\n",
    "    if dicts[key] in [98, 135, 134, 131, 118, 133, 109, 132, 94, 2]:\n",
    "        features.append(key)"
   ]
  },
  {
   "cell_type": "code",
   "execution_count": 7,
   "metadata": {},
   "outputs": [],
   "source": [
    "X_train, X_test, y_train, y_test = train_test_split(costa_rica_data[features].values, costa_rica_target.values, test_size= 0.2, random_state=42)"
   ]
  },
  {
   "cell_type": "code",
   "execution_count": 10,
   "metadata": {},
   "outputs": [
    {
     "name": "stdout",
     "output_type": "stream",
     "text": [
      "Random Forest Train Accuracy: 96.47%\n",
      "Random Forest Validation Accuracy: 93.36%\n",
      "Train/Test Delta: 3.11%\n"
     ]
    }
   ],
   "source": [
    "from dask.distributed import Client\n",
    "client = Client()  # start a local Dask client\n",
    "\n",
    "from sklearn.externals import joblib\n",
    "\n",
    "with joblib.parallel_backend('dask'):\n",
    "    clf = RandomForestClassifier(n_estimators=350, criterion='entropy', max_depth=15, random_state=42, max_features=7)\n",
    "    model = clf.fit(X_train, y_train)\n",
    "    train_score = model.score(X_train, y_train)\n",
    "    val_score = model.score(X_test, y_test)\n",
    "    print('Random Forest Train Accuracy: '+str(round(train_score*100,2))+'%')\n",
    "    print('Random Forest Validation Accuracy: '+str(round(val_score*100,2))+'%')\n",
    "    print('Train/Test Delta: '+str(round((train_score - val_score)*100,2))+'%')"
   ]
  }
 ],
 "metadata": {
  "kernelspec": {
   "display_name": "Python 3",
   "language": "python",
   "name": "python3"
  },
  "language_info": {
   "codemirror_mode": {
    "name": "ipython",
    "version": 2
   },
   "file_extension": ".py",
   "mimetype": "text/x-python",
   "name": "python",
   "nbconvert_exporter": "python",
   "pygments_lexer": "ipython2",
   "version": "2.7.15"
  }
 },
 "nbformat": 4,
 "nbformat_minor": 2
}
