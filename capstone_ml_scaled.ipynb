{
 "cells": [
  {
   "cell_type": "code",
   "execution_count": 1,
   "metadata": {},
   "outputs": [
    {
     "name": "stdout",
     "output_type": "stream",
     "text": [
      "Requirement already satisfied: dask_ml in /Library/Frameworks/Python.framework/Versions/2.7/lib/python2.7/site-packages\n",
      "Requirement already satisfied: dask-glm in /Library/Frameworks/Python.framework/Versions/2.7/lib/python2.7/site-packages (from dask_ml)\n",
      "Requirement already satisfied: dask[array]>=1.0.0 in /Library/Frameworks/Python.framework/Versions/2.7/lib/python2.7/site-packages (from dask_ml)\n",
      "Requirement already satisfied: numpy in /Users/krishi/Library/Python/2.7/lib/python/site-packages (from dask_ml)\n",
      "Requirement already satisfied: pandas>=0.23.4 in /Library/Frameworks/Python.framework/Versions/2.7/lib/python2.7/site-packages (from dask_ml)\n",
      "Requirement already satisfied: packaging in /Library/Frameworks/Python.framework/Versions/2.7/lib/python2.7/site-packages (from dask_ml)\n",
      "Requirement already satisfied: scikit-learn>=0.20 in /Users/krishi/Library/Python/2.7/lib/python/site-packages (from dask_ml)\n",
      "Requirement already satisfied: distributed>=1.25.0 in /Library/Frameworks/Python.framework/Versions/2.7/lib/python2.7/site-packages (from dask_ml)\n",
      "Requirement already satisfied: multipledispatch>=0.4.9 in /Library/Frameworks/Python.framework/Versions/2.7/lib/python2.7/site-packages (from dask_ml)\n",
      "Requirement already satisfied: six in /Library/Frameworks/Python.framework/Versions/2.7/lib/python2.7/site-packages (from dask_ml)\n",
      "Requirement already satisfied: scipy in /Library/Frameworks/Python.framework/Versions/2.7/lib/python2.7/site-packages (from dask_ml)\n",
      "Requirement already satisfied: numba in /Library/Frameworks/Python.framework/Versions/2.7/lib/python2.7/site-packages (from dask_ml)\n",
      "Requirement already satisfied: cloudpickle>=0.2.2 in /Library/Frameworks/Python.framework/Versions/2.7/lib/python2.7/site-packages (from dask-glm->dask_ml)\n",
      "Requirement already satisfied: toolz>=0.7.3; extra == \"array\" in /Library/Frameworks/Python.framework/Versions/2.7/lib/python2.7/site-packages (from dask[array]>=1.0.0->dask_ml)\n",
      "Requirement already satisfied: python-dateutil>=2.5.0 in /Library/Frameworks/Python.framework/Versions/2.7/lib/python2.7/site-packages (from pandas>=0.23.4->dask_ml)\n",
      "Requirement already satisfied: pytz>=2011k in /Library/Frameworks/Python.framework/Versions/2.7/lib/python2.7/site-packages (from pandas>=0.23.4->dask_ml)\n",
      "Requirement already satisfied: pyparsing>=2.0.2 in /Library/Frameworks/Python.framework/Versions/2.7/lib/python2.7/site-packages (from packaging->dask_ml)\n",
      "Requirement already satisfied: zict>=0.1.3 in /Library/Frameworks/Python.framework/Versions/2.7/lib/python2.7/site-packages (from distributed>=1.25.0->dask_ml)\n",
      "Requirement already satisfied: tornado>=5 in /Library/Frameworks/Python.framework/Versions/2.7/lib/python2.7/site-packages (from distributed>=1.25.0->dask_ml)\n",
      "Requirement already satisfied: psutil>=5.0 in /Users/krishi/Library/Python/2.7/lib/python/site-packages (from distributed>=1.25.0->dask_ml)\n",
      "Requirement already satisfied: msgpack in /Library/Frameworks/Python.framework/Versions/2.7/lib/python2.7/site-packages (from distributed>=1.25.0->dask_ml)\n",
      "Requirement already satisfied: singledispatch; python_version < \"3.4\" in /Library/Frameworks/Python.framework/Versions/2.7/lib/python2.7/site-packages (from distributed>=1.25.0->dask_ml)\n",
      "Requirement already satisfied: pyyaml in /Library/Frameworks/Python.framework/Versions/2.7/lib/python2.7/site-packages (from distributed>=1.25.0->dask_ml)\n",
      "Requirement already satisfied: futures; python_version < \"3.0\" in /Library/Frameworks/Python.framework/Versions/2.7/lib/python2.7/site-packages (from distributed>=1.25.0->dask_ml)\n",
      "Requirement already satisfied: tblib in /Library/Frameworks/Python.framework/Versions/2.7/lib/python2.7/site-packages (from distributed>=1.25.0->dask_ml)\n",
      "Requirement already satisfied: click>=6.6 in /Library/Frameworks/Python.framework/Versions/2.7/lib/python2.7/site-packages (from distributed>=1.25.0->dask_ml)\n",
      "Requirement already satisfied: sortedcontainers!=2.0.0,!=2.0.1 in /Library/Frameworks/Python.framework/Versions/2.7/lib/python2.7/site-packages (from distributed>=1.25.0->dask_ml)\n",
      "Requirement already satisfied: setuptools in /Library/Frameworks/Python.framework/Versions/2.7/lib/python2.7/site-packages (from numba->dask_ml)\n",
      "Requirement already satisfied: funcsigs; python_version < \"3.3\" in /Library/Frameworks/Python.framework/Versions/2.7/lib/python2.7/site-packages (from numba->dask_ml)\n",
      "Requirement already satisfied: enum34; python_version < \"3.4\" in /Library/Frameworks/Python.framework/Versions/2.7/lib/python2.7/site-packages (from numba->dask_ml)\n",
      "Requirement already satisfied: llvmlite>=0.31.0dev0 in /Library/Frameworks/Python.framework/Versions/2.7/lib/python2.7/site-packages (from numba->dask_ml)\n",
      "Requirement already satisfied: heapdict in /Library/Frameworks/Python.framework/Versions/2.7/lib/python2.7/site-packages (from zict>=0.1.3->distributed>=1.25.0->dask_ml)\n",
      "Requirement already satisfied: backports_abc>=0.4 in /Library/Frameworks/Python.framework/Versions/2.7/lib/python2.7/site-packages (from tornado>=5->distributed>=1.25.0->dask_ml)\n",
      "\u001b[33mYou are using pip version 9.0.3, however version 20.0.2 is available.\n",
      "You should consider upgrading via the 'pip install --upgrade pip' command.\u001b[0m\n"
     ]
    }
   ],
   "source": [
    "%matplotlib inline\n",
    "!pip install dask_ml"
   ]
  },
  {
   "cell_type": "code",
   "execution_count": 2,
   "metadata": {},
   "outputs": [],
   "source": [
    "import pandas as pd\n",
    "import numpy as np\n",
    "from sklearn.model_selection import train_test_split\n",
    "from sklearn.tree import DecisionTreeClassifier"
   ]
  },
  {
   "cell_type": "code",
   "execution_count": null,
   "metadata": {},
   "outputs": [],
   "source": [
    "from dask.distributed import Client\n",
    "client = Client()  # start a local Dask client\n",
    "\n",
    "import dask_ml.joblib\n",
    "from sklearn.externals import joblib\n",
    "\n",
    "with joblib.parallel_backend('dask'):\n",
    "    #Load and split the data\n",
    "    training_data = pd.read_csv(\"train.csv\")\n",
    "    testing_data = pd.read_csv(\"test.csv\")\n",
    "    costa_rica_data = training_data.drop(['Target'], axis=1)\n",
    "    costa_rica_target = training_data['Target']\n",
    "\n",
    "    #Clean the data to either replace or remove string columns\n",
    "    costa_rica_data.select_dtypes(exclude=[np.number]).head()\n",
    "    costa_rica_data = costa_rica_data.select_dtypes(include=[np.number], exclude=[np.object]).fillna(0)\n",
    "    \n",
    "    X_train, X_test, y_train, y_test = train_test_split(costa_rica_data, costa_rica_target, test_size= 0.2, random_state=42)\n",
    "    clf = DecisionTreeClassifier(criterion='gini', max_depth=60)\n",
    "    model = clf.fit(X_train, y_train)\n",
    "    train_score = model.score(X_train, y_train)\n",
    "    val_score = model.score(X_test, y_test)\n",
    "    print('Decision Tree Train Accuracy: '+str(round(train_score*100,2))+'%')\n",
    "    print('Decision Tree Validation Accuracy: '+str(round(val_score*100,2))+'%')"
   ]
  },
  {
   "cell_type": "code",
   "execution_count": null,
   "metadata": {},
   "outputs": [],
   "source": []
  }
 ],
 "metadata": {
  "kernelspec": {
   "display_name": "Python 3",
   "language": "python",
   "name": "python3"
  },
  "language_info": {
   "codemirror_mode": {
    "name": "ipython",
    "version": 2
   },
   "file_extension": ".py",
   "mimetype": "text/x-python",
   "name": "python",
   "nbconvert_exporter": "python",
   "pygments_lexer": "ipython2",
   "version": "2.7.15"
  }
 },
 "nbformat": 4,
 "nbformat_minor": 2
}
