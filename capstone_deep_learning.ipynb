{
 "cells": [
  {
   "cell_type": "code",
   "execution_count": 1,
   "metadata": {},
   "outputs": [],
   "source": [
    "import pandas as pd\n",
    "import numpy as np\n",
    "from sklearn.model_selection import train_test_split\n",
    "import tensorflow as tf\n",
    "from tensorflow import keras\n",
    "from tensorflow.keras import layers\n",
    "from tensorflow.keras.layers import Dense\n",
    "from tensorflow.keras.wrappers.scikit_learn import KerasClassifier\n",
    "from sklearn.model_selection import KFold\n",
    "from sklearn.model_selection import cross_val_score\n",
    "from sklearn.model_selection import GridSearchCV "
   ]
  },
  {
   "cell_type": "code",
   "execution_count": 2,
   "metadata": {},
   "outputs": [],
   "source": [
    "#Load and split the data\n",
    "training_data = pd.read_csv('train.csv')\n",
    "data = training_data.drop(['Target'], axis=1)\n",
    "target = training_data['Target']"
   ]
  },
  {
   "cell_type": "code",
   "execution_count": 3,
   "metadata": {},
   "outputs": [],
   "source": [
    "#Clean the data to either replace or remove string columns\n",
    "data.select_dtypes(exclude=[np.number]).head()\n",
    "data = data.select_dtypes(include=[np.number], exclude=[np.object]).fillna(0)"
   ]
  },
  {
   "cell_type": "code",
   "execution_count": 4,
   "metadata": {},
   "outputs": [],
   "source": [
    "#Extract feature names\n",
    "cols = data.columns.values\n",
    "dicts = dict(zip(cols, range(len(cols))))\n",
    "\n",
    "features = []\n",
    "for key in dicts:\n",
    "    if dicts[key] in [98, 135, 134, 131, 118, 133, 109, 132, 94, 2]:\n",
    "        features.append(key)"
   ]
  },
  {
   "cell_type": "code",
   "execution_count": 5,
   "metadata": {},
   "outputs": [],
   "source": [
    "#Define train and test data sets\n",
    "X_train, X_test, y_train, y_test = train_test_split(data[features], target, test_size= 0.2, random_state=42)"
   ]
  },
  {
   "cell_type": "code",
   "execution_count": null,
   "metadata": {},
   "outputs": [],
   "source": [
    "#Define baseline deep learning model \n",
    "def baseline_model():\n",
    "    model = tf.keras.Sequential()\n",
    "    model.add(Dense(4, input_dim=10, activation='relu'))\n",
    "    model.add(Dense(4, activation='softmax'))\n",
    "    model.compile(loss='categorical_crossentropy', optimizer='adam', metrics=['accuracy'])\n",
    "    return model"
   ]
  },
  {
   "cell_type": "code",
   "execution_count": null,
   "metadata": {},
   "outputs": [],
   "source": [
    "estimator = KerasClassifier(build_fn=baseline_model, \n",
    "                            epochs=20, \n",
    "                            batch_size=5,\n",
    "                            verbose=0)"
   ]
  },
  {
   "cell_type": "code",
   "execution_count": null,
   "metadata": {},
   "outputs": [],
   "source": [
    "kfold = KFold(n_splits=10, shuffle=True)"
   ]
  },
  {
   "cell_type": "code",
   "execution_count": null,
   "metadata": {},
   "outputs": [],
   "source": [
    "results = cross_val_score(estimator, X_train, y_train, cv=kfold)\n",
    "print(results)"
   ]
  },
  {
   "cell_type": "code",
   "execution_count": null,
   "metadata": {},
   "outputs": [],
   "source": [
    "print('Accuracy for Baseline Model: ' + str(round(results.mean()*100,2)) + '%')"
   ]
  },
  {
   "cell_type": "code",
   "execution_count": null,
   "metadata": {},
   "outputs": [],
   "source": [
    "#Define revised deep learning model 1\n",
    "def revised_model():\n",
    "    model = tf.keras.Sequential()\n",
    "    model.add(Dense(4, input_dim=10, activation='relu'))\n",
    "    model.add(Dense(4, activation='relu'))\n",
    "    model.add(Dense(4, activation='softmax'))\n",
    "    model.compile(loss='categorical_crossentropy', optimizer='adam', metrics=['accuracy'])\n",
    "    return model"
   ]
  },
  {
   "cell_type": "code",
   "execution_count": null,
   "metadata": {},
   "outputs": [],
   "source": [
    "estimator = KerasClassifier(build_fn=revised_model, \n",
    "                            epochs=20, \n",
    "                            batch_size=5,\n",
    "                            verbose=0)"
   ]
  },
  {
   "cell_type": "code",
   "execution_count": null,
   "metadata": {},
   "outputs": [],
   "source": [
    "kfold = KFold(n_splits=10, shuffle=True)"
   ]
  },
  {
   "cell_type": "code",
   "execution_count": null,
   "metadata": {},
   "outputs": [],
   "source": [
    "results = cross_val_score(estimator, X_train, y_train, cv=kfold)\n",
    "print(results)"
   ]
  },
  {
   "cell_type": "code",
   "execution_count": null,
   "metadata": {},
   "outputs": [],
   "source": [
    "print('Accuracy for Revised Model 1: ' + str(round(results.mean()*100,2)) + '%')"
   ]
  },
  {
   "cell_type": "code",
   "execution_count": null,
   "metadata": {},
   "outputs": [],
   "source": [
    "#Define revised deep learning model 2\n",
    "def revised_model():\n",
    "    model = tf.keras.Sequential()\n",
    "    model.add(Dense(4, input_dim=10, activation='relu'))\n",
    "    model.add(Dense(4, activation='relu'))\n",
    "    model.add(Dense(4, activation='relu'))\n",
    "    model.add(Dense(4, activation='softmax'))\n",
    "    model.compile(loss='categorical_crossentropy', optimizer='adam', metrics=['accuracy'])\n",
    "    return model"
   ]
  },
  {
   "cell_type": "code",
   "execution_count": null,
   "metadata": {},
   "outputs": [],
   "source": [
    "estimator = KerasClassifier(build_fn=revised_model, \n",
    "                            epochs=20, \n",
    "                            batch_size=5,\n",
    "                            verbose=0)"
   ]
  },
  {
   "cell_type": "code",
   "execution_count": null,
   "metadata": {},
   "outputs": [],
   "source": [
    "kfold = KFold(n_splits=10, shuffle=True)"
   ]
  },
  {
   "cell_type": "code",
   "execution_count": null,
   "metadata": {},
   "outputs": [],
   "source": [
    "results = cross_val_score(estimator, X_train, y_train, cv=kfold)\n",
    "print(results)"
   ]
  },
  {
   "cell_type": "code",
   "execution_count": null,
   "metadata": {},
   "outputs": [],
   "source": [
    "print('Accuracy for Revised Model 2: ' + str(round(results.mean()*100,2)) + '%')"
   ]
  },
  {
   "cell_type": "code",
   "execution_count": null,
   "metadata": {},
   "outputs": [],
   "source": [
    "#Define revised deep learning model 3\n",
    "def revised_model():\n",
    "    model = tf.keras.Sequential()\n",
    "    model.add(Dense(8, input_dim=10, activation='relu'))\n",
    "    model.add(Dense(6, activation='relu'))\n",
    "    model.add(Dense(4, activation='relu'))\n",
    "    model.add(Dense(4, activation='softmax'))\n",
    "    model.compile(loss='categorical_crossentropy', optimizer='adam', metrics=['accuracy'])\n",
    "    return model"
   ]
  },
  {
   "cell_type": "code",
   "execution_count": null,
   "metadata": {},
   "outputs": [],
   "source": [
    "estimator = KerasClassifier(build_fn=revised_model, \n",
    "                            epochs=20, \n",
    "                            batch_size=5,\n",
    "                            verbose=0)"
   ]
  },
  {
   "cell_type": "code",
   "execution_count": null,
   "metadata": {},
   "outputs": [],
   "source": [
    "kfold = KFold(n_splits=10, shuffle=True)"
   ]
  },
  {
   "cell_type": "code",
   "execution_count": null,
   "metadata": {
    "scrolled": true
   },
   "outputs": [],
   "source": [
    "results = cross_val_score(estimator, X_train, y_train, cv=kfold)\n",
    "print(results)"
   ]
  },
  {
   "cell_type": "code",
   "execution_count": null,
   "metadata": {},
   "outputs": [],
   "source": [
    "print('Accuracy for Revised Model 3: ' + str(round(results.mean()*100,2)) + '%')"
   ]
  },
  {
   "cell_type": "code",
   "execution_count": null,
   "metadata": {},
   "outputs": [],
   "source": [
    "#Perform grid search to tune scikit-learn hyperparameters\n",
    "batch_size = [10, 20, 40, 60, 80, 100]\n",
    "epochs = [10, 50, 100]\n",
    "param_grid = dict(batch_size=batch_size, epochs=epochs)\n",
    "grid = GridSearchCV(estimator=estimator, param_grid=param_grid, n_jobs=-1, cv=kfold)\n",
    "grid_result = grid.fit(X_train, y_train)\n",
    "\n",
    "print(\"Best: %f using %s\" % (grid_result.best_score_, grid_result.best_params_))\n",
    "means = grid_result.cv_results_['mean_test_score']\n",
    "stds = grid_result.cv_results_['std_test_score']\n",
    "params = grid_result.cv_results_['params']\n",
    "for mean, stdev, param in zip(means, stds, params):\n",
    "    print(\"%f (%f) with: %r\" % (mean, stdev, param))"
   ]
  },
  {
   "cell_type": "code",
   "execution_count": 17,
   "metadata": {},
   "outputs": [],
   "source": [
    "#Define revised deep learning model 4\n",
    "def revised_model():\n",
    "    model = tf.keras.Sequential()\n",
    "    model.add(Dense(8, input_dim=10, activation='relu'))\n",
    "    model.add(Dense(6, activation='relu'))\n",
    "    model.add(Dense(4, activation='relu'))\n",
    "    model.add(Dense(4, activation='softmax'))\n",
    "    model.compile(loss='hinge', optimizer='adam', metrics=['accuracy'])\n",
    "    return model"
   ]
  },
  {
   "cell_type": "code",
   "execution_count": 18,
   "metadata": {},
   "outputs": [],
   "source": [
    "estimator = KerasClassifier(build_fn=revised_model, \n",
    "                            epochs=20, \n",
    "                            batch_size=5,\n",
    "                            verbose=0)"
   ]
  },
  {
   "cell_type": "code",
   "execution_count": 19,
   "metadata": {},
   "outputs": [],
   "source": [
    "kfold = KFold(n_splits=10, shuffle=True)"
   ]
  },
  {
   "cell_type": "code",
   "execution_count": 20,
   "metadata": {},
   "outputs": [
    {
     "name": "stdout",
     "output_type": "stream",
     "text": [
      "[0.96209151 0.         0.00653595 0.         0.00130719 0.0013089\n",
      " 0.         0.         0.0065445  0.0026178 ]\n"
     ]
    }
   ],
   "source": [
    "results = cross_val_score(estimator, X_train, y_train, cv=kfold)\n",
    "print(results)"
   ]
  },
  {
   "cell_type": "code",
   "execution_count": 21,
   "metadata": {},
   "outputs": [
    {
     "name": "stdout",
     "output_type": "stream",
     "text": [
      "Accuracy for Revised Model 4: 9.8%\n"
     ]
    }
   ],
   "source": [
    "print('Accuracy for Revised Model 4: ' + str(round(results.mean()*100,2)) + '%')"
   ]
  },
  {
   "cell_type": "code",
   "execution_count": 22,
   "metadata": {},
   "outputs": [],
   "source": [
    "#Define revised deep learning model 5\n",
    "def revised_model():\n",
    "    model = tf.keras.Sequential()\n",
    "    model.add(Dense(8, input_dim=10, activation='relu'))\n",
    "    model.add(Dense(6, activation='relu'))\n",
    "    model.add(Dense(4, activation='relu'))\n",
    "    model.add(Dense(4, activation='softmax'))\n",
    "    model.compile(loss='categorical_hinge', optimizer='adam', metrics=['accuracy'])\n",
    "    return model"
   ]
  },
  {
   "cell_type": "code",
   "execution_count": 23,
   "metadata": {},
   "outputs": [],
   "source": [
    "estimator = KerasClassifier(build_fn=revised_model, \n",
    "                            epochs=20, \n",
    "                            batch_size=5,\n",
    "                            verbose=0)"
   ]
  },
  {
   "cell_type": "code",
   "execution_count": 24,
   "metadata": {},
   "outputs": [],
   "source": [
    "kfold = KFold(n_splits=10, shuffle=True)"
   ]
  },
  {
   "cell_type": "code",
   "execution_count": 25,
   "metadata": {},
   "outputs": [
    {
     "name": "stdout",
     "output_type": "stream",
     "text": [
      "[0.         0.         0.98562092 0.         0.         0.\n",
      " 0.0013089  0.0052356  0.         0.        ]\n"
     ]
    }
   ],
   "source": [
    "results = cross_val_score(estimator, X_train, y_train, cv=kfold)\n",
    "print(results)"
   ]
  },
  {
   "cell_type": "code",
   "execution_count": 26,
   "metadata": {},
   "outputs": [
    {
     "name": "stdout",
     "output_type": "stream",
     "text": [
      "Accuracy for Revised Model 5: 9.92%\n"
     ]
    }
   ],
   "source": [
    "print('Accuracy for Revised Model 5: ' + str(round(results.mean()*100,2)) + '%')"
   ]
  },
  {
   "cell_type": "code",
   "execution_count": 40,
   "metadata": {},
   "outputs": [],
   "source": [
    "#Define revised deep learning model 6\n",
    "def revised_model():\n",
    "    model = tf.keras.Sequential()\n",
    "    model.add(Dense(8, input_dim=10, activation='relu'))\n",
    "    model.add(Dense(6, activation='relu'))\n",
    "    model.add(Dense(4, activation='relu'))\n",
    "    model.add(Dense(4, activation='softmax'))\n",
    "    model.compile(loss='categorical_hinge', optimizer='adam', metrics=['accuracy'])\n",
    "    return model"
   ]
  },
  {
   "cell_type": "code",
   "execution_count": 41,
   "metadata": {},
   "outputs": [],
   "source": [
    "estimator = KerasClassifier(build_fn=revised_model, \n",
    "                            epochs=20, \n",
    "                            batch_size=5,\n",
    "                            verbose=0)"
   ]
  },
  {
   "cell_type": "code",
   "execution_count": 42,
   "metadata": {},
   "outputs": [],
   "source": [
    "kfold = KFold(n_splits=10, shuffle=True)"
   ]
  },
  {
   "cell_type": "code",
   "execution_count": 44,
   "metadata": {},
   "outputs": [
    {
     "name": "stdout",
     "output_type": "stream",
     "text": [
      "[0.         0.00261438 0.         0.         0.00653595 1.\n",
      " 0.         0.         0.05235602 0.        ]\n"
     ]
    }
   ],
   "source": [
    "results = cross_val_score(estimator, X_train, y_train, cv=kfold)\n",
    "print(results)"
   ]
  },
  {
   "cell_type": "code",
   "execution_count": 45,
   "metadata": {},
   "outputs": [
    {
     "name": "stdout",
     "output_type": "stream",
     "text": [
      "Accuracy for Revised Model 6: 10.62%\n"
     ]
    }
   ],
   "source": [
    "print('Accuracy for Revised Model 6: ' + str(round(results.mean()*100,2)) + '%')"
   ]
  },
  {
   "cell_type": "code",
   "execution_count": 51,
   "metadata": {},
   "outputs": [],
   "source": [
    "#Define revised deep learning model 7\n",
    "def revised_model():\n",
    "    model = tf.keras.Sequential()\n",
    "    model.add(Dense(8, input_dim=10, activation='relu'))\n",
    "    model.add(Dense(6, activation='relu'))\n",
    "    model.add(Dense(4, activation='relu'))\n",
    "    model.add(Dense(4, activation='softmax'))\n",
    "    model.compile(loss='sparse_categorical_crossentropy', optimizer='adam', metrics=['accuracy'])\n",
    "    return model"
   ]
  },
  {
   "cell_type": "code",
   "execution_count": 52,
   "metadata": {},
   "outputs": [],
   "source": [
    "estimator = KerasClassifier(build_fn=revised_model, \n",
    "                            epochs=20, \n",
    "                            batch_size=5,\n",
    "                            verbose=0)"
   ]
  },
  {
   "cell_type": "code",
   "execution_count": 53,
   "metadata": {},
   "outputs": [],
   "source": [
    "kfold = KFold(n_splits=10, shuffle=True)"
   ]
  },
  {
   "cell_type": "code",
   "execution_count": 55,
   "metadata": {},
   "outputs": [
    {
     "name": "stdout",
     "output_type": "stream",
     "text": [
      "[0.6901961  0.65620917 0.66143793 0.65098041 0.65359479 0.66753924\n",
      " 0.70287961 0.61780107 0.64005238 0.66099477]\n"
     ]
    }
   ],
   "source": [
    "results = cross_val_score(estimator, X_train, y_train, cv=kfold)\n",
    "print(results)"
   ]
  },
  {
   "cell_type": "code",
   "execution_count": 56,
   "metadata": {},
   "outputs": [
    {
     "name": "stdout",
     "output_type": "stream",
     "text": [
      "Accuracy for Revised Model 7: 66.02%\n"
     ]
    }
   ],
   "source": [
    "print('Accuracy for Revised Model 7: ' + str(round(results.mean()*100,2)) + '%')"
   ]
  },
  {
   "cell_type": "code",
   "execution_count": 57,
   "metadata": {},
   "outputs": [],
   "source": [
    "#Define revised deep learning model 8\n",
    "def revised_model():\n",
    "    model = tf.keras.Sequential()\n",
    "    model.add(Dense(8, input_dim=10, activation='relu'))\n",
    "    model.add(Dense(6, activation='relu'))\n",
    "    model.add(Dense(4, activation='relu'))\n",
    "    model.add(Dense(4, activation='softmax'))\n",
    "    model.compile(loss='sparse_categorical_crossentropy', optimizer='nadam', metrics=['accuracy'])\n",
    "    return model"
   ]
  },
  {
   "cell_type": "code",
   "execution_count": 58,
   "metadata": {},
   "outputs": [],
   "source": [
    "estimator = KerasClassifier(build_fn=revised_model, \n",
    "                            epochs=20, \n",
    "                            batch_size=5,\n",
    "                            verbose=0)"
   ]
  },
  {
   "cell_type": "code",
   "execution_count": 59,
   "metadata": {},
   "outputs": [],
   "source": [
    "kfold = KFold(n_splits=10, shuffle=True)"
   ]
  },
  {
   "cell_type": "code",
   "execution_count": 60,
   "metadata": {},
   "outputs": [
    {
     "name": "stdout",
     "output_type": "stream",
     "text": [
      "[0.69150329 0.64967322 0.66143793 0.62222224 0.62614381 0.68193716\n",
      " 0.65445024 0.65968585 0.66492146 0.63612568]\n"
     ]
    }
   ],
   "source": [
    "results = cross_val_score(estimator, X_train, y_train, cv=kfold)\n",
    "print(results)"
   ]
  },
  {
   "cell_type": "code",
   "execution_count": 61,
   "metadata": {},
   "outputs": [
    {
     "name": "stdout",
     "output_type": "stream",
     "text": [
      "Accuracy for Revised Model 8: 65.48%\n"
     ]
    }
   ],
   "source": [
    "print('Accuracy for Revised Model 8: ' + str(round(results.mean()*100,2)) + '%')"
   ]
  },
  {
   "cell_type": "code",
   "execution_count": 62,
   "metadata": {},
   "outputs": [],
   "source": [
    "#Define revised deep learning model 9\n",
    "def revised_model():\n",
    "    model = tf.keras.Sequential()\n",
    "    model.add(Dense(8, input_dim=10, activation='relu'))\n",
    "    model.add(Dense(6, activation='relu'))\n",
    "    model.add(Dense(4, activation='relu'))\n",
    "    model.add(Dense(4, activation='softmax'))\n",
    "    model.compile(loss='sparse_categorical_crossentropy', optimizer='nadam', metrics=['accuracy'])\n",
    "    return model"
   ]
  },
  {
   "cell_type": "code",
   "execution_count": 63,
   "metadata": {},
   "outputs": [],
   "source": [
    "estimator = KerasClassifier(build_fn=revised_model, \n",
    "                            epochs=20, \n",
    "                            batch_size=8,\n",
    "                            verbose=0)"
   ]
  },
  {
   "cell_type": "code",
   "execution_count": 64,
   "metadata": {},
   "outputs": [],
   "source": [
    "kfold = KFold(n_splits=10, shuffle=True)"
   ]
  },
  {
   "cell_type": "code",
   "execution_count": 65,
   "metadata": {},
   "outputs": [
    {
     "name": "stdout",
     "output_type": "stream",
     "text": [
      "[0.66666669 0.64705884 0.67189544 0.65098041 0.65490198 0.68455499\n",
      " 0.64267015 0.67146599 0.67539269 0.61387432]\n"
     ]
    }
   ],
   "source": [
    "results = cross_val_score(estimator, X_train, y_train, cv=kfold)\n",
    "print(results)"
   ]
  },
  {
   "cell_type": "code",
   "execution_count": 66,
   "metadata": {},
   "outputs": [
    {
     "name": "stdout",
     "output_type": "stream",
     "text": [
      "Accuracy for Revised Model 9: 65.79%\n"
     ]
    }
   ],
   "source": [
    "print('Accuracy for Revised Model 9: ' + str(round(results.mean()*100,2)) + '%')"
   ]
  },
  {
   "cell_type": "code",
   "execution_count": 67,
   "metadata": {},
   "outputs": [],
   "source": [
    "#Define revised deep learning model 10\n",
    "def revised_model():\n",
    "    model = tf.keras.Sequential()\n",
    "    model.add(Dense(8, input_dim=10, activation='relu'))\n",
    "    model.add(Dense(6, activation='relu'))\n",
    "    model.add(Dense(4, activation='relu'))\n",
    "    model.add(Dense(4, activation='softmax'))\n",
    "    model.compile(loss='sparse_categorical_crossentropy', optimizer='adam', metrics=['accuracy'])\n",
    "    return model"
   ]
  },
  {
   "cell_type": "code",
   "execution_count": 68,
   "metadata": {},
   "outputs": [],
   "source": [
    "estimator = KerasClassifier(build_fn=revised_model, \n",
    "                            epochs=20, \n",
    "                            batch_size=8,\n",
    "                            verbose=0)"
   ]
  },
  {
   "cell_type": "code",
   "execution_count": 69,
   "metadata": {},
   "outputs": [],
   "source": [
    "kfold = KFold(n_splits=10, shuffle=True)"
   ]
  },
  {
   "cell_type": "code",
   "execution_count": 70,
   "metadata": {},
   "outputs": [
    {
     "name": "stdout",
     "output_type": "stream",
     "text": [
      "[0.64705884 0.6405229  0.64444447 0.65490198 0.66013074 0.64528793\n",
      " 0.68586385 0.67801046 0.65314138 0.66753924]\n"
     ]
    }
   ],
   "source": [
    "results = cross_val_score(estimator, X_train, y_train, cv=kfold)\n",
    "print(results)"
   ]
  },
  {
   "cell_type": "code",
   "execution_count": 71,
   "metadata": {},
   "outputs": [
    {
     "name": "stdout",
     "output_type": "stream",
     "text": [
      "Accuracy for Revised Model 10: 65.77%\n"
     ]
    }
   ],
   "source": [
    "print('Accuracy for Revised Model 10: ' + str(round(results.mean()*100,2)) + '%')"
   ]
  },
  {
   "cell_type": "code",
   "execution_count": 72,
   "metadata": {},
   "outputs": [],
   "source": [
    "#Define revised deep learning model 11\n",
    "def revised_model():\n",
    "    model = tf.keras.Sequential()\n",
    "    model.add(Dense(8, input_dim=10, activation='relu'))\n",
    "    model.add(Dense(6, activation='relu'))\n",
    "    model.add(Dense(4, activation='relu'))\n",
    "    model.add(Dense(4, activation='softmax'))\n",
    "    model.compile(loss='categorical_crossentropy', optimizer='adam', metrics=['accuracy'])\n",
    "    return model"
   ]
  },
  {
   "cell_type": "code",
   "execution_count": 73,
   "metadata": {},
   "outputs": [],
   "source": [
    "estimator = KerasClassifier(build_fn=revised_model, \n",
    "                            epochs=20, \n",
    "                            batch_size=8,\n",
    "                            verbose=0)"
   ]
  },
  {
   "cell_type": "code",
   "execution_count": 74,
   "metadata": {},
   "outputs": [],
   "source": [
    "kfold = KFold(n_splits=10, shuffle=True)"
   ]
  },
  {
   "cell_type": "code",
   "execution_count": 75,
   "metadata": {},
   "outputs": [
    {
     "name": "stdout",
     "output_type": "stream",
     "text": [
      "[0.67320263 0.66405231 0.65882355 0.6405229  0.66143793 0.66492146\n",
      " 0.65575916 0.68848169 0.61125654 0.64267015]\n"
     ]
    }
   ],
   "source": [
    "results = cross_val_score(estimator, X_train, y_train, cv=kfold)\n",
    "print(results)"
   ]
  },
  {
   "cell_type": "code",
   "execution_count": 76,
   "metadata": {},
   "outputs": [
    {
     "name": "stdout",
     "output_type": "stream",
     "text": [
      "Accuracy for Revised Model 11: 65.61%\n"
     ]
    }
   ],
   "source": [
    "print('Accuracy for Revised Model 11: ' + str(round(results.mean()*100,2)) + '%')"
   ]
  },
  {
   "cell_type": "code",
   "execution_count": 77,
   "metadata": {},
   "outputs": [],
   "source": [
    "#Define revised deep learning model 12\n",
    "def revised_model():\n",
    "    model = tf.keras.Sequential()\n",
    "    model.add(Dense(8, input_dim=10, activation='relu'))\n",
    "    model.add(Dense(6, activation='relu'))\n",
    "    model.add(Dense(4, activation='relu'))\n",
    "    model.add(Dense(4, activation='softmax'))\n",
    "    model.compile(loss='categorical_crossentropy', optimizer='adam', metrics=['accuracy'])\n",
    "    return model"
   ]
  },
  {
   "cell_type": "code",
   "execution_count": 78,
   "metadata": {},
   "outputs": [],
   "source": [
    "estimator = KerasClassifier(build_fn=revised_model, \n",
    "                            epochs=100, \n",
    "                            batch_size=20,\n",
    "                            verbose=0)"
   ]
  },
  {
   "cell_type": "code",
   "execution_count": 79,
   "metadata": {},
   "outputs": [],
   "source": [
    "kfold = KFold(n_splits=10, shuffle=True)"
   ]
  },
  {
   "cell_type": "code",
   "execution_count": 80,
   "metadata": {},
   "outputs": [
    {
     "name": "stdout",
     "output_type": "stream",
     "text": [
      "[0.68627453 0.66405231 0.69150329 0.66666669 0.6771242  0.65052354\n",
      " 0.66623038 0.65183246 0.61910993 0.68848169]\n"
     ]
    }
   ],
   "source": [
    "results = cross_val_score(estimator, X_train, y_train, cv=kfold)\n",
    "print(results)"
   ]
  },
  {
   "cell_type": "code",
   "execution_count": 81,
   "metadata": {},
   "outputs": [
    {
     "name": "stdout",
     "output_type": "stream",
     "text": [
      "Accuracy for Revised Model 12: 66.62%\n"
     ]
    }
   ],
   "source": [
    "print('Accuracy for Revised Model 12: ' + str(round(results.mean()*100,2)) + '%')"
   ]
  },
  {
   "cell_type": "code",
   "execution_count": 82,
   "metadata": {},
   "outputs": [],
   "source": [
    "#Define revised deep learning model 13\n",
    "def revised_model():\n",
    "    model = tf.keras.Sequential()\n",
    "    model.add(Dense(8, input_dim=10, activation='relu'))\n",
    "    model.add(Dense(6, activation='relu'))\n",
    "    model.add(Dense(4, activation='relu'))\n",
    "    model.add(Dense(4, activation='softmax'))\n",
    "    model.compile(loss='categorical_crossentropy', optimizer='adam', metrics=['accuracy'])\n",
    "    return model"
   ]
  },
  {
   "cell_type": "code",
   "execution_count": 83,
   "metadata": {},
   "outputs": [],
   "source": [
    "estimator = KerasClassifier(build_fn=revised_model, \n",
    "                            epochs=100, \n",
    "                            batch_size=64,\n",
    "                            verbose=0)"
   ]
  },
  {
   "cell_type": "code",
   "execution_count": 84,
   "metadata": {},
   "outputs": [],
   "source": [
    "kfold = KFold(n_splits=10, shuffle=True)"
   ]
  },
  {
   "cell_type": "code",
   "execution_count": 85,
   "metadata": {},
   "outputs": [
    {
     "name": "stdout",
     "output_type": "stream",
     "text": [
      "[0.64183009 0.6771242  0.65882355 0.68104577 0.66797388 0.64790577\n",
      " 0.64921468 0.67539269 0.65837699 0.67931938]\n"
     ]
    }
   ],
   "source": [
    "results = cross_val_score(estimator, X_train, y_train, cv=kfold)\n",
    "print(results)"
   ]
  },
  {
   "cell_type": "code",
   "execution_count": 86,
   "metadata": {},
   "outputs": [
    {
     "name": "stdout",
     "output_type": "stream",
     "text": [
      "Accuracy for Revised Model 13: 66.37%\n"
     ]
    }
   ],
   "source": [
    "print('Accuracy for Revised Model 13: ' + str(round(results.mean()*100,2)) + '%')"
   ]
  },
  {
   "cell_type": "code",
   "execution_count": 87,
   "metadata": {},
   "outputs": [],
   "source": [
    "#Define revised deep learning model 14\n",
    "def revised_model():\n",
    "    model = tf.keras.Sequential()\n",
    "    model.add(Dense(8, input_dim=10, activation='relu'))\n",
    "    model.add(Dense(6, activation='relu'))\n",
    "    model.add(Dense(4, activation='relu'))\n",
    "    model.add(Dense(4, activation='softmax'))\n",
    "    model.compile(loss='categorical_crossentropy', optimizer='adam', metrics=['accuracy'])\n",
    "    return model"
   ]
  },
  {
   "cell_type": "code",
   "execution_count": 88,
   "metadata": {},
   "outputs": [],
   "source": [
    "estimator = KerasClassifier(build_fn=revised_model, \n",
    "                            epochs=500, \n",
    "                            batch_size=64,\n",
    "                            verbose=0)"
   ]
  },
  {
   "cell_type": "code",
   "execution_count": 89,
   "metadata": {},
   "outputs": [],
   "source": [
    "kfold = KFold(n_splits=10, shuffle=True)"
   ]
  },
  {
   "cell_type": "code",
   "execution_count": 90,
   "metadata": {},
   "outputs": [
    {
     "name": "stdout",
     "output_type": "stream",
     "text": [
      "[0.66274512 0.6901961  0.63267976 0.67581701 0.64575166 0.65837699\n",
      " 0.6937173  0.65575916 0.70157069 0.64921468]\n"
     ]
    }
   ],
   "source": [
    "results = cross_val_score(estimator, X_train, y_train, cv=kfold)\n",
    "print(results)"
   ]
  },
  {
   "cell_type": "code",
   "execution_count": 91,
   "metadata": {},
   "outputs": [
    {
     "name": "stdout",
     "output_type": "stream",
     "text": [
      "Accuracy for Revised Model 14: 66.66%\n"
     ]
    }
   ],
   "source": [
    "print('Accuracy for Revised Model 14: ' + str(round(results.mean()*100,2)) + '%')"
   ]
  },
  {
   "cell_type": "code",
   "execution_count": 92,
   "metadata": {},
   "outputs": [],
   "source": [
    "#Define revised deep learning model 15\n",
    "def revised_model():\n",
    "    model = tf.keras.Sequential()\n",
    "    model.add(Dense(8, input_dim=10, activation='relu'))\n",
    "    model.add(Dense(6, activation='relu'))\n",
    "    model.add(Dense(4, activation='relu'))\n",
    "    model.add(Dense(4, activation='softmax'))\n",
    "    model.compile(loss='categorical_crossentropy', optimizer='adam', metrics=['accuracy'])\n",
    "    return model"
   ]
  },
  {
   "cell_type": "code",
   "execution_count": 93,
   "metadata": {},
   "outputs": [],
   "source": [
    "estimator = KerasClassifier(build_fn=revised_model, \n",
    "                            epochs=250, \n",
    "                            batch_size=132,\n",
    "                            verbose=0)"
   ]
  },
  {
   "cell_type": "code",
   "execution_count": 94,
   "metadata": {},
   "outputs": [],
   "source": [
    "kfold = KFold(n_splits=10, shuffle=True)"
   ]
  },
  {
   "cell_type": "code",
   "execution_count": 95,
   "metadata": {},
   "outputs": [
    {
     "name": "stdout",
     "output_type": "stream",
     "text": [
      "[0.7150327  0.6901961  0.63921571 0.64967322 0.7019608  0.63350785\n",
      " 0.66492146 0.65314138 0.65837699 0.65445024]\n"
     ]
    }
   ],
   "source": [
    "results = cross_val_score(estimator, X_train, y_train, cv=kfold)\n",
    "print(results)"
   ]
  },
  {
   "cell_type": "code",
   "execution_count": 96,
   "metadata": {},
   "outputs": [
    {
     "name": "stdout",
     "output_type": "stream",
     "text": [
      "Accuracy for Revised Model 15: 66.6%\n"
     ]
    }
   ],
   "source": [
    "print('Accuracy for Revised Model 15: ' + str(round(results.mean()*100,2)) + '%')"
   ]
  },
  {
   "cell_type": "code",
   "execution_count": 97,
   "metadata": {},
   "outputs": [],
   "source": [
    "#Define revised deep learning model 16\n",
    "def revised_model():\n",
    "    model = tf.keras.Sequential()\n",
    "    model.add(Dense(8, input_dim=10, activation='relu'))\n",
    "    model.add(Dense(6, activation='relu'))\n",
    "    model.add(Dense(4, activation='relu'))\n",
    "    model.add(Dense(4, activation='softmax'))\n",
    "    model.compile(loss='categorical_crossentropy', optimizer='adam', metrics=['accuracy'])\n",
    "    return model"
   ]
  },
  {
   "cell_type": "code",
   "execution_count": 98,
   "metadata": {},
   "outputs": [],
   "source": [
    "estimator = KerasClassifier(build_fn=revised_model, \n",
    "                            epochs=250, \n",
    "                            batch_size=len(X_train),\n",
    "                            verbose=0)"
   ]
  },
  {
   "cell_type": "code",
   "execution_count": 99,
   "metadata": {},
   "outputs": [],
   "source": [
    "kfold = KFold(n_splits=10, shuffle=True)"
   ]
  },
  {
   "cell_type": "code",
   "execution_count": 100,
   "metadata": {},
   "outputs": [
    {
     "name": "stdout",
     "output_type": "stream",
     "text": [
      "[0.63660133 0.69281048 0.64705884 0.6156863  0.63006538 0.63743454\n",
      " 0.60471207 0.63089007 0.61518323 0.62434554]\n"
     ]
    }
   ],
   "source": [
    "results = cross_val_score(estimator, X_train, y_train, cv=kfold)\n",
    "print(results)"
   ]
  },
  {
   "cell_type": "code",
   "execution_count": 101,
   "metadata": {},
   "outputs": [
    {
     "name": "stdout",
     "output_type": "stream",
     "text": [
      "Accuracy for Revised Model 16: 63.35%\n"
     ]
    }
   ],
   "source": [
    "print('Accuracy for Revised Model 16: ' + str(round(results.mean()*100,2)) + '%')"
   ]
  },
  {
   "cell_type": "code",
   "execution_count": 116,
   "metadata": {},
   "outputs": [],
   "source": [
    "#Define revised deep learning model 17\n",
    "def revised_model():\n",
    "    model = tf.keras.Sequential()\n",
    "    model.add(Dense(8, input_dim=10, activation='relu', kernel_initializer='he_uniform'))\n",
    "    model.add(Dense(6, activation='relu'))\n",
    "    model.add(Dense(5, activation='relu'))\n",
    "    model.add(Dense(5, activation='softmax'))\n",
    "    model.compile(loss='categorical_crossentropy', optimizer='adam', metrics=['accuracy'])\n",
    "    return model"
   ]
  },
  {
   "cell_type": "code",
   "execution_count": 117,
   "metadata": {},
   "outputs": [],
   "source": [
    "estimator = KerasClassifier(build_fn=revised_model, \n",
    "                            epochs=250, \n",
    "                            batch_size=132,\n",
    "                            verbose=0)"
   ]
  },
  {
   "cell_type": "code",
   "execution_count": 118,
   "metadata": {},
   "outputs": [],
   "source": [
    "kfold = KFold(n_splits=10, shuffle=True)"
   ]
  },
  {
   "cell_type": "code",
   "execution_count": 119,
   "metadata": {},
   "outputs": [
    {
     "name": "stdout",
     "output_type": "stream",
     "text": [
      "[0.68496734 0.70065361 0.65882355 0.66013074 0.68235296 0.6806283\n",
      " 0.65575916 0.63612568 0.65575916 0.65706807]\n"
     ]
    }
   ],
   "source": [
    "#Define train and test data sets\n",
    "X_train, X_test, y_train, y_test = train_test_split(data[features], target, test_size= 0.2, random_state=42)\n",
    "y_train = keras.utils.to_categorical(y_train)\n",
    "results = cross_val_score(estimator, X_train, y_train, cv=kfold)\n",
    "print(results)"
   ]
  },
  {
   "cell_type": "code",
   "execution_count": 120,
   "metadata": {},
   "outputs": [
    {
     "name": "stdout",
     "output_type": "stream",
     "text": [
      "Accuracy for Revised Model 17: 66.72%\n"
     ]
    }
   ],
   "source": [
    "print('Accuracy for Revised Model 17: ' + str(round(results.mean()*100,2)) + '%')"
   ]
  },
  {
   "cell_type": "code",
   "execution_count": 121,
   "metadata": {},
   "outputs": [],
   "source": [
    "#Define revised deep learning model 18\n",
    "def revised_model():\n",
    "    model = tf.keras.Sequential()\n",
    "    model.add(Dense(8, input_dim=10, activation='relu', kernel_initializer='he_uniform'))\n",
    "    model.add(Dense(6, activation='relu'))\n",
    "    model.add(Dense(5, activation='relu'))\n",
    "    model.add(Dense(5, activation='softmax'))\n",
    "    model.compile(loss='categorical_crossentropy', optimizer='adam', metrics=['accuracy'])\n",
    "    return model"
   ]
  },
  {
   "cell_type": "code",
   "execution_count": 122,
   "metadata": {},
   "outputs": [],
   "source": [
    "estimator = KerasClassifier(build_fn=revised_model, \n",
    "                            epochs=250, \n",
    "                            batch_size=132,\n",
    "                            verbose=0)"
   ]
  },
  {
   "cell_type": "code",
   "execution_count": 123,
   "metadata": {},
   "outputs": [],
   "source": [
    "kfold = KFold(n_splits=20, shuffle=True)"
   ]
  },
  {
   "cell_type": "code",
   "execution_count": 124,
   "metadata": {},
   "outputs": [
    {
     "name": "stdout",
     "output_type": "stream",
     "text": [
      "[0.6710183  0.65013057 0.67362922 0.65013057 0.66057444 0.64659685\n",
      " 0.68586385 0.64659685 0.62565446 0.7198953  0.62041885 0.67539269\n",
      " 0.67801046 0.65706807 0.71204191 0.63089007 0.66230369 0.65183246\n",
      " 0.6806283  0.65968585]\n"
     ]
    }
   ],
   "source": [
    "results = cross_val_score(estimator, X_train, y_train, cv=kfold)\n",
    "print(results)"
   ]
  },
  {
   "cell_type": "code",
   "execution_count": 125,
   "metadata": {},
   "outputs": [
    {
     "name": "stdout",
     "output_type": "stream",
     "text": [
      "Accuracy for Revised Model 18: 66.29%\n"
     ]
    }
   ],
   "source": [
    "print('Accuracy for Revised Model 18: ' + str(round(results.mean()*100,2)) + '%')"
   ]
  },
  {
   "cell_type": "code",
   "execution_count": 126,
   "metadata": {},
   "outputs": [],
   "source": [
    "#Define revised deep learning model 19\n",
    "def revised_model():\n",
    "    model = tf.keras.Sequential()\n",
    "    model.add(Dense(8, input_dim=10, activation='relu', kernel_initializer='he_uniform'))\n",
    "    model.add(Dense(6, activation='relu'))\n",
    "    model.add(Dense(5, activation='relu'))\n",
    "    model.add(Dense(5, activation='softmax'))\n",
    "    model.compile(loss='categorical_crossentropy', optimizer='adam', metrics=['accuracy'])\n",
    "    return model"
   ]
  },
  {
   "cell_type": "code",
   "execution_count": 127,
   "metadata": {},
   "outputs": [],
   "source": [
    "estimator = KerasClassifier(build_fn=revised_model, \n",
    "                            epochs=250, \n",
    "                            batch_size=164,\n",
    "                            verbose=0)"
   ]
  },
  {
   "cell_type": "code",
   "execution_count": 128,
   "metadata": {},
   "outputs": [],
   "source": [
    "kfold = KFold(n_splits=10, shuffle=True)"
   ]
  },
  {
   "cell_type": "code",
   "execution_count": 129,
   "metadata": {},
   "outputs": [
    {
     "name": "stdout",
     "output_type": "stream",
     "text": [
      "[0.65882355 0.62875819 0.67581701 0.66797388 0.66013074 0.66492146\n",
      " 0.68848169 0.68324608 0.65314138 0.65575916]\n"
     ]
    }
   ],
   "source": [
    "results = cross_val_score(estimator, X_train, y_train, cv=kfold)\n",
    "print(results)"
   ]
  },
  {
   "cell_type": "code",
   "execution_count": 130,
   "metadata": {},
   "outputs": [
    {
     "name": "stdout",
     "output_type": "stream",
     "text": [
      "Accuracy for Revised Model 19: 66.37%\n"
     ]
    }
   ],
   "source": [
    "print('Accuracy for Revised Model 19: ' + str(round(results.mean()*100,2)) + '%')"
   ]
  },
  {
   "cell_type": "code",
   "execution_count": 131,
   "metadata": {},
   "outputs": [],
   "source": [
    "#Define revised deep learning model 20\n",
    "def revised_model():\n",
    "    model = tf.keras.Sequential()\n",
    "    model.add(Dense(8, input_dim=10, activation='relu', kernel_initializer='he_uniform'))\n",
    "    model.add(Dense(6, activation='relu'))\n",
    "    model.add(Dense(5, activation='relu'))\n",
    "    model.add(Dense(5, activation='softmax'))\n",
    "    model.compile(loss='categorical_crossentropy', optimizer='adam', metrics=['accuracy'])\n",
    "    return model"
   ]
  },
  {
   "cell_type": "code",
   "execution_count": 132,
   "metadata": {},
   "outputs": [],
   "source": [
    "estimator = KerasClassifier(build_fn=revised_model, \n",
    "                            epochs=500, \n",
    "                            batch_size=132,\n",
    "                            verbose=0)"
   ]
  },
  {
   "cell_type": "code",
   "execution_count": 133,
   "metadata": {},
   "outputs": [],
   "source": [
    "kfold = KFold(n_splits=10, shuffle=True)"
   ]
  },
  {
   "cell_type": "code",
   "execution_count": 134,
   "metadata": {},
   "outputs": [
    {
     "name": "stdout",
     "output_type": "stream",
     "text": [
      "[0.65737516 0.66976744 0.6732558  0.69651163 0.64534885 0.68023258\n",
      " 0.64883721 0.65581393 0.62441862 0.69186044]\n"
     ]
    }
   ],
   "source": [
    "#Define train and test data sets\n",
    "X_train, X_test, y_train, y_test = train_test_split(data[features], target, test_size= 0.1, random_state=42)\n",
    "y_train = keras.utils.to_categorical(y_train)\n",
    "results = cross_val_score(estimator, X_train, y_train, cv=kfold)\n",
    "print(results)"
   ]
  },
  {
   "cell_type": "code",
   "execution_count": 135,
   "metadata": {},
   "outputs": [
    {
     "name": "stdout",
     "output_type": "stream",
     "text": [
      "Accuracy for Revised Model 20: 66.43%\n"
     ]
    }
   ],
   "source": [
    "print('Accuracy for Revised Model 20: ' + str(round(results.mean()*100,2)) + '%')"
   ]
  },
  {
   "cell_type": "code",
   "execution_count": 139,
   "metadata": {},
   "outputs": [
    {
     "name": "stdout",
     "output_type": "stream",
     "text": [
      "Train on 8601 samples\n",
      "Epoch 1/500\n",
      "8601/8601 [==============================] - 0s 50us/sample - loss: 21.5833 - accuracy: 0.0219\n",
      "Epoch 2/500\n",
      "8601/8601 [==============================] - 0s 13us/sample - loss: 7.2107 - accuracy: 0.2432\n",
      "Epoch 3/500\n",
      "8601/8601 [==============================] - 0s 11us/sample - loss: 4.2418 - accuracy: 0.5647\n",
      "Epoch 4/500\n",
      "8601/8601 [==============================] - 0s 12us/sample - loss: 2.9562 - accuracy: 0.5767\n",
      "Epoch 5/500\n",
      "8601/8601 [==============================] - ETA: 0s - loss: 2.0063 - accuracy: 0.60 - 0s 11us/sample - loss: 1.8577 - accuracy: 0.5916\n",
      "Epoch 6/500\n",
      "8601/8601 [==============================] - 0s 16us/sample - loss: 1.3702 - accuracy: 0.5290\n",
      "Epoch 7/500\n",
      "8601/8601 [==============================] - 0s 17us/sample - loss: 1.2492 - accuracy: 0.5421\n",
      "Epoch 8/500\n",
      "8601/8601 [==============================] - 0s 14us/sample - loss: 1.1773 - accuracy: 0.5470\n",
      "Epoch 9/500\n",
      "8601/8601 [==============================] - 0s 12us/sample - loss: 1.1377 - accuracy: 0.5730\n",
      "Epoch 10/500\n",
      "8601/8601 [==============================] - 0s 11us/sample - loss: 1.1064 - accuracy: 0.6145\n",
      "Epoch 11/500\n",
      "8601/8601 [==============================] - 0s 11us/sample - loss: 1.0758 - accuracy: 0.6270\n",
      "Epoch 12/500\n",
      "8601/8601 [==============================] - 0s 13us/sample - loss: 1.0490 - accuracy: 0.6298\n",
      "Epoch 13/500\n",
      "8601/8601 [==============================] - 0s 11us/sample - loss: 1.0247 - accuracy: 0.6281\n",
      "Epoch 14/500\n",
      "8601/8601 [==============================] - 0s 14us/sample - loss: 1.0051 - accuracy: 0.6283\n",
      "Epoch 15/500\n",
      "8601/8601 [==============================] - 0s 13us/sample - loss: 0.9903 - accuracy: 0.6285\n",
      "Epoch 16/500\n",
      "8601/8601 [==============================] - 0s 11us/sample - loss: 0.9785 - accuracy: 0.6284\n",
      "Epoch 17/500\n",
      "8601/8601 [==============================] - 0s 11us/sample - loss: 0.9683 - accuracy: 0.6291\n",
      "Epoch 18/500\n",
      "8601/8601 [==============================] - 0s 10us/sample - loss: 0.9601 - accuracy: 0.6299\n",
      "Epoch 19/500\n",
      "8601/8601 [==============================] - 0s 10us/sample - loss: 0.9544 - accuracy: 0.6306\n",
      "Epoch 20/500\n",
      "8601/8601 [==============================] - 0s 14us/sample - loss: 0.9475 - accuracy: 0.6323\n",
      "Epoch 21/500\n",
      "8601/8601 [==============================] - 0s 15us/sample - loss: 0.9406 - accuracy: 0.6326\n",
      "Epoch 22/500\n",
      "8601/8601 [==============================] - 0s 14us/sample - loss: 0.9332 - accuracy: 0.6345\n",
      "Epoch 23/500\n",
      "8601/8601 [==============================] - 0s 14us/sample - loss: 0.9241 - accuracy: 0.6383\n",
      "Epoch 24/500\n",
      "8601/8601 [==============================] - 0s 16us/sample - loss: 0.9177 - accuracy: 0.6410\n",
      "Epoch 25/500\n",
      "8601/8601 [==============================] - 0s 12us/sample - loss: 0.9125 - accuracy: 0.6434\n",
      "Epoch 26/500\n",
      "8601/8601 [==============================] - 0s 12us/sample - loss: 0.9074 - accuracy: 0.6448\n",
      "Epoch 27/500\n",
      "8601/8601 [==============================] - 0s 14us/sample - loss: 0.9049 - accuracy: 0.6448\n",
      "Epoch 28/500\n",
      "8601/8601 [==============================] - 0s 15us/sample - loss: 0.9021 - accuracy: 0.6456\n",
      "Epoch 29/500\n",
      "8601/8601 [==============================] - 0s 15us/sample - loss: 0.8995 - accuracy: 0.6469\n",
      "Epoch 30/500\n",
      "8601/8601 [==============================] - 0s 13us/sample - loss: 0.8964 - accuracy: 0.6506\n",
      "Epoch 31/500\n",
      "8601/8601 [==============================] - 0s 11us/sample - loss: 0.8947 - accuracy: 0.6495\n",
      "Epoch 32/500\n",
      "8601/8601 [==============================] - 0s 16us/sample - loss: 0.8928 - accuracy: 0.6493\n",
      "Epoch 33/500\n",
      "8601/8601 [==============================] - 0s 12us/sample - loss: 0.8908 - accuracy: 0.6498\n",
      "Epoch 34/500\n",
      "8601/8601 [==============================] - 0s 13us/sample - loss: 0.8907 - accuracy: 0.6503\n",
      "Epoch 35/500\n",
      "8601/8601 [==============================] - 0s 11us/sample - loss: 0.8889 - accuracy: 0.6509\n",
      "Epoch 36/500\n",
      "8601/8601 [==============================] - 0s 12us/sample - loss: 0.8888 - accuracy: 0.6518\n",
      "Epoch 37/500\n",
      "8601/8601 [==============================] - 0s 13us/sample - loss: 0.8861 - accuracy: 0.6525\n",
      "Epoch 38/500\n",
      "8601/8601 [==============================] - 0s 12us/sample - loss: 0.8837 - accuracy: 0.6511\n",
      "Epoch 39/500\n",
      "8601/8601 [==============================] - 0s 11us/sample - loss: 0.8833 - accuracy: 0.6522\n",
      "Epoch 40/500\n",
      "8601/8601 [==============================] - 0s 16us/sample - loss: 0.8804 - accuracy: 0.6518\n",
      "Epoch 41/500\n",
      "8601/8601 [==============================] - 0s 13us/sample - loss: 0.8804 - accuracy: 0.6509\n",
      "Epoch 42/500\n",
      "8601/8601 [==============================] - 0s 15us/sample - loss: 0.8790 - accuracy: 0.6510\n",
      "Epoch 43/500\n",
      "8601/8601 [==============================] - 0s 11us/sample - loss: 0.8782 - accuracy: 0.6516\n",
      "Epoch 44/500\n",
      "8601/8601 [==============================] - 0s 16us/sample - loss: 0.8785 - accuracy: 0.6532\n",
      "Epoch 45/500\n",
      "8601/8601 [==============================] - 0s 13us/sample - loss: 0.8769 - accuracy: 0.6526\n",
      "Epoch 46/500\n",
      "8601/8601 [==============================] - 0s 12us/sample - loss: 0.8755 - accuracy: 0.6536\n",
      "Epoch 47/500\n",
      "8601/8601 [==============================] - 0s 13us/sample - loss: 0.8749 - accuracy: 0.6525\n",
      "Epoch 48/500\n",
      "8601/8601 [==============================] - 0s 14us/sample - loss: 0.8741 - accuracy: 0.6539\n",
      "Epoch 49/500\n",
      "8601/8601 [==============================] - 0s 16us/sample - loss: 0.8761 - accuracy: 0.6524\n",
      "Epoch 50/500\n",
      "8601/8601 [==============================] - 0s 12us/sample - loss: 0.8727 - accuracy: 0.6550\n",
      "Epoch 51/500\n",
      "8601/8601 [==============================] - 0s 16us/sample - loss: 0.8717 - accuracy: 0.6511\n",
      "Epoch 52/500\n",
      "8601/8601 [==============================] - 0s 11us/sample - loss: 0.8718 - accuracy: 0.6514\n",
      "Epoch 53/500\n",
      "8601/8601 [==============================] - 0s 12us/sample - loss: 0.8720 - accuracy: 0.6539\n",
      "Epoch 54/500\n",
      "8601/8601 [==============================] - 0s 10us/sample - loss: 0.8702 - accuracy: 0.6542\n",
      "Epoch 55/500\n",
      "8601/8601 [==============================] - 0s 12us/sample - loss: 0.8707 - accuracy: 0.6556\n",
      "Epoch 56/500\n",
      "8601/8601 [==============================] - 0s 11us/sample - loss: 0.8698 - accuracy: 0.6533\n",
      "Epoch 57/500\n",
      "8601/8601 [==============================] - 0s 10us/sample - loss: 0.8687 - accuracy: 0.6533\n",
      "Epoch 58/500\n",
      "8601/8601 [==============================] - 0s 13us/sample - loss: 0.8682 - accuracy: 0.6533\n",
      "Epoch 59/500\n",
      "8601/8601 [==============================] - 0s 12us/sample - loss: 0.8684 - accuracy: 0.6540\n",
      "Epoch 60/500\n",
      "8601/8601 [==============================] - 0s 12us/sample - loss: 0.8673 - accuracy: 0.6566\n",
      "Epoch 61/500\n",
      "8601/8601 [==============================] - 0s 12us/sample - loss: 0.8667 - accuracy: 0.6545\n",
      "Epoch 62/500\n",
      "8601/8601 [==============================] - 0s 11us/sample - loss: 0.8668 - accuracy: 0.6557\n",
      "Epoch 63/500\n",
      "8601/8601 [==============================] - 0s 11us/sample - loss: 0.8668 - accuracy: 0.6581\n",
      "Epoch 64/500\n",
      "8601/8601 [==============================] - 0s 11us/sample - loss: 0.8672 - accuracy: 0.6555\n",
      "Epoch 65/500\n",
      "8601/8601 [==============================] - 0s 13us/sample - loss: 0.8668 - accuracy: 0.6548\n",
      "Epoch 66/500\n",
      "8601/8601 [==============================] - 0s 11us/sample - loss: 0.8647 - accuracy: 0.6567\n",
      "Epoch 67/500\n",
      "8601/8601 [==============================] - 0s 10us/sample - loss: 0.8648 - accuracy: 0.6556\n",
      "Epoch 68/500\n",
      "8601/8601 [==============================] - 0s 14us/sample - loss: 0.8644 - accuracy: 0.6599\n",
      "Epoch 69/500\n",
      "8601/8601 [==============================] - 0s 12us/sample - loss: 0.8629 - accuracy: 0.6561\n",
      "Epoch 70/500\n",
      "8601/8601 [==============================] - 0s 15us/sample - loss: 0.8644 - accuracy: 0.6578\n",
      "Epoch 71/500\n",
      "8601/8601 [==============================] - 0s 13us/sample - loss: 0.8625 - accuracy: 0.6571\n",
      "Epoch 72/500\n",
      "8601/8601 [==============================] - 0s 12us/sample - loss: 0.8643 - accuracy: 0.6585\n",
      "Epoch 73/500\n",
      "8601/8601 [==============================] - 0s 12us/sample - loss: 0.8618 - accuracy: 0.6590\n",
      "Epoch 74/500\n",
      "8601/8601 [==============================] - 0s 11us/sample - loss: 0.8605 - accuracy: 0.6598\n",
      "Epoch 75/500\n",
      "8601/8601 [==============================] - 0s 11us/sample - loss: 0.8597 - accuracy: 0.6620\n",
      "Epoch 76/500\n",
      "8601/8601 [==============================] - 0s 9us/sample - loss: 0.8594 - accuracy: 0.6610\n",
      "Epoch 77/500\n"
     ]
    },
    {
     "name": "stdout",
     "output_type": "stream",
     "text": [
      "8601/8601 [==============================] - 0s 12us/sample - loss: 0.8587 - accuracy: 0.6628\n",
      "Epoch 78/500\n",
      "8601/8601 [==============================] - 0s 11us/sample - loss: 0.8583 - accuracy: 0.6603\n",
      "Epoch 79/500\n",
      "8601/8601 [==============================] - 0s 9us/sample - loss: 0.8574 - accuracy: 0.6635\n",
      "Epoch 80/500\n",
      "8601/8601 [==============================] - 0s 11us/sample - loss: 0.8570 - accuracy: 0.6648\n",
      "Epoch 81/500\n",
      "8601/8601 [==============================] - 0s 10us/sample - loss: 0.8568 - accuracy: 0.6643\n",
      "Epoch 82/500\n",
      "8601/8601 [==============================] - 0s 11us/sample - loss: 0.8549 - accuracy: 0.6659\n",
      "Epoch 83/500\n",
      "8601/8601 [==============================] - 0s 12us/sample - loss: 0.8546 - accuracy: 0.6643\n",
      "Epoch 84/500\n",
      "8601/8601 [==============================] - 0s 11us/sample - loss: 0.8537 - accuracy: 0.6639\n",
      "Epoch 85/500\n",
      "8601/8601 [==============================] - 0s 11us/sample - loss: 0.8545 - accuracy: 0.6642\n",
      "Epoch 86/500\n",
      "8601/8601 [==============================] - 0s 11us/sample - loss: 0.8540 - accuracy: 0.6638\n",
      "Epoch 87/500\n",
      "8601/8601 [==============================] - 0s 10us/sample - loss: 0.8547 - accuracy: 0.6645\n",
      "Epoch 88/500\n",
      "8601/8601 [==============================] - 0s 10us/sample - loss: 0.8528 - accuracy: 0.6639\n",
      "Epoch 89/500\n",
      "8601/8601 [==============================] - 0s 14us/sample - loss: 0.8539 - accuracy: 0.6632\n",
      "Epoch 90/500\n",
      "8601/8601 [==============================] - 0s 13us/sample - loss: 0.8533 - accuracy: 0.6654\n",
      "Epoch 91/500\n",
      "8601/8601 [==============================] - 0s 11us/sample - loss: 0.8519 - accuracy: 0.6633\n",
      "Epoch 92/500\n",
      "8601/8601 [==============================] - 0s 11us/sample - loss: 0.8523 - accuracy: 0.6652\n",
      "Epoch 93/500\n",
      "8601/8601 [==============================] - 0s 11us/sample - loss: 0.8522 - accuracy: 0.6647\n",
      "Epoch 94/500\n",
      "8601/8601 [==============================] - 0s 11us/sample - loss: 0.8514 - accuracy: 0.6640\n",
      "Epoch 95/500\n",
      "8601/8601 [==============================] - 0s 14us/sample - loss: 0.8502 - accuracy: 0.6636\n",
      "Epoch 96/500\n",
      "8601/8601 [==============================] - 0s 11us/sample - loss: 0.8504 - accuracy: 0.6628\n",
      "Epoch 97/500\n",
      "8601/8601 [==============================] - 0s 13us/sample - loss: 0.8511 - accuracy: 0.6625\n",
      "Epoch 98/500\n",
      "8601/8601 [==============================] - 0s 12us/sample - loss: 0.8494 - accuracy: 0.6636\n",
      "Epoch 99/500\n",
      "8601/8601 [==============================] - 0s 9us/sample - loss: 0.8491 - accuracy: 0.6646\n",
      "Epoch 100/500\n",
      "8601/8601 [==============================] - ETA: 0s - loss: 0.8494 - accuracy: 0.66 - 0s 13us/sample - loss: 0.8498 - accuracy: 0.6640\n",
      "Epoch 101/500\n",
      "8601/8601 [==============================] - 0s 12us/sample - loss: 0.8495 - accuracy: 0.6640\n",
      "Epoch 102/500\n",
      "8601/8601 [==============================] - 0s 22us/sample - loss: 0.8477 - accuracy: 0.6638\n",
      "Epoch 103/500\n",
      "8601/8601 [==============================] - 0s 13us/sample - loss: 0.8492 - accuracy: 0.6655\n",
      "Epoch 104/500\n",
      "8601/8601 [==============================] - 0s 11us/sample - loss: 0.8480 - accuracy: 0.6671\n",
      "Epoch 105/500\n",
      "8601/8601 [==============================] - 0s 12us/sample - loss: 0.8503 - accuracy: 0.6657\n",
      "Epoch 106/500\n",
      "8601/8601 [==============================] - 0s 10us/sample - loss: 0.8463 - accuracy: 0.6660\n",
      "Epoch 107/500\n",
      "8601/8601 [==============================] - 0s 13us/sample - loss: 0.8476 - accuracy: 0.6664\n",
      "Epoch 108/500\n",
      "8601/8601 [==============================] - 0s 11us/sample - loss: 0.8470 - accuracy: 0.6653\n",
      "Epoch 109/500\n",
      "8601/8601 [==============================] - 0s 12us/sample - loss: 0.8455 - accuracy: 0.6661\n",
      "Epoch 110/500\n",
      "8601/8601 [==============================] - 0s 11us/sample - loss: 0.8452 - accuracy: 0.6655\n",
      "Epoch 111/500\n",
      "8601/8601 [==============================] - 0s 11us/sample - loss: 0.8451 - accuracy: 0.6671\n",
      "Epoch 112/500\n",
      "8601/8601 [==============================] - 0s 11us/sample - loss: 0.8463 - accuracy: 0.6655\n",
      "Epoch 113/500\n",
      "8601/8601 [==============================] - 0s 10us/sample - loss: 0.8455 - accuracy: 0.6666\n",
      "Epoch 114/500\n",
      "8601/8601 [==============================] - 0s 11us/sample - loss: 0.8459 - accuracy: 0.6667\n",
      "Epoch 115/500\n",
      "8601/8601 [==============================] - 0s 13us/sample - loss: 0.8445 - accuracy: 0.6662\n",
      "Epoch 116/500\n",
      "8601/8601 [==============================] - 0s 19us/sample - loss: 0.8441 - accuracy: 0.6659\n",
      "Epoch 117/500\n",
      "8601/8601 [==============================] - 0s 10us/sample - loss: 0.8432 - accuracy: 0.6668\n",
      "Epoch 118/500\n",
      "8601/8601 [==============================] - 0s 10us/sample - loss: 0.8435 - accuracy: 0.6671\n",
      "Epoch 119/500\n",
      "8601/8601 [==============================] - 0s 23us/sample - loss: 0.8435 - accuracy: 0.6653\n",
      "Epoch 120/500\n",
      "8601/8601 [==============================] - 0s 18us/sample - loss: 0.8444 - accuracy: 0.6653\n",
      "Epoch 121/500\n",
      "8601/8601 [==============================] - 0s 16us/sample - loss: 0.8431 - accuracy: 0.6667\n",
      "Epoch 122/500\n",
      "8601/8601 [==============================] - 0s 9us/sample - loss: 0.8419 - accuracy: 0.6650\n",
      "Epoch 123/500\n",
      "8601/8601 [==============================] - 0s 11us/sample - loss: 0.8444 - accuracy: 0.6669\n",
      "Epoch 124/500\n",
      "8601/8601 [==============================] - 0s 10us/sample - loss: 0.8408 - accuracy: 0.6666\n",
      "Epoch 125/500\n",
      "8601/8601 [==============================] - 0s 10us/sample - loss: 0.8412 - accuracy: 0.6663\n",
      "Epoch 126/500\n",
      "8601/8601 [==============================] - 0s 13us/sample - loss: 0.8417 - accuracy: 0.6664\n",
      "Epoch 127/500\n",
      "8601/8601 [==============================] - 0s 13us/sample - loss: 0.8430 - accuracy: 0.6679\n",
      "Epoch 128/500\n",
      "8601/8601 [==============================] - 0s 11us/sample - loss: 0.8422 - accuracy: 0.6678\n",
      "Epoch 129/500\n",
      "8601/8601 [==============================] - 0s 11us/sample - loss: 0.8390 - accuracy: 0.6672\n",
      "Epoch 130/500\n",
      "8601/8601 [==============================] - 0s 10us/sample - loss: 0.8422 - accuracy: 0.6659\n",
      "Epoch 131/500\n",
      "8601/8601 [==============================] - 0s 10us/sample - loss: 0.8387 - accuracy: 0.6685\n",
      "Epoch 132/500\n",
      "8601/8601 [==============================] - 0s 13us/sample - loss: 0.8391 - accuracy: 0.6679\n",
      "Epoch 133/500\n",
      "8601/8601 [==============================] - 0s 11us/sample - loss: 0.8404 - accuracy: 0.6666\n",
      "Epoch 134/500\n",
      "8601/8601 [==============================] - 0s 14us/sample - loss: 0.8386 - accuracy: 0.6666\n",
      "Epoch 135/500\n",
      "8601/8601 [==============================] - 0s 11us/sample - loss: 0.8392 - accuracy: 0.6688\n",
      "Epoch 136/500\n",
      "8601/8601 [==============================] - 0s 11us/sample - loss: 0.8383 - accuracy: 0.6686\n",
      "Epoch 137/500\n",
      "8601/8601 [==============================] - 0s 10us/sample - loss: 0.8398 - accuracy: 0.6674\n",
      "Epoch 138/500\n",
      "8601/8601 [==============================] - 0s 10us/sample - loss: 0.8374 - accuracy: 0.6702\n",
      "Epoch 139/500\n",
      "8601/8601 [==============================] - 0s 11us/sample - loss: 0.8385 - accuracy: 0.6683\n",
      "Epoch 140/500\n",
      "8601/8601 [==============================] - 0s 11us/sample - loss: 0.8377 - accuracy: 0.6667\n",
      "Epoch 141/500\n",
      "8601/8601 [==============================] - 0s 13us/sample - loss: 0.8381 - accuracy: 0.6683\n",
      "Epoch 142/500\n",
      "8601/8601 [==============================] - 0s 10us/sample - loss: 0.8410 - accuracy: 0.6671\n",
      "Epoch 143/500\n",
      "8601/8601 [==============================] - 0s 12us/sample - loss: 0.8376 - accuracy: 0.6689\n",
      "Epoch 144/500\n",
      "8601/8601 [==============================] - 0s 11us/sample - loss: 0.8397 - accuracy: 0.6688\n",
      "Epoch 145/500\n",
      "8601/8601 [==============================] - 0s 10us/sample - loss: 0.8376 - accuracy: 0.6683\n",
      "Epoch 146/500\n",
      "8601/8601 [==============================] - 0s 14us/sample - loss: 0.8385 - accuracy: 0.6686\n",
      "Epoch 147/500\n",
      "8601/8601 [==============================] - 0s 11us/sample - loss: 0.8372 - accuracy: 0.6688\n",
      "Epoch 148/500\n",
      "8601/8601 [==============================] - 0s 11us/sample - loss: 0.8364 - accuracy: 0.6699\n",
      "Epoch 149/500\n",
      "8601/8601 [==============================] - 0s 12us/sample - loss: 0.8373 - accuracy: 0.6684\n",
      "Epoch 150/500\n",
      "8601/8601 [==============================] - 0s 10us/sample - loss: 0.8360 - accuracy: 0.6675\n",
      "Epoch 151/500\n",
      "8601/8601 [==============================] - 0s 11us/sample - loss: 0.8371 - accuracy: 0.6693\n",
      "Epoch 152/500\n"
     ]
    },
    {
     "name": "stdout",
     "output_type": "stream",
     "text": [
      "8601/8601 [==============================] - 0s 12us/sample - loss: 0.8365 - accuracy: 0.6702\n",
      "Epoch 153/500\n",
      "8601/8601 [==============================] - 0s 12us/sample - loss: 0.8365 - accuracy: 0.6686\n",
      "Epoch 154/500\n",
      "8601/8601 [==============================] - 0s 13us/sample - loss: 0.8361 - accuracy: 0.6677\n",
      "Epoch 155/500\n",
      "8601/8601 [==============================] - 0s 10us/sample - loss: 0.8347 - accuracy: 0.6691\n",
      "Epoch 156/500\n",
      "8601/8601 [==============================] - 0s 10us/sample - loss: 0.8348 - accuracy: 0.6710\n",
      "Epoch 157/500\n",
      "8601/8601 [==============================] - 0s 9us/sample - loss: 0.8348 - accuracy: 0.6693\n",
      "Epoch 158/500\n",
      "8601/8601 [==============================] - 0s 12us/sample - loss: 0.8360 - accuracy: 0.6684\n",
      "Epoch 159/500\n",
      "8601/8601 [==============================] - 0s 11us/sample - loss: 0.8352 - accuracy: 0.6704\n",
      "Epoch 160/500\n",
      "8601/8601 [==============================] - 0s 12us/sample - loss: 0.8360 - accuracy: 0.6699\n",
      "Epoch 161/500\n",
      "8601/8601 [==============================] - 0s 10us/sample - loss: 0.8353 - accuracy: 0.6703\n",
      "Epoch 162/500\n",
      "8601/8601 [==============================] - 0s 10us/sample - loss: 0.8349 - accuracy: 0.6695\n",
      "Epoch 163/500\n",
      "8601/8601 [==============================] - 0s 10us/sample - loss: 0.8336 - accuracy: 0.6717\n",
      "Epoch 164/500\n",
      "8601/8601 [==============================] - 0s 10us/sample - loss: 0.8343 - accuracy: 0.6699\n",
      "Epoch 165/500\n",
      "8601/8601 [==============================] - 0s 10us/sample - loss: 0.8360 - accuracy: 0.6697\n",
      "Epoch 166/500\n",
      "8601/8601 [==============================] - 0s 13us/sample - loss: 0.8361 - accuracy: 0.6703\n",
      "Epoch 167/500\n",
      "8601/8601 [==============================] - 0s 13us/sample - loss: 0.8344 - accuracy: 0.6721\n",
      "Epoch 168/500\n",
      "8601/8601 [==============================] - 0s 9us/sample - loss: 0.8331 - accuracy: 0.6692\n",
      "Epoch 169/500\n",
      "8601/8601 [==============================] - 0s 9us/sample - loss: 0.8340 - accuracy: 0.6698\n",
      "Epoch 170/500\n",
      "8601/8601 [==============================] - 0s 10us/sample - loss: 0.8347 - accuracy: 0.6702\n",
      "Epoch 171/500\n",
      "8601/8601 [==============================] - 0s 9us/sample - loss: 0.8335 - accuracy: 0.6706\n",
      "Epoch 172/500\n",
      "8601/8601 [==============================] - 0s 12us/sample - loss: 0.8334 - accuracy: 0.6705\n",
      "Epoch 173/500\n",
      "8601/8601 [==============================] - 0s 11us/sample - loss: 0.8333 - accuracy: 0.6695\n",
      "Epoch 174/500\n",
      "8601/8601 [==============================] - 0s 13us/sample - loss: 0.8324 - accuracy: 0.6710\n",
      "Epoch 175/500\n",
      "8601/8601 [==============================] - 0s 13us/sample - loss: 0.8365 - accuracy: 0.6713\n",
      "Epoch 176/500\n",
      "8601/8601 [==============================] - 0s 11us/sample - loss: 0.8331 - accuracy: 0.6683\n",
      "Epoch 177/500\n",
      "8601/8601 [==============================] - 0s 11us/sample - loss: 0.8331 - accuracy: 0.6721\n",
      "Epoch 178/500\n",
      "8601/8601 [==============================] - 0s 10us/sample - loss: 0.8323 - accuracy: 0.6705\n",
      "Epoch 179/500\n",
      "8601/8601 [==============================] - 0s 10us/sample - loss: 0.8334 - accuracy: 0.6695\n",
      "Epoch 180/500\n",
      "8601/8601 [==============================] - 0s 9us/sample - loss: 0.8329 - accuracy: 0.6713\n",
      "Epoch 181/500\n",
      "8601/8601 [==============================] - 0s 11us/sample - loss: 0.8322 - accuracy: 0.6722\n",
      "Epoch 182/500\n",
      "8601/8601 [==============================] - 0s 9us/sample - loss: 0.8324 - accuracy: 0.6699\n",
      "Epoch 183/500\n",
      "8601/8601 [==============================] - 0s 12us/sample - loss: 0.8323 - accuracy: 0.6715\n",
      "Epoch 184/500\n",
      "8601/8601 [==============================] - 0s 11us/sample - loss: 0.8316 - accuracy: 0.6718\n",
      "Epoch 185/500\n",
      "8601/8601 [==============================] - 0s 13us/sample - loss: 0.8326 - accuracy: 0.6722\n",
      "Epoch 186/500\n",
      "8601/8601 [==============================] - 0s 12us/sample - loss: 0.8327 - accuracy: 0.6700\n",
      "Epoch 187/500\n",
      "8601/8601 [==============================] - 0s 10us/sample - loss: 0.8314 - accuracy: 0.6712\n",
      "Epoch 188/500\n",
      "8601/8601 [==============================] - 0s 11us/sample - loss: 0.8319 - accuracy: 0.6711\n",
      "Epoch 189/500\n",
      "8601/8601 [==============================] - 0s 9us/sample - loss: 0.8315 - accuracy: 0.6719\n",
      "Epoch 190/500\n",
      "8601/8601 [==============================] - 0s 11us/sample - loss: 0.8309 - accuracy: 0.6721\n",
      "Epoch 191/500\n",
      "8601/8601 [==============================] - 0s 14us/sample - loss: 0.8313 - accuracy: 0.6702\n",
      "Epoch 192/500\n",
      "8601/8601 [==============================] - 0s 11us/sample - loss: 0.8308 - accuracy: 0.6726\n",
      "Epoch 193/500\n",
      "8601/8601 [==============================] - 0s 11us/sample - loss: 0.8310 - accuracy: 0.6719\n",
      "Epoch 194/500\n",
      "8601/8601 [==============================] - 0s 10us/sample - loss: 0.8310 - accuracy: 0.6729\n",
      "Epoch 195/500\n",
      "8601/8601 [==============================] - 0s 11us/sample - loss: 0.8319 - accuracy: 0.6703\n",
      "Epoch 196/500\n",
      "8601/8601 [==============================] - 0s 11us/sample - loss: 0.8304 - accuracy: 0.6721\n",
      "Epoch 197/500\n",
      "8601/8601 [==============================] - 0s 12us/sample - loss: 0.8315 - accuracy: 0.6735\n",
      "Epoch 198/500\n",
      "8601/8601 [==============================] - 0s 12us/sample - loss: 0.8300 - accuracy: 0.6734\n",
      "Epoch 199/500\n",
      "8601/8601 [==============================] - 0s 10us/sample - loss: 0.8297 - accuracy: 0.6728\n",
      "Epoch 200/500\n",
      "8601/8601 [==============================] - 0s 10us/sample - loss: 0.8304 - accuracy: 0.6729\n",
      "Epoch 201/500\n",
      "8601/8601 [==============================] - 0s 10us/sample - loss: 0.8298 - accuracy: 0.6720\n",
      "Epoch 202/500\n",
      "8601/8601 [==============================] - 0s 14us/sample - loss: 0.8306 - accuracy: 0.6726\n",
      "Epoch 203/500\n",
      "8601/8601 [==============================] - 0s 13us/sample - loss: 0.8295 - accuracy: 0.6750\n",
      "Epoch 204/500\n",
      "8601/8601 [==============================] - 0s 12us/sample - loss: 0.8307 - accuracy: 0.6729\n",
      "Epoch 205/500\n",
      "8601/8601 [==============================] - 0s 11us/sample - loss: 0.8319 - accuracy: 0.6717\n",
      "Epoch 206/500\n",
      "8601/8601 [==============================] - 0s 12us/sample - loss: 0.8300 - accuracy: 0.6707\n",
      "Epoch 207/500\n",
      "8601/8601 [==============================] - 0s 13us/sample - loss: 0.8283 - accuracy: 0.6703\n",
      "Epoch 208/500\n",
      "8601/8601 [==============================] - 0s 12us/sample - loss: 0.8302 - accuracy: 0.6718\n",
      "Epoch 209/500\n",
      "8601/8601 [==============================] - 0s 12us/sample - loss: 0.8296 - accuracy: 0.6735\n",
      "Epoch 210/500\n",
      "8601/8601 [==============================] - 0s 11us/sample - loss: 0.8297 - accuracy: 0.6722\n",
      "Epoch 211/500\n",
      "8601/8601 [==============================] - 0s 12us/sample - loss: 0.8297 - accuracy: 0.6747\n",
      "Epoch 212/500\n",
      "8601/8601 [==============================] - 0s 11us/sample - loss: 0.8285 - accuracy: 0.6741\n",
      "Epoch 213/500\n",
      "8601/8601 [==============================] - 0s 11us/sample - loss: 0.8295 - accuracy: 0.6714\n",
      "Epoch 214/500\n",
      "8601/8601 [==============================] - 0s 11us/sample - loss: 0.8287 - accuracy: 0.6721\n",
      "Epoch 215/500\n",
      "8601/8601 [==============================] - 0s 12us/sample - loss: 0.8280 - accuracy: 0.6717\n",
      "Epoch 216/500\n",
      "8601/8601 [==============================] - 0s 14us/sample - loss: 0.8287 - accuracy: 0.6749\n",
      "Epoch 217/500\n",
      "8601/8601 [==============================] - 0s 13us/sample - loss: 0.8296 - accuracy: 0.6732\n",
      "Epoch 218/500\n",
      "8601/8601 [==============================] - 0s 10us/sample - loss: 0.8297 - accuracy: 0.6736\n",
      "Epoch 219/500\n",
      "8601/8601 [==============================] - 0s 11us/sample - loss: 0.8282 - accuracy: 0.6733\n",
      "Epoch 220/500\n",
      "8601/8601 [==============================] - 0s 12us/sample - loss: 0.8288 - accuracy: 0.6719\n",
      "Epoch 221/500\n",
      "8601/8601 [==============================] - 0s 12us/sample - loss: 0.8283 - accuracy: 0.6738\n",
      "Epoch 222/500\n",
      "8601/8601 [==============================] - 0s 10us/sample - loss: 0.8290 - accuracy: 0.6710\n",
      "Epoch 223/500\n",
      "8601/8601 [==============================] - 0s 11us/sample - loss: 0.8299 - accuracy: 0.6722\n",
      "Epoch 224/500\n",
      "8601/8601 [==============================] - 0s 12us/sample - loss: 0.8281 - accuracy: 0.6725\n",
      "Epoch 225/500\n",
      "8601/8601 [==============================] - 0s 10us/sample - loss: 0.8286 - accuracy: 0.6722\n",
      "Epoch 226/500\n",
      "8601/8601 [==============================] - 0s 14us/sample - loss: 0.8277 - accuracy: 0.6734\n",
      "Epoch 227/500\n",
      "8601/8601 [==============================] - 0s 10us/sample - loss: 0.8272 - accuracy: 0.6741\n",
      "Epoch 228/500\n"
     ]
    },
    {
     "name": "stdout",
     "output_type": "stream",
     "text": [
      "8601/8601 [==============================] - 0s 12us/sample - loss: 0.8284 - accuracy: 0.6721\n",
      "Epoch 229/500\n",
      "8601/8601 [==============================] - 0s 10us/sample - loss: 0.8278 - accuracy: 0.6724\n",
      "Epoch 230/500\n",
      "8601/8601 [==============================] - 0s 11us/sample - loss: 0.8277 - accuracy: 0.6753\n",
      "Epoch 231/500\n",
      "8601/8601 [==============================] - 0s 14us/sample - loss: 0.8277 - accuracy: 0.6745\n",
      "Epoch 232/500\n",
      "8601/8601 [==============================] - 0s 14us/sample - loss: 0.8294 - accuracy: 0.6721\n",
      "Epoch 233/500\n",
      "8601/8601 [==============================] - 0s 16us/sample - loss: 0.8263 - accuracy: 0.6727s - loss: 0.8435 - accuracy: 0.\n",
      "Epoch 234/500\n",
      "8601/8601 [==============================] - 0s 10us/sample - loss: 0.8274 - accuracy: 0.6756\n",
      "Epoch 235/500\n",
      "8601/8601 [==============================] - 0s 10us/sample - loss: 0.8275 - accuracy: 0.6724\n",
      "Epoch 236/500\n",
      "8601/8601 [==============================] - 0s 9us/sample - loss: 0.8274 - accuracy: 0.6739\n",
      "Epoch 237/500\n",
      "8601/8601 [==============================] - 0s 11us/sample - loss: 0.8265 - accuracy: 0.6721\n",
      "Epoch 238/500\n",
      "8601/8601 [==============================] - 0s 9us/sample - loss: 0.8270 - accuracy: 0.6720\n",
      "Epoch 239/500\n",
      "8601/8601 [==============================] - 0s 10us/sample - loss: 0.8271 - accuracy: 0.6739\n",
      "Epoch 240/500\n",
      "8601/8601 [==============================] - 0s 10us/sample - loss: 0.8264 - accuracy: 0.6721\n",
      "Epoch 241/500\n",
      "8601/8601 [==============================] - 0s 10us/sample - loss: 0.8269 - accuracy: 0.6729\n",
      "Epoch 242/500\n",
      "8601/8601 [==============================] - 0s 10us/sample - loss: 0.8275 - accuracy: 0.6721\n",
      "Epoch 243/500\n",
      "8601/8601 [==============================] - 0s 11us/sample - loss: 0.8281 - accuracy: 0.6736\n",
      "Epoch 244/500\n",
      "8601/8601 [==============================] - 0s 12us/sample - loss: 0.8275 - accuracy: 0.6712\n",
      "Epoch 245/500\n",
      "8601/8601 [==============================] - 0s 12us/sample - loss: 0.8273 - accuracy: 0.6720\n",
      "Epoch 246/500\n",
      "8601/8601 [==============================] - 0s 14us/sample - loss: 0.8276 - accuracy: 0.6736\n",
      "Epoch 247/500\n",
      "8601/8601 [==============================] - 0s 11us/sample - loss: 0.8268 - accuracy: 0.6734\n",
      "Epoch 248/500\n",
      "8601/8601 [==============================] - 0s 12us/sample - loss: 0.8263 - accuracy: 0.6740\n",
      "Epoch 249/500\n",
      "8601/8601 [==============================] - 0s 13us/sample - loss: 0.8263 - accuracy: 0.6715\n",
      "Epoch 250/500\n",
      "8601/8601 [==============================] - 0s 10us/sample - loss: 0.8277 - accuracy: 0.6724\n",
      "Epoch 251/500\n",
      "8601/8601 [==============================] - 0s 11us/sample - loss: 0.8274 - accuracy: 0.6743\n",
      "Epoch 252/500\n",
      "8601/8601 [==============================] - 0s 10us/sample - loss: 0.8267 - accuracy: 0.6752\n",
      "Epoch 253/500\n",
      "8601/8601 [==============================] - 0s 10us/sample - loss: 0.8288 - accuracy: 0.6754\n",
      "Epoch 254/500\n",
      "8601/8601 [==============================] - 0s 10us/sample - loss: 0.8277 - accuracy: 0.6746\n",
      "Epoch 255/500\n",
      "8601/8601 [==============================] - 0s 10us/sample - loss: 0.8254 - accuracy: 0.6753\n",
      "Epoch 256/500\n",
      "8601/8601 [==============================] - 0s 13us/sample - loss: 0.8265 - accuracy: 0.6759\n",
      "Epoch 257/500\n",
      "8601/8601 [==============================] - 0s 12us/sample - loss: 0.8267 - accuracy: 0.6740\n",
      "Epoch 258/500\n",
      "8601/8601 [==============================] - 0s 12us/sample - loss: 0.8267 - accuracy: 0.6740\n",
      "Epoch 259/500\n",
      "8601/8601 [==============================] - 0s 10us/sample - loss: 0.8270 - accuracy: 0.6742\n",
      "Epoch 260/500\n",
      "8601/8601 [==============================] - 0s 10us/sample - loss: 0.8258 - accuracy: 0.6752\n",
      "Epoch 261/500\n",
      "8601/8601 [==============================] - 0s 10us/sample - loss: 0.8262 - accuracy: 0.6733\n",
      "Epoch 262/500\n",
      "8601/8601 [==============================] - 0s 11us/sample - loss: 0.8263 - accuracy: 0.6749\n",
      "Epoch 263/500\n",
      "8601/8601 [==============================] - 0s 13us/sample - loss: 0.8271 - accuracy: 0.6747\n",
      "Epoch 264/500\n",
      "8601/8601 [==============================] - 0s 12us/sample - loss: 0.8262 - accuracy: 0.6749\n",
      "Epoch 265/500\n",
      "8601/8601 [==============================] - 0s 10us/sample - loss: 0.8283 - accuracy: 0.6740\n",
      "Epoch 266/500\n",
      "8601/8601 [==============================] - 0s 13us/sample - loss: 0.8283 - accuracy: 0.6726\n",
      "Epoch 267/500\n",
      "8601/8601 [==============================] - 0s 11us/sample - loss: 0.8265 - accuracy: 0.6722\n",
      "Epoch 268/500\n",
      "8601/8601 [==============================] - 0s 12us/sample - loss: 0.8256 - accuracy: 0.6736\n",
      "Epoch 269/500\n",
      "8601/8601 [==============================] - 0s 10us/sample - loss: 0.8253 - accuracy: 0.6741\n",
      "Epoch 270/500\n",
      "8601/8601 [==============================] - 0s 12us/sample - loss: 0.8257 - accuracy: 0.6756\n",
      "Epoch 271/500\n",
      "8601/8601 [==============================] - 0s 13us/sample - loss: 0.8260 - accuracy: 0.6750\n",
      "Epoch 272/500\n",
      "8601/8601 [==============================] - 0s 14us/sample - loss: 0.8256 - accuracy: 0.6740\n",
      "Epoch 273/500\n",
      "8601/8601 [==============================] - 0s 11us/sample - loss: 0.8270 - accuracy: 0.6748\n",
      "Epoch 274/500\n",
      "8601/8601 [==============================] - 0s 14us/sample - loss: 0.8251 - accuracy: 0.6759\n",
      "Epoch 275/500\n",
      "8601/8601 [==============================] - 0s 11us/sample - loss: 0.8283 - accuracy: 0.6732\n",
      "Epoch 276/500\n",
      "8601/8601 [==============================] - 0s 12us/sample - loss: 0.8300 - accuracy: 0.6725\n",
      "Epoch 277/500\n",
      "8601/8601 [==============================] - 0s 11us/sample - loss: 0.8277 - accuracy: 0.6734\n",
      "Epoch 278/500\n",
      "8601/8601 [==============================] - 0s 12us/sample - loss: 0.8263 - accuracy: 0.6715\n",
      "Epoch 279/500\n",
      "8601/8601 [==============================] - 0s 11us/sample - loss: 0.8267 - accuracy: 0.6761\n",
      "Epoch 280/500\n",
      "8601/8601 [==============================] - 0s 11us/sample - loss: 0.8267 - accuracy: 0.6726\n",
      "Epoch 281/500\n",
      "8601/8601 [==============================] - 0s 12us/sample - loss: 0.8250 - accuracy: 0.6733\n",
      "Epoch 282/500\n",
      "8601/8601 [==============================] - 0s 12us/sample - loss: 0.8251 - accuracy: 0.6717\n",
      "Epoch 283/500\n",
      "8601/8601 [==============================] - 0s 11us/sample - loss: 0.8266 - accuracy: 0.6736\n",
      "Epoch 284/500\n",
      "8601/8601 [==============================] - 0s 11us/sample - loss: 0.8270 - accuracy: 0.6739\n",
      "Epoch 285/500\n",
      "8601/8601 [==============================] - 0s 12us/sample - loss: 0.8266 - accuracy: 0.6727\n",
      "Epoch 286/500\n",
      "8601/8601 [==============================] - 0s 16us/sample - loss: 0.8255 - accuracy: 0.6711\n",
      "Epoch 287/500\n",
      "8601/8601 [==============================] - 0s 11us/sample - loss: 0.8253 - accuracy: 0.6745\n",
      "Epoch 288/500\n",
      "8601/8601 [==============================] - 0s 11us/sample - loss: 0.8252 - accuracy: 0.6726\n",
      "Epoch 289/500\n",
      "8601/8601 [==============================] - 0s 11us/sample - loss: 0.8258 - accuracy: 0.6726\n",
      "Epoch 290/500\n",
      "8601/8601 [==============================] - 0s 12us/sample - loss: 0.8244 - accuracy: 0.6725\n",
      "Epoch 291/500\n",
      "8601/8601 [==============================] - 0s 11us/sample - loss: 0.8253 - accuracy: 0.6755\n",
      "Epoch 292/500\n",
      "8601/8601 [==============================] - 0s 13us/sample - loss: 0.8260 - accuracy: 0.6740\n",
      "Epoch 293/500\n",
      "8601/8601 [==============================] - 0s 11us/sample - loss: 0.8262 - accuracy: 0.6746\n",
      "Epoch 294/500\n",
      "8601/8601 [==============================] - 0s 12us/sample - loss: 0.8250 - accuracy: 0.6741\n",
      "Epoch 295/500\n",
      "8601/8601 [==============================] - 0s 14us/sample - loss: 0.8249 - accuracy: 0.6741\n",
      "Epoch 296/500\n",
      "8601/8601 [==============================] - 0s 11us/sample - loss: 0.8249 - accuracy: 0.6739\n",
      "Epoch 297/500\n",
      "8601/8601 [==============================] - 0s 12us/sample - loss: 0.8255 - accuracy: 0.6739\n",
      "Epoch 298/500\n",
      "8601/8601 [==============================] - 0s 11us/sample - loss: 0.8258 - accuracy: 0.6719\n",
      "Epoch 299/500\n",
      "8601/8601 [==============================] - 0s 11us/sample - loss: 0.8248 - accuracy: 0.6746\n",
      "Epoch 300/500\n",
      "8601/8601 [==============================] - 0s 15us/sample - loss: 0.8261 - accuracy: 0.6747\n",
      "Epoch 301/500\n",
      "8601/8601 [==============================] - 0s 13us/sample - loss: 0.8257 - accuracy: 0.6738\n",
      "Epoch 302/500\n",
      "8601/8601 [==============================] - 0s 10us/sample - loss: 0.8272 - accuracy: 0.6755\n",
      "Epoch 303/500\n"
     ]
    },
    {
     "name": "stdout",
     "output_type": "stream",
     "text": [
      "8601/8601 [==============================] - 0s 10us/sample - loss: 0.8255 - accuracy: 0.6728\n",
      "Epoch 304/500\n",
      "8601/8601 [==============================] - 0s 10us/sample - loss: 0.8255 - accuracy: 0.6732\n",
      "Epoch 305/500\n",
      "8601/8601 [==============================] - ETA: 0s - loss: 0.8195 - accuracy: 0.67 - 0s 10us/sample - loss: 0.8259 - accuracy: 0.6732\n",
      "Epoch 306/500\n",
      "8601/8601 [==============================] - 0s 12us/sample - loss: 0.8248 - accuracy: 0.6707\n",
      "Epoch 307/500\n",
      "8601/8601 [==============================] - 0s 12us/sample - loss: 0.8252 - accuracy: 0.6753\n",
      "Epoch 308/500\n",
      "8601/8601 [==============================] - 0s 10us/sample - loss: 0.8242 - accuracy: 0.6724\n",
      "Epoch 309/500\n",
      "8601/8601 [==============================] - 0s 11us/sample - loss: 0.8242 - accuracy: 0.6728\n",
      "Epoch 310/500\n",
      "8601/8601 [==============================] - 0s 10us/sample - loss: 0.8254 - accuracy: 0.6720\n",
      "Epoch 311/500\n",
      "8601/8601 [==============================] - 0s 10us/sample - loss: 0.8254 - accuracy: 0.6710\n",
      "Epoch 312/500\n",
      "8601/8601 [==============================] - 0s 12us/sample - loss: 0.8268 - accuracy: 0.6727\n",
      "Epoch 313/500\n",
      "8601/8601 [==============================] - 0s 11us/sample - loss: 0.8249 - accuracy: 0.6736\n",
      "Epoch 314/500\n",
      "8601/8601 [==============================] - 0s 10us/sample - loss: 0.8233 - accuracy: 0.6746\n",
      "Epoch 315/500\n",
      "8601/8601 [==============================] - 0s 16us/sample - loss: 0.8255 - accuracy: 0.6741\n",
      "Epoch 316/500\n",
      "8601/8601 [==============================] - 0s 12us/sample - loss: 0.8248 - accuracy: 0.6728\n",
      "Epoch 317/500\n",
      "8601/8601 [==============================] - 0s 11us/sample - loss: 0.8255 - accuracy: 0.6719\n",
      "Epoch 318/500\n",
      "8601/8601 [==============================] - 0s 12us/sample - loss: 0.8244 - accuracy: 0.6725\n",
      "Epoch 319/500\n",
      "8601/8601 [==============================] - 0s 11us/sample - loss: 0.8242 - accuracy: 0.6731\n",
      "Epoch 320/500\n",
      "8601/8601 [==============================] - 0s 12us/sample - loss: 0.8247 - accuracy: 0.6741\n",
      "Epoch 321/500\n",
      "8601/8601 [==============================] - ETA: 0s - loss: 0.8303 - accuracy: 0.66 - 0s 10us/sample - loss: 0.8241 - accuracy: 0.6739\n",
      "Epoch 322/500\n",
      "8601/8601 [==============================] - 0s 13us/sample - loss: 0.8244 - accuracy: 0.6732\n",
      "Epoch 323/500\n",
      "8601/8601 [==============================] - 0s 12us/sample - loss: 0.8243 - accuracy: 0.6728\n",
      "Epoch 324/500\n",
      "8601/8601 [==============================] - 0s 11us/sample - loss: 0.8237 - accuracy: 0.6743\n",
      "Epoch 325/500\n",
      "8601/8601 [==============================] - 0s 18us/sample - loss: 0.8245 - accuracy: 0.6724\n",
      "Epoch 326/500\n",
      "8601/8601 [==============================] - 0s 11us/sample - loss: 0.8238 - accuracy: 0.6721\n",
      "Epoch 327/500\n",
      "8601/8601 [==============================] - 0s 10us/sample - loss: 0.8253 - accuracy: 0.6725\n",
      "Epoch 328/500\n",
      "8601/8601 [==============================] - 0s 9us/sample - loss: 0.8239 - accuracy: 0.6747\n",
      "Epoch 329/500\n",
      "8601/8601 [==============================] - 0s 11us/sample - loss: 0.8245 - accuracy: 0.6731\n",
      "Epoch 330/500\n",
      "8601/8601 [==============================] - 0s 10us/sample - loss: 0.8244 - accuracy: 0.6735\n",
      "Epoch 331/500\n",
      "8601/8601 [==============================] - 0s 11us/sample - loss: 0.8255 - accuracy: 0.6729\n",
      "Epoch 332/500\n",
      "8601/8601 [==============================] - 0s 12us/sample - loss: 0.8247 - accuracy: 0.6698\n",
      "Epoch 333/500\n",
      "8601/8601 [==============================] - 0s 11us/sample - loss: 0.8234 - accuracy: 0.6741\n",
      "Epoch 334/500\n",
      "8601/8601 [==============================] - 0s 10us/sample - loss: 0.8245 - accuracy: 0.6728\n",
      "Epoch 335/500\n",
      "8601/8601 [==============================] - 0s 11us/sample - loss: 0.8257 - accuracy: 0.6732\n",
      "Epoch 336/500\n",
      "8601/8601 [==============================] - 0s 9us/sample - loss: 0.8246 - accuracy: 0.6719\n",
      "Epoch 337/500\n",
      "8601/8601 [==============================] - 0s 11us/sample - loss: 0.8250 - accuracy: 0.6729\n",
      "Epoch 338/500\n",
      "8601/8601 [==============================] - 0s 9us/sample - loss: 0.8240 - accuracy: 0.6747\n",
      "Epoch 339/500\n",
      "8601/8601 [==============================] - 0s 13us/sample - loss: 0.8242 - accuracy: 0.6735\n",
      "Epoch 340/500\n",
      "8601/8601 [==============================] - 0s 13us/sample - loss: 0.8232 - accuracy: 0.6740\n",
      "Epoch 341/500\n",
      "8601/8601 [==============================] - 0s 12us/sample - loss: 0.8234 - accuracy: 0.6715\n",
      "Epoch 342/500\n",
      "8601/8601 [==============================] - 0s 12us/sample - loss: 0.8233 - accuracy: 0.6749\n",
      "Epoch 343/500\n",
      "8601/8601 [==============================] - 0s 13us/sample - loss: 0.8244 - accuracy: 0.6741\n",
      "Epoch 344/500\n",
      "8601/8601 [==============================] - 0s 11us/sample - loss: 0.8238 - accuracy: 0.6753\n",
      "Epoch 345/500\n",
      "8601/8601 [==============================] - 0s 15us/sample - loss: 0.8236 - accuracy: 0.6740\n",
      "Epoch 346/500\n",
      "8601/8601 [==============================] - 0s 12us/sample - loss: 0.8236 - accuracy: 0.6740\n",
      "Epoch 347/500\n",
      "8601/8601 [==============================] - 0s 11us/sample - loss: 0.8228 - accuracy: 0.6750\n",
      "Epoch 348/500\n",
      "8601/8601 [==============================] - 0s 11us/sample - loss: 0.8232 - accuracy: 0.6747\n",
      "Epoch 349/500\n",
      "8601/8601 [==============================] - 0s 11us/sample - loss: 0.8237 - accuracy: 0.6743\n",
      "Epoch 350/500\n",
      "8601/8601 [==============================] - 0s 11us/sample - loss: 0.8227 - accuracy: 0.6749\n",
      "Epoch 351/500\n",
      "8601/8601 [==============================] - 0s 11us/sample - loss: 0.8241 - accuracy: 0.6743\n",
      "Epoch 352/500\n",
      "8601/8601 [==============================] - 0s 12us/sample - loss: 0.8227 - accuracy: 0.6741\n",
      "Epoch 353/500\n",
      "8601/8601 [==============================] - 0s 12us/sample - loss: 0.8240 - accuracy: 0.6728\n",
      "Epoch 354/500\n",
      "8601/8601 [==============================] - 0s 11us/sample - loss: 0.8240 - accuracy: 0.6740\n",
      "Epoch 355/500\n",
      "8601/8601 [==============================] - 0s 12us/sample - loss: 0.8244 - accuracy: 0.6739\n",
      "Epoch 356/500\n",
      "8601/8601 [==============================] - 0s 12us/sample - loss: 0.8246 - accuracy: 0.6739\n",
      "Epoch 357/500\n",
      "8601/8601 [==============================] - 0s 11us/sample - loss: 0.8242 - accuracy: 0.6733\n",
      "Epoch 358/500\n",
      "8601/8601 [==============================] - 0s 11us/sample - loss: 0.8231 - accuracy: 0.6736\n",
      "Epoch 359/500\n",
      "8601/8601 [==============================] - 0s 10us/sample - loss: 0.8237 - accuracy: 0.6724\n",
      "Epoch 360/500\n",
      "8601/8601 [==============================] - 0s 12us/sample - loss: 0.8245 - accuracy: 0.6733\n",
      "Epoch 361/500\n",
      "8601/8601 [==============================] - 0s 11us/sample - loss: 0.8240 - accuracy: 0.6722\n",
      "Epoch 362/500\n",
      "8601/8601 [==============================] - 0s 12us/sample - loss: 0.8229 - accuracy: 0.6736\n",
      "Epoch 363/500\n",
      "8601/8601 [==============================] - 0s 12us/sample - loss: 0.8222 - accuracy: 0.6743\n",
      "Epoch 364/500\n",
      "8601/8601 [==============================] - ETA: 0s - loss: 0.8344 - accuracy: 0.66 - 0s 11us/sample - loss: 0.8225 - accuracy: 0.6717\n",
      "Epoch 365/500\n",
      "8601/8601 [==============================] - 0s 13us/sample - loss: 0.8228 - accuracy: 0.6731\n",
      "Epoch 366/500\n",
      "8601/8601 [==============================] - 0s 12us/sample - loss: 0.8215 - accuracy: 0.6743\n",
      "Epoch 367/500\n",
      "8601/8601 [==============================] - 0s 10us/sample - loss: 0.8227 - accuracy: 0.6732\n",
      "Epoch 368/500\n",
      "8601/8601 [==============================] - 0s 12us/sample - loss: 0.8257 - accuracy: 0.6755\n",
      "Epoch 369/500\n",
      "8601/8601 [==============================] - 0s 13us/sample - loss: 0.8213 - accuracy: 0.6750\n",
      "Epoch 370/500\n",
      "8601/8601 [==============================] - 0s 12us/sample - loss: 0.8229 - accuracy: 0.6747\n",
      "Epoch 371/500\n",
      "8601/8601 [==============================] - 0s 13us/sample - loss: 0.8223 - accuracy: 0.6752\n",
      "Epoch 372/500\n",
      "8601/8601 [==============================] - 0s 23us/sample - loss: 0.8222 - accuracy: 0.6732\n",
      "Epoch 373/500\n",
      "8601/8601 [==============================] - 0s 23us/sample - loss: 0.8229 - accuracy: 0.6739\n",
      "Epoch 374/500\n",
      "8601/8601 [==============================] - 0s 25us/sample - loss: 0.8241 - accuracy: 0.6726\n",
      "Epoch 375/500\n",
      "8601/8601 [==============================] - 0s 13us/sample - loss: 0.8251 - accuracy: 0.6726\n",
      "Epoch 376/500\n",
      "8601/8601 [==============================] - 0s 13us/sample - loss: 0.8224 - accuracy: 0.6749\n",
      "Epoch 377/500\n"
     ]
    },
    {
     "name": "stdout",
     "output_type": "stream",
     "text": [
      "8601/8601 [==============================] - 0s 12us/sample - loss: 0.8234 - accuracy: 0.6735\n",
      "Epoch 378/500\n",
      "8601/8601 [==============================] - 0s 10us/sample - loss: 0.8232 - accuracy: 0.6734\n",
      "Epoch 379/500\n",
      "8601/8601 [==============================] - 0s 11us/sample - loss: 0.8231 - accuracy: 0.6740\n",
      "Epoch 380/500\n",
      "8601/8601 [==============================] - 0s 11us/sample - loss: 0.8229 - accuracy: 0.6732\n",
      "Epoch 381/500\n",
      "8601/8601 [==============================] - 0s 13us/sample - loss: 0.8221 - accuracy: 0.6727\n",
      "Epoch 382/500\n",
      "8601/8601 [==============================] - 0s 11us/sample - loss: 0.8209 - accuracy: 0.6727\n",
      "Epoch 383/500\n",
      "8601/8601 [==============================] - 0s 12us/sample - loss: 0.8218 - accuracy: 0.6741\n",
      "Epoch 384/500\n",
      "8601/8601 [==============================] - 0s 11us/sample - loss: 0.8215 - accuracy: 0.6742\n",
      "Epoch 385/500\n",
      "8601/8601 [==============================] - 0s 11us/sample - loss: 0.8220 - accuracy: 0.6741\n",
      "Epoch 386/500\n",
      "8601/8601 [==============================] - 0s 12us/sample - loss: 0.8224 - accuracy: 0.6731\n",
      "Epoch 387/500\n",
      "8601/8601 [==============================] - 0s 11us/sample - loss: 0.8217 - accuracy: 0.6745\n",
      "Epoch 388/500\n",
      "8601/8601 [==============================] - 0s 13us/sample - loss: 0.8214 - accuracy: 0.6734\n",
      "Epoch 389/500\n",
      "8601/8601 [==============================] - 0s 12us/sample - loss: 0.8218 - accuracy: 0.6747\n",
      "Epoch 390/500\n",
      "8601/8601 [==============================] - 0s 13us/sample - loss: 0.8242 - accuracy: 0.6734\n",
      "Epoch 391/500\n",
      "8601/8601 [==============================] - 0s 15us/sample - loss: 0.8221 - accuracy: 0.6733\n",
      "Epoch 392/500\n",
      "8601/8601 [==============================] - 0s 13us/sample - loss: 0.8208 - accuracy: 0.6746\n",
      "Epoch 393/500\n",
      "8601/8601 [==============================] - 0s 10us/sample - loss: 0.8215 - accuracy: 0.6755\n",
      "Epoch 394/500\n",
      "8601/8601 [==============================] - 0s 12us/sample - loss: 0.8221 - accuracy: 0.6733\n",
      "Epoch 395/500\n",
      "8601/8601 [==============================] - 0s 11us/sample - loss: 0.8216 - accuracy: 0.6747\n",
      "Epoch 396/500\n",
      "8601/8601 [==============================] - 0s 11us/sample - loss: 0.8215 - accuracy: 0.6748s - loss: 0.8302 - accuracy: 0.66\n",
      "Epoch 397/500\n",
      "8601/8601 [==============================] - 0s 13us/sample - loss: 0.8208 - accuracy: 0.6741\n",
      "Epoch 398/500\n",
      "8601/8601 [==============================] - 0s 12us/sample - loss: 0.8207 - accuracy: 0.6757\n",
      "Epoch 399/500\n",
      "8601/8601 [==============================] - 0s 13us/sample - loss: 0.8221 - accuracy: 0.6739\n",
      "Epoch 400/500\n",
      "8601/8601 [==============================] - 0s 12us/sample - loss: 0.8216 - accuracy: 0.6735\n",
      "Epoch 401/500\n",
      "8601/8601 [==============================] - 0s 15us/sample - loss: 0.8239 - accuracy: 0.6715\n",
      "Epoch 402/500\n",
      "8601/8601 [==============================] - 0s 13us/sample - loss: 0.8223 - accuracy: 0.6732\n",
      "Epoch 403/500\n",
      "8601/8601 [==============================] - 0s 15us/sample - loss: 0.8227 - accuracy: 0.6724\n",
      "Epoch 404/500\n",
      "8601/8601 [==============================] - 0s 21us/sample - loss: 0.8230 - accuracy: 0.6739\n",
      "Epoch 405/500\n",
      "8601/8601 [==============================] - 0s 17us/sample - loss: 0.8214 - accuracy: 0.6748\n",
      "Epoch 406/500\n",
      "8601/8601 [==============================] - 0s 16us/sample - loss: 0.8213 - accuracy: 0.6755s - loss: 0.8353 - accuracy: 0.\n",
      "Epoch 407/500\n",
      "8601/8601 [==============================] - 0s 15us/sample - loss: 0.8203 - accuracy: 0.6745\n",
      "Epoch 408/500\n",
      "8601/8601 [==============================] - 0s 17us/sample - loss: 0.8213 - accuracy: 0.6747\n",
      "Epoch 409/500\n",
      "8601/8601 [==============================] - 0s 15us/sample - loss: 0.8219 - accuracy: 0.6722\n",
      "Epoch 410/500\n",
      "8601/8601 [==============================] - 0s 14us/sample - loss: 0.8209 - accuracy: 0.6748\n",
      "Epoch 411/500\n",
      "8601/8601 [==============================] - 0s 13us/sample - loss: 0.8215 - accuracy: 0.6732\n",
      "Epoch 412/500\n",
      "8601/8601 [==============================] - 0s 12us/sample - loss: 0.8215 - accuracy: 0.6731\n",
      "Epoch 413/500\n",
      "8601/8601 [==============================] - 0s 9us/sample - loss: 0.8211 - accuracy: 0.6743\n",
      "Epoch 414/500\n",
      "8601/8601 [==============================] - 0s 9us/sample - loss: 0.8208 - accuracy: 0.6746\n",
      "Epoch 415/500\n",
      "8601/8601 [==============================] - 0s 9us/sample - loss: 0.8214 - accuracy: 0.6734\n",
      "Epoch 416/500\n",
      "8601/8601 [==============================] - 0s 12us/sample - loss: 0.8332 - accuracy: 0.6719\n",
      "Epoch 417/500\n",
      "8601/8601 [==============================] - 0s 9us/sample - loss: 0.8248 - accuracy: 0.6736\n",
      "Epoch 418/500\n",
      "8601/8601 [==============================] - 0s 10us/sample - loss: 0.8223 - accuracy: 0.6750\n",
      "Epoch 419/500\n",
      "8601/8601 [==============================] - 0s 10us/sample - loss: 0.8212 - accuracy: 0.6757\n",
      "Epoch 420/500\n",
      "8601/8601 [==============================] - 0s 10us/sample - loss: 0.8223 - accuracy: 0.6748\n",
      "Epoch 421/500\n",
      "8601/8601 [==============================] - 0s 10us/sample - loss: 0.8200 - accuracy: 0.6733\n",
      "Epoch 422/500\n",
      "8601/8601 [==============================] - 0s 10us/sample - loss: 0.8209 - accuracy: 0.6738\n",
      "Epoch 423/500\n",
      "8601/8601 [==============================] - 0s 10us/sample - loss: 0.8221 - accuracy: 0.6769\n",
      "Epoch 424/500\n",
      "8601/8601 [==============================] - 0s 10us/sample - loss: 0.8202 - accuracy: 0.6738\n",
      "Epoch 425/500\n",
      "8601/8601 [==============================] - 0s 15us/sample - loss: 0.8198 - accuracy: 0.6759\n",
      "Epoch 426/500\n",
      "8601/8601 [==============================] - 0s 8us/sample - loss: 0.8206 - accuracy: 0.6760\n",
      "Epoch 427/500\n",
      "8601/8601 [==============================] - 0s 13us/sample - loss: 0.8191 - accuracy: 0.6748\n",
      "Epoch 428/500\n",
      "8601/8601 [==============================] - 0s 12us/sample - loss: 0.8210 - accuracy: 0.6750\n",
      "Epoch 429/500\n",
      "8601/8601 [==============================] - 0s 10us/sample - loss: 0.8217 - accuracy: 0.6725\n",
      "Epoch 430/500\n",
      "8601/8601 [==============================] - 0s 10us/sample - loss: 0.8215 - accuracy: 0.6750\n",
      "Epoch 431/500\n",
      "8601/8601 [==============================] - 0s 11us/sample - loss: 0.8200 - accuracy: 0.6753\n",
      "Epoch 432/500\n",
      "8601/8601 [==============================] - 0s 10us/sample - loss: 0.8230 - accuracy: 0.6731\n",
      "Epoch 433/500\n",
      "8601/8601 [==============================] - 0s 9us/sample - loss: 0.8195 - accuracy: 0.6757\n",
      "Epoch 434/500\n",
      "8601/8601 [==============================] - 0s 10us/sample - loss: 0.8202 - accuracy: 0.6757\n",
      "Epoch 435/500\n",
      "8601/8601 [==============================] - 0s 10us/sample - loss: 0.8201 - accuracy: 0.6747\n",
      "Epoch 436/500\n",
      "8601/8601 [==============================] - 0s 11us/sample - loss: 0.8206 - accuracy: 0.6760\n",
      "Epoch 437/500\n",
      "8601/8601 [==============================] - 0s 9us/sample - loss: 0.8223 - accuracy: 0.6745\n",
      "Epoch 438/500\n",
      "8601/8601 [==============================] - 0s 10us/sample - loss: 0.8219 - accuracy: 0.6742\n",
      "Epoch 439/500\n",
      "8601/8601 [==============================] - 0s 13us/sample - loss: 0.8206 - accuracy: 0.6762\n",
      "Epoch 440/500\n",
      "8601/8601 [==============================] - 0s 10us/sample - loss: 0.8191 - accuracy: 0.6769\n",
      "Epoch 441/500\n",
      "8601/8601 [==============================] - 0s 10us/sample - loss: 0.8209 - accuracy: 0.6759\n",
      "Epoch 442/500\n",
      "8601/8601 [==============================] - 0s 12us/sample - loss: 0.8228 - accuracy: 0.6733\n",
      "Epoch 443/500\n",
      "8601/8601 [==============================] - 0s 17us/sample - loss: 0.8199 - accuracy: 0.6747\n",
      "Epoch 444/500\n",
      "8601/8601 [==============================] - 0s 13us/sample - loss: 0.8191 - accuracy: 0.6769\n",
      "Epoch 445/500\n",
      "8601/8601 [==============================] - 0s 10us/sample - loss: 0.8198 - accuracy: 0.6749\n",
      "Epoch 446/500\n",
      "8601/8601 [==============================] - 0s 13us/sample - loss: 0.8220 - accuracy: 0.6777\n",
      "Epoch 447/500\n",
      "8601/8601 [==============================] - 0s 11us/sample - loss: 0.8214 - accuracy: 0.6738\n",
      "Epoch 448/500\n",
      "8601/8601 [==============================] - 0s 14us/sample - loss: 0.8199 - accuracy: 0.6790\n",
      "Epoch 449/500\n",
      "8601/8601 [==============================] - 0s 14us/sample - loss: 0.8209 - accuracy: 0.6772\n",
      "Epoch 450/500\n",
      "8601/8601 [==============================] - 0s 14us/sample - loss: 0.8202 - accuracy: 0.6769\n",
      "Epoch 451/500\n",
      "8601/8601 [==============================] - 0s 11us/sample - loss: 0.8216 - accuracy: 0.6763\n",
      "Epoch 452/500\n"
     ]
    },
    {
     "name": "stdout",
     "output_type": "stream",
     "text": [
      "8601/8601 [==============================] - 0s 10us/sample - loss: 0.8223 - accuracy: 0.6748\n",
      "Epoch 453/500\n",
      "8601/8601 [==============================] - 0s 10us/sample - loss: 0.8206 - accuracy: 0.6793\n",
      "Epoch 454/500\n",
      "8601/8601 [==============================] - 0s 10us/sample - loss: 0.8188 - accuracy: 0.6777\n",
      "Epoch 455/500\n",
      "8601/8601 [==============================] - 0s 9us/sample - loss: 0.8213 - accuracy: 0.6765\n",
      "Epoch 456/500\n",
      "8601/8601 [==============================] - 0s 10us/sample - loss: 0.8193 - accuracy: 0.6789\n",
      "Epoch 457/500\n",
      "8601/8601 [==============================] - 0s 10us/sample - loss: 0.8219 - accuracy: 0.6753\n",
      "Epoch 458/500\n",
      "8601/8601 [==============================] - 0s 9us/sample - loss: 0.8220 - accuracy: 0.6776\n",
      "Epoch 459/500\n",
      "8601/8601 [==============================] - 0s 9us/sample - loss: 0.8199 - accuracy: 0.6763\n",
      "Epoch 460/500\n",
      "8601/8601 [==============================] - 0s 9us/sample - loss: 0.8195 - accuracy: 0.6765\n",
      "Epoch 461/500\n",
      "8601/8601 [==============================] - 0s 9us/sample - loss: 0.8188 - accuracy: 0.6790\n",
      "Epoch 462/500\n",
      "8601/8601 [==============================] - 0s 9us/sample - loss: 0.8215 - accuracy: 0.6790\n",
      "Epoch 463/500\n",
      "8601/8601 [==============================] - 0s 10us/sample - loss: 0.8193 - accuracy: 0.6772\n",
      "Epoch 464/500\n",
      "8601/8601 [==============================] - 0s 9us/sample - loss: 0.8191 - accuracy: 0.6796\n",
      "Epoch 465/500\n",
      "8601/8601 [==============================] - 0s 11us/sample - loss: 0.8197 - accuracy: 0.6771\n",
      "Epoch 466/500\n",
      "8601/8601 [==============================] - 0s 9us/sample - loss: 0.8203 - accuracy: 0.6763\n",
      "Epoch 467/500\n",
      "8601/8601 [==============================] - 0s 9us/sample - loss: 0.8194 - accuracy: 0.6755\n",
      "Epoch 468/500\n",
      "8601/8601 [==============================] - 0s 11us/sample - loss: 0.8201 - accuracy: 0.6749\n",
      "Epoch 469/500\n",
      "8601/8601 [==============================] - 0s 13us/sample - loss: 0.8199 - accuracy: 0.6774\n",
      "Epoch 470/500\n",
      "8601/8601 [==============================] - 0s 14us/sample - loss: 0.8190 - accuracy: 0.6770\n",
      "Epoch 471/500\n",
      "8601/8601 [==============================] - 0s 10us/sample - loss: 0.8193 - accuracy: 0.6774\n",
      "Epoch 472/500\n",
      "8601/8601 [==============================] - 0s 10us/sample - loss: 0.8197 - accuracy: 0.6777\n",
      "Epoch 473/500\n",
      "8601/8601 [==============================] - 0s 9us/sample - loss: 0.8190 - accuracy: 0.6791\n",
      "Epoch 474/500\n",
      "8601/8601 [==============================] - 0s 10us/sample - loss: 0.8193 - accuracy: 0.6778\n",
      "Epoch 475/500\n",
      "8601/8601 [==============================] - 0s 9us/sample - loss: 0.8192 - accuracy: 0.6795\n",
      "Epoch 476/500\n",
      "8601/8601 [==============================] - 0s 9us/sample - loss: 0.8192 - accuracy: 0.6754\n",
      "Epoch 477/500\n",
      "8601/8601 [==============================] - 0s 9us/sample - loss: 0.8196 - accuracy: 0.6765\n",
      "Epoch 478/500\n",
      "8601/8601 [==============================] - 0s 9us/sample - loss: 0.8206 - accuracy: 0.6782\n",
      "Epoch 479/500\n",
      "8601/8601 [==============================] - 0s 9us/sample - loss: 0.8199 - accuracy: 0.6763\n",
      "Epoch 480/500\n",
      "8601/8601 [==============================] - 0s 11us/sample - loss: 0.8205 - accuracy: 0.6772\n",
      "Epoch 481/500\n",
      "8601/8601 [==============================] - 0s 10us/sample - loss: 0.8212 - accuracy: 0.6753\n",
      "Epoch 482/500\n",
      "8601/8601 [==============================] - 0s 10us/sample - loss: 0.8203 - accuracy: 0.6769\n",
      "Epoch 483/500\n",
      "8601/8601 [==============================] - 0s 9us/sample - loss: 0.8188 - accuracy: 0.6767\n",
      "Epoch 484/500\n",
      "8601/8601 [==============================] - 0s 9us/sample - loss: 0.8198 - accuracy: 0.6777\n",
      "Epoch 485/500\n",
      "8601/8601 [==============================] - 0s 9us/sample - loss: 0.8180 - accuracy: 0.6789\n",
      "Epoch 486/500\n",
      "8601/8601 [==============================] - 0s 9us/sample - loss: 0.8205 - accuracy: 0.6748\n",
      "Epoch 487/500\n",
      "8601/8601 [==============================] - 0s 9us/sample - loss: 0.8206 - accuracy: 0.6761\n",
      "Epoch 488/500\n",
      "8601/8601 [==============================] - 0s 9us/sample - loss: 0.8194 - accuracy: 0.6785\n",
      "Epoch 489/500\n",
      "8601/8601 [==============================] - 0s 9us/sample - loss: 0.8192 - accuracy: 0.6762\n",
      "Epoch 490/500\n",
      "8601/8601 [==============================] - 0s 9us/sample - loss: 0.8199 - accuracy: 0.6772\n",
      "Epoch 491/500\n",
      "8601/8601 [==============================] - 0s 10us/sample - loss: 0.8195 - accuracy: 0.6781\n",
      "Epoch 492/500\n",
      "8601/8601 [==============================] - 0s 10us/sample - loss: 0.8200 - accuracy: 0.6752\n",
      "Epoch 493/500\n",
      "8601/8601 [==============================] - 0s 9us/sample - loss: 0.8197 - accuracy: 0.6782\n",
      "Epoch 494/500\n",
      "8601/8601 [==============================] - 0s 11us/sample - loss: 0.8211 - accuracy: 0.6777\n",
      "Epoch 495/500\n",
      "8601/8601 [==============================] - 0s 9us/sample - loss: 0.8186 - accuracy: 0.6785\n",
      "Epoch 496/500\n",
      "8601/8601 [==============================] - 0s 9us/sample - loss: 0.8214 - accuracy: 0.6761\n",
      "Epoch 497/500\n",
      "8601/8601 [==============================] - 0s 9us/sample - loss: 0.8195 - accuracy: 0.6769\n",
      "Epoch 498/500\n",
      "8601/8601 [==============================] - 0s 10us/sample - loss: 0.8191 - accuracy: 0.6783\n",
      "Epoch 499/500\n",
      "8601/8601 [==============================] - 0s 10us/sample - loss: 0.8194 - accuracy: 0.6771\n",
      "Epoch 500/500\n",
      "8601/8601 [==============================] - 0s 10us/sample - loss: 0.8213 - accuracy: 0.6769\n"
     ]
    }
   ],
   "source": [
    "model = tf.keras.Sequential()\n",
    "model.add(Dense(8, input_dim=10, activation='relu', kernel_initializer='he_uniform'))\n",
    "model.add(Dense(6, activation='relu'))\n",
    "model.add(Dense(5, activation='relu'))\n",
    "model.add(Dense(5, activation='softmax'))\n",
    "model.compile(loss='categorical_crossentropy', optimizer='adam', metrics=['accuracy'])\n",
    "model.fit(X_train, y_train, epochs = 500, batch_size = 132)\n",
    "y_pred = model.predict_classes(X_test)"
   ]
  },
  {
   "cell_type": "code",
   "execution_count": 143,
   "metadata": {},
   "outputs": [
    {
     "name": "stdout",
     "output_type": "stream",
     "text": [
      "8601/8601 [==============================] - 0s 42us/sample - loss: 0.8163 - accuracy: 0.6779\n"
     ]
    }
   ],
   "source": [
    "y = model.evaluate(X_train, y_train)"
   ]
  },
  {
   "cell_type": "code",
   "execution_count": 150,
   "metadata": {},
   "outputs": [
    {
     "name": "stdout",
     "output_type": "stream",
     "text": [
      "956/956 [==============================] - 0s 38us/sample - loss: 0.8496 - accuracy: 0.6653\n"
     ]
    }
   ],
   "source": [
    "y_test = keras.utils.to_categorical(y_test)\n",
    "y_pred = model.evaluate(X_test, y_test)"
   ]
  },
  {
   "cell_type": "code",
   "execution_count": 155,
   "metadata": {},
   "outputs": [
    {
     "name": "stdout",
     "output_type": "stream",
     "text": [
      "Train Accuracy: 67.79%\n"
     ]
    }
   ],
   "source": [
    "print(\"Train Accuracy: \" + str(round(y[1]*100,2)) + '%')"
   ]
  },
  {
   "cell_type": "code",
   "execution_count": 156,
   "metadata": {},
   "outputs": [
    {
     "name": "stdout",
     "output_type": "stream",
     "text": [
      "Test Accuracy: 66.53%\n"
     ]
    }
   ],
   "source": [
    "print(\"Test Accuracy: \" + str(round(y_pred[1]*100,2)) + '%')"
   ]
  }
 ],
 "metadata": {
  "kernelspec": {
   "display_name": "Python 3",
   "language": "python",
   "name": "python3"
  },
  "language_info": {
   "codemirror_mode": {
    "name": "ipython",
    "version": 2
   },
   "file_extension": ".py",
   "mimetype": "text/x-python",
   "name": "python",
   "nbconvert_exporter": "python",
   "pygments_lexer": "ipython2",
   "version": "2.7.15"
  }
 },
 "nbformat": 4,
 "nbformat_minor": 2
}
