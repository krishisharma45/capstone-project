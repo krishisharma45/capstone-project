{
 "cells": [
  {
   "cell_type": "code",
   "execution_count": 5,
   "metadata": {},
   "outputs": [
    {
     "name": "stdout",
     "output_type": "stream",
     "text": [
      "Requirement already satisfied: keras in /usr/local/anaconda/lib/python3.6/site-packages (2.1.6)\n",
      "Requirement already satisfied: six>=1.9.0 in /usr/local/anaconda/lib/python3.6/site-packages (from keras) (1.11.0)\n",
      "Requirement already satisfied: pyyaml in /usr/local/anaconda/lib/python3.6/site-packages (from keras) (3.12)\n",
      "Requirement already satisfied: numpy>=1.9.1 in /usr/local/anaconda/lib/python3.6/site-packages (from keras) (1.13.3)\n",
      "Requirement already satisfied: scipy>=0.14 in /usr/local/anaconda/lib/python3.6/site-packages (from keras) (1.1.0)\n",
      "Requirement already satisfied: h5py in /usr/local/anaconda/lib/python3.6/site-packages (from keras) (2.7.0)\n",
      "\u001b[31mpyspark 2.4.0 requires py4j==0.10.7, which is not installed.\u001b[0m\n",
      "\u001b[33mYou are using pip version 10.0.1, however version 19.3.1 is available.\n",
      "You should consider upgrading via the 'pip install --upgrade pip' command.\u001b[0m\n",
      "Requirement already satisfied: tensorflow in /usr/local/anaconda/lib/python3.6/site-packages (1.8.0)\n",
      "Requirement already satisfied: gast>=0.2.0 in /usr/local/anaconda/lib/python3.6/site-packages (from tensorflow) (0.2.0)\n",
      "Requirement already satisfied: termcolor>=1.1.0 in /usr/local/anaconda/lib/python3.6/site-packages (from tensorflow) (1.1.0)\n",
      "Requirement already satisfied: wheel>=0.26 in /usr/local/anaconda/lib/python3.6/site-packages (from tensorflow) (0.29.0)\n",
      "Requirement already satisfied: grpcio>=1.8.6 in /usr/local/anaconda/lib/python3.6/site-packages (from tensorflow) (1.12.0)\n",
      "Requirement already satisfied: protobuf>=3.4.0 in /usr/local/anaconda/lib/python3.6/site-packages (from tensorflow) (3.5.2.post1)\n",
      "Requirement already satisfied: absl-py>=0.1.6 in /usr/local/anaconda/lib/python3.6/site-packages (from tensorflow) (0.2.2)\n",
      "Requirement already satisfied: tensorboard<1.9.0,>=1.8.0 in /usr/local/anaconda/lib/python3.6/site-packages (from tensorflow) (1.8.0)\n",
      "Requirement already satisfied: six>=1.10.0 in /usr/local/anaconda/lib/python3.6/site-packages (from tensorflow) (1.11.0)\n",
      "Requirement already satisfied: numpy>=1.13.3 in /usr/local/anaconda/lib/python3.6/site-packages (from tensorflow) (1.13.3)\n",
      "Requirement already satisfied: astor>=0.6.0 in /usr/local/anaconda/lib/python3.6/site-packages (from tensorflow) (0.6.2)\n",
      "Requirement already satisfied: setuptools in /usr/local/anaconda/lib/python3.6/site-packages (from protobuf>=3.4.0->tensorflow) (39.2.0)\n",
      "Requirement already satisfied: werkzeug>=0.11.10 in /usr/local/anaconda/lib/python3.6/site-packages (from tensorboard<1.9.0,>=1.8.0->tensorflow) (0.14.1)\n",
      "Requirement already satisfied: bleach==1.5.0 in /usr/local/anaconda/lib/python3.6/site-packages (from tensorboard<1.9.0,>=1.8.0->tensorflow) (1.5.0)\n",
      "Requirement already satisfied: html5lib==0.9999999 in /usr/local/anaconda/lib/python3.6/site-packages (from tensorboard<1.9.0,>=1.8.0->tensorflow) (0.9999999)\n",
      "Requirement already satisfied: markdown>=2.6.8 in /usr/local/anaconda/lib/python3.6/site-packages (from tensorboard<1.9.0,>=1.8.0->tensorflow) (2.6.11)\n",
      "\u001b[31mpyspark 2.4.0 requires py4j==0.10.7, which is not installed.\u001b[0m\n",
      "\u001b[33mYou are using pip version 10.0.1, however version 19.3.1 is available.\n",
      "You should consider upgrading via the 'pip install --upgrade pip' command.\u001b[0m\n"
     ]
    }
   ],
   "source": [
    "!pip3 install keras --user\n",
    "!pip3 install tensorflow --user"
   ]
  },
  {
   "cell_type": "code",
   "execution_count": 1,
   "metadata": {
    "collapsed": true
   },
   "outputs": [],
   "source": [
    "import pandas as pd\n",
    "import numpy as np\n",
    "from sklearn.preprocessing import MinMaxScaler\n",
    "from sklearn.preprocessing import StandardScaler"
   ]
  },
  {
   "cell_type": "code",
   "execution_count": 2,
   "metadata": {
    "collapsed": true
   },
   "outputs": [],
   "source": [
    "training_data = pd.read_csv(\"train.csv\")\n",
    "testing_data = pd.read_csv(\"test.csv\")\n",
    "costa_rica_data = training_data.drop(['Target'], axis=1)\n",
    "costa_rica_target = training_data['Target']"
   ]
  },
  {
   "cell_type": "code",
   "execution_count": 3,
   "metadata": {
    "collapsed": true
   },
   "outputs": [],
   "source": [
    "costa_rica_data = costa_rica_data.select_dtypes(include=[np.number], exclude=[np.object]).fillna(0)\n",
    "costa_rica_data = StandardScaler().fit_transform(costa_rica_data)"
   ]
  },
  {
   "cell_type": "code",
   "execution_count": 4,
   "metadata": {
    "collapsed": true
   },
   "outputs": [],
   "source": [
    "from sklearn.model_selection import train_test_split\n",
    "X_train, X_test, y_train, y_test = train_test_split(costa_rica_data, costa_rica_target, test_size=0.3)"
   ]
  },
  {
   "cell_type": "code",
   "execution_count": 9,
   "metadata": {},
   "outputs": [
    {
     "data": {
      "text/plain": [
       "(6689, 137)"
      ]
     },
     "execution_count": 9,
     "metadata": {},
     "output_type": "execute_result"
    }
   ],
   "source": [
    "X_train.shape"
   ]
  },
  {
   "cell_type": "code",
   "execution_count": 8,
   "metadata": {},
   "outputs": [
    {
     "name": "stderr",
     "output_type": "stream",
     "text": [
      "Using TensorFlow backend.\n"
     ]
    }
   ],
   "source": [
    "import tensorflow as tf\n",
    "from keras import Sequential\n",
    "from keras.layers import Dense"
   ]
  },
  {
   "cell_type": "markdown",
   "metadata": {},
   "source": [
    "### Iteration 1"
   ]
  },
  {
   "cell_type": "code",
   "execution_count": 13,
   "metadata": {
    "collapsed": true
   },
   "outputs": [],
   "source": [
    "classifier = Sequential()\n",
    "#First Hidden Layer\n",
    "classifier.add(Dense(66, activation='relu', kernel_initializer='random_normal', input_dim=137))\n",
    "\n",
    "#Second  Hidden Layer\n",
    "classifier.add(Dense(66, activation='relu', kernel_initializer='random_normal'))\n",
    "\n",
    "#Output Layer\n",
    "classifier.add(Dense(1, activation='sigmoid', kernel_initializer='random_normal'))"
   ]
  },
  {
   "cell_type": "code",
   "execution_count": 14,
   "metadata": {
    "collapsed": true
   },
   "outputs": [],
   "source": [
    "#Compiling the neural network\n",
    "classifier.compile(optimizer ='adam',loss='binary_crossentropy', metrics =['accuracy'])"
   ]
  },
  {
   "cell_type": "code",
   "execution_count": 15,
   "metadata": {},
   "outputs": [
    {
     "name": "stdout",
     "output_type": "stream",
     "text": [
      "Epoch 1/100\n",
      "6689/6689 [==============================] - 1s 188us/step - loss: -33.5358 - acc: 0.0783\n",
      "Epoch 2/100\n",
      "6689/6689 [==============================] - 1s 139us/step - loss: -36.7695 - acc: 0.0785\n",
      "Epoch 3/100\n",
      "6689/6689 [==============================] - 1s 160us/step - loss: -36.7755 - acc: 0.0785\n",
      "Epoch 4/100\n",
      "6689/6689 [==============================] - 1s 145us/step - loss: -36.7755 - acc: 0.0785\n",
      "Epoch 5/100\n",
      "6689/6689 [==============================] - 1s 142us/step - loss: -36.7755 - acc: 0.0785\n",
      "Epoch 6/100\n",
      "6689/6689 [==============================] - 1s 140us/step - loss: -36.7755 - acc: 0.0785\n",
      "Epoch 7/100\n",
      "6689/6689 [==============================] - 1s 140us/step - loss: -36.7755 - acc: 0.0785\n",
      "Epoch 8/100\n",
      "6689/6689 [==============================] - 1s 147us/step - loss: -36.7755 - acc: 0.0785\n",
      "Epoch 9/100\n",
      "6689/6689 [==============================] - 1s 141us/step - loss: -36.7755 - acc: 0.0785\n",
      "Epoch 10/100\n",
      "6689/6689 [==============================] - 1s 139us/step - loss: -36.7755 - acc: 0.0785\n",
      "Epoch 11/100\n",
      "6689/6689 [==============================] - 1s 148us/step - loss: -36.7755 - acc: 0.0785\n",
      "Epoch 12/100\n",
      "6689/6689 [==============================] - 1s 138us/step - loss: -36.7755 - acc: 0.0785\n",
      "Epoch 13/100\n",
      "6689/6689 [==============================] - 1s 140us/step - loss: -36.7755 - acc: 0.0785\n",
      "Epoch 14/100\n",
      "6689/6689 [==============================] - 1s 175us/step - loss: -36.7755 - acc: 0.0785\n",
      "Epoch 15/100\n",
      "6689/6689 [==============================] - 1s 143us/step - loss: -36.7755 - acc: 0.0785\n",
      "Epoch 16/100\n",
      "6689/6689 [==============================] - 1s 140us/step - loss: -36.7755 - acc: 0.0785\n",
      "Epoch 17/100\n",
      "6689/6689 [==============================] - 1s 139us/step - loss: -36.7755 - acc: 0.0785\n",
      "Epoch 18/100\n",
      "6689/6689 [==============================] - 1s 139us/step - loss: -36.7755 - acc: 0.0785\n",
      "Epoch 19/100\n",
      "6689/6689 [==============================] - 1s 144us/step - loss: -36.7755 - acc: 0.0785\n",
      "Epoch 20/100\n",
      "6689/6689 [==============================] - 1s 139us/step - loss: -36.7755 - acc: 0.0785\n",
      "Epoch 21/100\n",
      "6689/6689 [==============================] - 1s 144us/step - loss: -36.7755 - acc: 0.0785\n",
      "Epoch 22/100\n",
      "6689/6689 [==============================] - 1s 142us/step - loss: -36.7755 - acc: 0.0785\n",
      "Epoch 23/100\n",
      "6689/6689 [==============================] - 1s 139us/step - loss: -36.7755 - acc: 0.0785\n",
      "Epoch 24/100\n",
      "6689/6689 [==============================] - 1s 156us/step - loss: -36.7755 - acc: 0.0785\n",
      "Epoch 25/100\n",
      "6689/6689 [==============================] - 1s 146us/step - loss: -36.7755 - acc: 0.0785\n",
      "Epoch 26/100\n",
      "6689/6689 [==============================] - 1s 140us/step - loss: -36.7755 - acc: 0.0785\n",
      "Epoch 27/100\n",
      "6689/6689 [==============================] - 1s 139us/step - loss: -36.7755 - acc: 0.0785\n",
      "Epoch 28/100\n",
      "6689/6689 [==============================] - 1s 139us/step - loss: -36.7755 - acc: 0.0785\n",
      "Epoch 29/100\n",
      "6689/6689 [==============================] - 1s 144us/step - loss: -36.7755 - acc: 0.0785\n",
      "Epoch 30/100\n",
      "6689/6689 [==============================] - 1s 139us/step - loss: -36.7755 - acc: 0.0785\n",
      "Epoch 31/100\n",
      "6689/6689 [==============================] - 1s 139us/step - loss: -36.7755 - acc: 0.0785\n",
      "Epoch 32/100\n",
      "6689/6689 [==============================] - 1s 149us/step - loss: -36.7755 - acc: 0.0785\n",
      "Epoch 33/100\n",
      "6689/6689 [==============================] - 1s 139us/step - loss: -36.7755 - acc: 0.0785\n",
      "Epoch 34/100\n",
      "6689/6689 [==============================] - 1s 146us/step - loss: -36.7755 - acc: 0.0785\n",
      "Epoch 35/100\n",
      "6689/6689 [==============================] - 1s 153us/step - loss: -36.7755 - acc: 0.0785\n",
      "Epoch 36/100\n",
      "6689/6689 [==============================] - 1s 141us/step - loss: -36.7755 - acc: 0.0785\n",
      "Epoch 37/100\n",
      "6689/6689 [==============================] - 1s 138us/step - loss: -36.7755 - acc: 0.0785\n",
      "Epoch 38/100\n",
      "6689/6689 [==============================] - 1s 139us/step - loss: -36.7755 - acc: 0.0785\n",
      "Epoch 39/100\n",
      "6689/6689 [==============================] - 1s 137us/step - loss: -36.7755 - acc: 0.0785\n",
      "Epoch 40/100\n",
      "6689/6689 [==============================] - 1s 146us/step - loss: -36.7755 - acc: 0.0785\n",
      "Epoch 41/100\n",
      "6689/6689 [==============================] - 1s 141us/step - loss: -36.7755 - acc: 0.0785\n",
      "Epoch 42/100\n",
      "6689/6689 [==============================] - 1s 139us/step - loss: -36.7755 - acc: 0.0785\n",
      "Epoch 43/100\n",
      "6689/6689 [==============================] - 1s 146us/step - loss: -36.7755 - acc: 0.0785\n",
      "Epoch 44/100\n",
      "6689/6689 [==============================] - 1s 138us/step - loss: -36.7755 - acc: 0.0785\n",
      "Epoch 45/100\n",
      "6689/6689 [==============================] - 1s 164us/step - loss: -36.7755 - acc: 0.0785\n",
      "Epoch 46/100\n",
      "6689/6689 [==============================] - 1s 152us/step - loss: -36.7755 - acc: 0.0785\n",
      "Epoch 47/100\n",
      "6689/6689 [==============================] - 1s 141us/step - loss: -36.7755 - acc: 0.0785\n",
      "Epoch 48/100\n",
      "6689/6689 [==============================] - 1s 141us/step - loss: -36.7755 - acc: 0.0785\n",
      "Epoch 49/100\n",
      "6689/6689 [==============================] - 1s 138us/step - loss: -36.7755 - acc: 0.0785\n",
      "Epoch 50/100\n",
      "6689/6689 [==============================] - 1s 140us/step - loss: -36.7755 - acc: 0.0785\n",
      "Epoch 51/100\n",
      "6689/6689 [==============================] - 1s 143us/step - loss: -36.7755 - acc: 0.0785\n",
      "Epoch 52/100\n",
      "6689/6689 [==============================] - 1s 139us/step - loss: -36.7755 - acc: 0.0785\n",
      "Epoch 53/100\n",
      "6689/6689 [==============================] - 1s 147us/step - loss: -36.7755 - acc: 0.0785\n",
      "Epoch 54/100\n",
      "6689/6689 [==============================] - 1s 141us/step - loss: -36.7755 - acc: 0.0785\n",
      "Epoch 55/100\n",
      "6689/6689 [==============================] - 1s 149us/step - loss: -36.7755 - acc: 0.0785\n",
      "Epoch 56/100\n",
      "6689/6689 [==============================] - 1s 149us/step - loss: -36.7755 - acc: 0.0785\n",
      "Epoch 57/100\n",
      "6689/6689 [==============================] - 1s 146us/step - loss: -36.7755 - acc: 0.0785\n",
      "Epoch 58/100\n",
      "6689/6689 [==============================] - 1s 139us/step - loss: -36.7755 - acc: 0.0785\n",
      "Epoch 59/100\n",
      "6689/6689 [==============================] - 1s 139us/step - loss: -36.7755 - acc: 0.0785\n",
      "Epoch 60/100\n",
      "6689/6689 [==============================] - 1s 140us/step - loss: -36.7755 - acc: 0.0785\n",
      "Epoch 61/100\n",
      "6689/6689 [==============================] - 1s 142us/step - loss: -36.7755 - acc: 0.0785\n",
      "Epoch 62/100\n",
      "6689/6689 [==============================] - 1s 141us/step - loss: -36.7755 - acc: 0.0785\n",
      "Epoch 63/100\n",
      "6689/6689 [==============================] - 1s 140us/step - loss: -36.7755 - acc: 0.0785\n",
      "Epoch 64/100\n",
      "6689/6689 [==============================] - 1s 149us/step - loss: -36.7755 - acc: 0.0785\n",
      "Epoch 65/100\n",
      "6689/6689 [==============================] - 1s 140us/step - loss: -36.7755 - acc: 0.0785\n",
      "Epoch 66/100\n",
      "6689/6689 [==============================] - 1s 144us/step - loss: -36.7755 - acc: 0.0785\n",
      "Epoch 67/100\n",
      "6689/6689 [==============================] - 1s 151us/step - loss: -36.7755 - acc: 0.0785\n",
      "Epoch 68/100\n",
      "6689/6689 [==============================] - 1s 143us/step - loss: -36.7755 - acc: 0.0785\n",
      "Epoch 69/100\n",
      "6689/6689 [==============================] - 1s 139us/step - loss: -36.7755 - acc: 0.0785\n",
      "Epoch 70/100\n",
      "6689/6689 [==============================] - 1s 139us/step - loss: -36.7755 - acc: 0.0785\n",
      "Epoch 71/100\n",
      "6689/6689 [==============================] - 1s 140us/step - loss: -36.7755 - acc: 0.0785\n",
      "Epoch 72/100\n",
      "6689/6689 [==============================] - 1s 142us/step - loss: -36.7755 - acc: 0.0785\n",
      "Epoch 73/100\n",
      "6689/6689 [==============================] - 1s 139us/step - loss: -36.7755 - acc: 0.0785\n",
      "Epoch 74/100\n",
      "6689/6689 [==============================] - 1s 143us/step - loss: -36.7755 - acc: 0.0785\n",
      "Epoch 75/100\n",
      "6689/6689 [==============================] - 1s 146us/step - loss: -36.7755 - acc: 0.0785\n",
      "Epoch 76/100\n",
      "6689/6689 [==============================] - 1s 160us/step - loss: -36.7755 - acc: 0.0785\n",
      "Epoch 77/100\n",
      "6689/6689 [==============================] - 1s 146us/step - loss: -36.7755 - acc: 0.0785\n",
      "Epoch 78/100\n",
      "6689/6689 [==============================] - 1s 148us/step - loss: -36.7755 - acc: 0.0785\n",
      "Epoch 79/100\n",
      "6689/6689 [==============================] - 1s 139us/step - loss: -36.7755 - acc: 0.0785\n",
      "Epoch 80/100\n",
      "6689/6689 [==============================] - 1s 139us/step - loss: -36.7755 - acc: 0.0785\n",
      "Epoch 81/100\n",
      "6689/6689 [==============================] - 1s 139us/step - loss: -36.7755 - acc: 0.0785\n",
      "Epoch 82/100\n",
      "6689/6689 [==============================] - 1s 143us/step - loss: -36.7755 - acc: 0.0785\n",
      "Epoch 83/100\n",
      "6689/6689 [==============================] - 1s 140us/step - loss: -36.7755 - acc: 0.0785\n",
      "Epoch 84/100\n",
      "6689/6689 [==============================] - 1s 139us/step - loss: -36.7755 - acc: 0.0785\n",
      "Epoch 85/100\n",
      "6689/6689 [==============================] - 1s 148us/step - loss: -36.7755 - acc: 0.0785\n",
      "Epoch 86/100\n",
      "6689/6689 [==============================] - 1s 142us/step - loss: -36.7755 - acc: 0.0785\n",
      "Epoch 87/100\n",
      "6689/6689 [==============================] - 1s 141us/step - loss: -36.7755 - acc: 0.0785\n",
      "Epoch 88/100\n",
      "6689/6689 [==============================] - 1s 149us/step - loss: -36.7755 - acc: 0.0785\n",
      "Epoch 89/100\n",
      "6689/6689 [==============================] - 1s 143us/step - loss: -36.7755 - acc: 0.0785\n",
      "Epoch 90/100\n",
      "6689/6689 [==============================] - 1s 142us/step - loss: -36.7755 - acc: 0.0785\n",
      "Epoch 91/100\n",
      "6689/6689 [==============================] - 1s 140us/step - loss: -36.7755 - acc: 0.0785\n",
      "Epoch 92/100\n",
      "6689/6689 [==============================] - 1s 139us/step - loss: -36.7755 - acc: 0.0785\n",
      "Epoch 93/100\n",
      "6689/6689 [==============================] - 1s 145us/step - loss: -36.7755 - acc: 0.0785\n",
      "Epoch 94/100\n",
      "6689/6689 [==============================] - 1s 141us/step - loss: -36.7755 - acc: 0.0785\n",
      "Epoch 95/100\n",
      "6689/6689 [==============================] - 1s 142us/step - loss: -36.7755 - acc: 0.0785\n",
      "Epoch 96/100\n",
      "6689/6689 [==============================] - 1s 147us/step - loss: -36.7755 - acc: 0.0785\n",
      "Epoch 97/100\n",
      "6689/6689 [==============================] - 1s 144us/step - loss: -36.7755 - acc: 0.0785\n",
      "Epoch 98/100\n",
      "6689/6689 [==============================] - 1s 139us/step - loss: -36.7755 - acc: 0.0785\n",
      "Epoch 99/100\n",
      "6689/6689 [==============================] - 1s 147us/step - loss: -36.7755 - acc: 0.0785\n",
      "Epoch 100/100\n",
      "6689/6689 [==============================] - 1s 143us/step - loss: -36.7755 - acc: 0.0785\n"
     ]
    },
    {
     "data": {
      "text/plain": [
       "<keras.callbacks.History at 0x7f3340263c50>"
      ]
     },
     "execution_count": 15,
     "metadata": {},
     "output_type": "execute_result"
    }
   ],
   "source": [
    "#Fitting the data to the training dataset\n",
    "classifier.fit(X_train,y_train, batch_size=10, epochs=100)"
   ]
  },
  {
   "cell_type": "code",
   "execution_count": 16,
   "metadata": {},
   "outputs": [
    {
     "name": "stdout",
     "output_type": "stream",
     "text": [
      "6689/6689 [==============================] - 0s 26us/step\n"
     ]
    },
    {
     "data": {
      "text/plain": [
       "[-36.775451086155236, 0.078487068321124231]"
      ]
     },
     "execution_count": 16,
     "metadata": {},
     "output_type": "execute_result"
    }
   ],
   "source": [
    "eval_model=classifier.evaluate(X_train, y_train)\n",
    "eval_model"
   ]
  },
  {
   "cell_type": "code",
   "execution_count": 17,
   "metadata": {
    "collapsed": true
   },
   "outputs": [],
   "source": [
    "y_pred=classifier.predict(X_test)\n",
    "y_pred =(y_pred>0.5)"
   ]
  },
  {
   "cell_type": "code",
   "execution_count": 18,
   "metadata": {},
   "outputs": [
    {
     "name": "stdout",
     "output_type": "stream",
     "text": [
      "[[ 230    0    0    0]\n",
      " [ 480    0    0    0]\n",
      " [ 381    0    0    0]\n",
      " [1777    0    0    0]]\n"
     ]
    }
   ],
   "source": [
    "from sklearn.metrics import confusion_matrix\n",
    "cm = confusion_matrix(y_test, y_pred)\n",
    "print(cm)"
   ]
  },
  {
   "cell_type": "markdown",
   "metadata": {},
   "source": [
    "### Iteration 2"
   ]
  },
  {
   "cell_type": "code",
   "execution_count": 28,
   "metadata": {
    "collapsed": true
   },
   "outputs": [],
   "source": [
    "classifier2 = Sequential()\n",
    "#First Hidden Layer\n",
    "classifier2.add(Dense(66, activation='relu', kernel_initializer='random_normal', input_dim=137))\n",
    "\n",
    "#Second  Hidden Layer\n",
    "classifier2.add(Dense(66, activation='relu', kernel_initializer='random_normal'))\n",
    "\n",
    "#Output Layer\n",
    "classifier2.add(Dense(1, activation='sigmoid', kernel_initializer='random_normal'))"
   ]
  },
  {
   "cell_type": "code",
   "execution_count": 29,
   "metadata": {
    "collapsed": true
   },
   "outputs": [],
   "source": [
    "#Compiling the neural network\n",
    "classifier2.compile(optimizer ='sgd',loss='binary_crossentropy', metrics =['accuracy'])"
   ]
  },
  {
   "cell_type": "code",
   "execution_count": 30,
   "metadata": {},
   "outputs": [
    {
     "name": "stdout",
     "output_type": "stream",
     "text": [
      "Epoch 1/100\n",
      "2868/2868 [==============================] - 0s 165us/step - loss: -31.6966 - acc: 0.0802\n",
      "Epoch 2/100\n",
      "2868/2868 [==============================] - 0s 129us/step - loss: -36.5374 - acc: 0.0802\n",
      "Epoch 3/100\n",
      "2868/2868 [==============================] - 0s 131us/step - loss: -36.5374 - acc: 0.0802\n",
      "Epoch 4/100\n",
      "2868/2868 [==============================] - 0s 129us/step - loss: -36.5374 - acc: 0.0802\n",
      "Epoch 5/100\n",
      "2868/2868 [==============================] - 0s 147us/step - loss: -36.5374 - acc: 0.0802\n",
      "Epoch 6/100\n",
      "2868/2868 [==============================] - 0s 128us/step - loss: -36.5374 - acc: 0.0802\n",
      "Epoch 7/100\n",
      "2868/2868 [==============================] - 0s 130us/step - loss: -36.5374 - acc: 0.0802\n",
      "Epoch 8/100\n",
      "2868/2868 [==============================] - 0s 135us/step - loss: -36.5374 - acc: 0.0802\n",
      "Epoch 9/100\n",
      "2868/2868 [==============================] - 0s 165us/step - loss: -36.5374 - acc: 0.0802\n",
      "Epoch 10/100\n",
      "2868/2868 [==============================] - 0s 131us/step - loss: -36.5374 - acc: 0.0802\n",
      "Epoch 11/100\n",
      "2868/2868 [==============================] - 0s 131us/step - loss: -36.5374 - acc: 0.0802\n",
      "Epoch 12/100\n",
      "2868/2868 [==============================] - 0s 137us/step - loss: -36.5374 - acc: 0.0802\n",
      "Epoch 13/100\n",
      "2868/2868 [==============================] - 0s 141us/step - loss: -36.5374 - acc: 0.0802\n",
      "Epoch 14/100\n",
      "2868/2868 [==============================] - 0s 129us/step - loss: -36.5374 - acc: 0.0802\n",
      "Epoch 15/100\n",
      "2868/2868 [==============================] - 0s 129us/step - loss: -36.5374 - acc: 0.0802\n",
      "Epoch 16/100\n",
      "2868/2868 [==============================] - 0s 135us/step - loss: -36.5374 - acc: 0.0802\n",
      "Epoch 17/100\n",
      "2868/2868 [==============================] - 0s 129us/step - loss: -36.5374 - acc: 0.0802\n",
      "Epoch 18/100\n",
      "2868/2868 [==============================] - 0s 131us/step - loss: -36.5374 - acc: 0.0802\n",
      "Epoch 19/100\n",
      "2868/2868 [==============================] - 0s 128us/step - loss: -36.5374 - acc: 0.0802\n",
      "Epoch 20/100\n",
      "2868/2868 [==============================] - 0s 130us/step - loss: -36.5374 - acc: 0.0802\n",
      "Epoch 21/100\n",
      "2868/2868 [==============================] - 0s 131us/step - loss: -36.5374 - acc: 0.0802\n",
      "Epoch 22/100\n",
      "2868/2868 [==============================] - 0s 130us/step - loss: -36.5374 - acc: 0.0802\n",
      "Epoch 23/100\n",
      "2868/2868 [==============================] - 0s 129us/step - loss: -36.5374 - acc: 0.0802\n",
      "Epoch 24/100\n",
      "2868/2868 [==============================] - 0s 127us/step - loss: -36.5374 - acc: 0.0802\n",
      "Epoch 25/100\n",
      "2868/2868 [==============================] - 0s 129us/step - loss: -36.5374 - acc: 0.0802\n",
      "Epoch 26/100\n",
      "2868/2868 [==============================] - 0s 131us/step - loss: -36.5374 - acc: 0.0802\n",
      "Epoch 27/100\n",
      "2868/2868 [==============================] - 0s 130us/step - loss: -36.5374 - acc: 0.0802\n",
      "Epoch 28/100\n",
      "2868/2868 [==============================] - 0s 131us/step - loss: -36.5374 - acc: 0.0802\n",
      "Epoch 29/100\n",
      "2868/2868 [==============================] - 0s 142us/step - loss: -36.5374 - acc: 0.0802\n",
      "Epoch 30/100\n",
      "2868/2868 [==============================] - 0s 130us/step - loss: -36.5374 - acc: 0.0802\n",
      "Epoch 31/100\n",
      "2868/2868 [==============================] - 0s 131us/step - loss: -36.5374 - acc: 0.0802\n",
      "Epoch 32/100\n",
      "2868/2868 [==============================] - 0s 142us/step - loss: -36.5374 - acc: 0.0802\n",
      "Epoch 33/100\n",
      "2868/2868 [==============================] - 0s 131us/step - loss: -36.5374 - acc: 0.0802\n",
      "Epoch 34/100\n",
      "2868/2868 [==============================] - 0s 136us/step - loss: -36.5374 - acc: 0.0802\n",
      "Epoch 35/100\n",
      "2868/2868 [==============================] - 0s 137us/step - loss: -36.5374 - acc: 0.0802\n",
      "Epoch 36/100\n",
      "2868/2868 [==============================] - 0s 131us/step - loss: -36.5374 - acc: 0.0802\n",
      "Epoch 37/100\n",
      "2868/2868 [==============================] - 0s 130us/step - loss: -36.5374 - acc: 0.0802\n",
      "Epoch 38/100\n",
      "2868/2868 [==============================] - 0s 129us/step - loss: -36.5374 - acc: 0.0802\n",
      "Epoch 39/100\n",
      "2868/2868 [==============================] - 0s 136us/step - loss: -36.5374 - acc: 0.0802\n",
      "Epoch 40/100\n",
      "2868/2868 [==============================] - 0s 146us/step - loss: -36.5374 - acc: 0.0802\n",
      "Epoch 41/100\n",
      "2868/2868 [==============================] - 0s 130us/step - loss: -36.5374 - acc: 0.0802\n",
      "Epoch 42/100\n",
      "2868/2868 [==============================] - 0s 130us/step - loss: -36.5374 - acc: 0.0802\n",
      "Epoch 43/100\n",
      "2868/2868 [==============================] - 0s 135us/step - loss: -36.5374 - acc: 0.0802\n",
      "Epoch 44/100\n",
      "2868/2868 [==============================] - 0s 130us/step - loss: -36.5374 - acc: 0.0802\n",
      "Epoch 45/100\n",
      "2868/2868 [==============================] - 0s 131us/step - loss: -36.5374 - acc: 0.0802\n",
      "Epoch 46/100\n",
      "2868/2868 [==============================] - 0s 130us/step - loss: -36.5374 - acc: 0.0802\n",
      "Epoch 47/100\n",
      "2868/2868 [==============================] - 0s 131us/step - loss: -36.5374 - acc: 0.0802\n",
      "Epoch 48/100\n",
      "2868/2868 [==============================] - 0s 129us/step - loss: -36.5374 - acc: 0.0802\n",
      "Epoch 49/100\n",
      "2868/2868 [==============================] - 0s 130us/step - loss: -36.5374 - acc: 0.0802\n",
      "Epoch 50/100\n",
      "2868/2868 [==============================] - 0s 128us/step - loss: -36.5374 - acc: 0.0802\n",
      "Epoch 51/100\n",
      "2868/2868 [==============================] - 0s 131us/step - loss: -36.5374 - acc: 0.0802\n",
      "Epoch 52/100\n",
      "2868/2868 [==============================] - 0s 130us/step - loss: -36.5374 - acc: 0.0802\n",
      "Epoch 53/100\n",
      "2868/2868 [==============================] - 0s 133us/step - loss: -36.5374 - acc: 0.0802\n",
      "Epoch 54/100\n",
      "2868/2868 [==============================] - 0s 130us/step - loss: -36.5374 - acc: 0.0802\n",
      "Epoch 55/100\n",
      "2868/2868 [==============================] - 0s 147us/step - loss: -36.5374 - acc: 0.0802\n",
      "Epoch 56/100\n",
      "2868/2868 [==============================] - 0s 131us/step - loss: -36.5374 - acc: 0.0802\n",
      "Epoch 57/100\n",
      "2868/2868 [==============================] - 0s 129us/step - loss: -36.5374 - acc: 0.0802\n",
      "Epoch 58/100\n",
      "2868/2868 [==============================] - 0s 141us/step - loss: -36.5374 - acc: 0.0802\n",
      "Epoch 59/100\n",
      "2868/2868 [==============================] - 0s 133us/step - loss: -36.5374 - acc: 0.0802\n",
      "Epoch 60/100\n",
      "2868/2868 [==============================] - 0s 128us/step - loss: -36.5374 - acc: 0.0802\n",
      "Epoch 61/100\n",
      "2868/2868 [==============================] - 0s 134us/step - loss: -36.5374 - acc: 0.0802\n",
      "Epoch 62/100\n",
      "2868/2868 [==============================] - 0s 129us/step - loss: -36.5374 - acc: 0.0802\n",
      "Epoch 63/100\n",
      "2868/2868 [==============================] - 0s 130us/step - loss: -36.5374 - acc: 0.0802\n",
      "Epoch 64/100\n",
      "2868/2868 [==============================] - 0s 128us/step - loss: -36.5374 - acc: 0.0802\n",
      "Epoch 65/100\n",
      "2868/2868 [==============================] - 0s 128us/step - loss: -36.5374 - acc: 0.0802\n",
      "Epoch 66/100\n",
      "2868/2868 [==============================] - 0s 147us/step - loss: -36.5374 - acc: 0.0802\n",
      "Epoch 67/100\n",
      "2868/2868 [==============================] - 0s 135us/step - loss: -36.5374 - acc: 0.0802\n",
      "Epoch 68/100\n",
      "2868/2868 [==============================] - 0s 130us/step - loss: -36.5374 - acc: 0.0802\n",
      "Epoch 69/100\n",
      "2868/2868 [==============================] - 0s 145us/step - loss: -36.5374 - acc: 0.0802\n",
      "Epoch 70/100\n",
      "2868/2868 [==============================] - 0s 130us/step - loss: -36.5374 - acc: 0.0802\n",
      "Epoch 71/100\n",
      "2868/2868 [==============================] - 0s 129us/step - loss: -36.5374 - acc: 0.0802\n",
      "Epoch 72/100\n",
      "2868/2868 [==============================] - 0s 132us/step - loss: -36.5374 - acc: 0.0802\n",
      "Epoch 73/100\n",
      "2868/2868 [==============================] - 0s 129us/step - loss: -36.5374 - acc: 0.0802\n",
      "Epoch 74/100\n",
      "2868/2868 [==============================] - 0s 131us/step - loss: -36.5374 - acc: 0.0802\n",
      "Epoch 75/100\n",
      "2868/2868 [==============================] - 0s 131us/step - loss: -36.5374 - acc: 0.0802\n",
      "Epoch 76/100\n",
      "2868/2868 [==============================] - 0s 129us/step - loss: -36.5374 - acc: 0.0802\n",
      "Epoch 77/100\n",
      "2868/2868 [==============================] - 0s 129us/step - loss: -36.5374 - acc: 0.0802\n",
      "Epoch 78/100\n",
      "2868/2868 [==============================] - 0s 129us/step - loss: -36.5374 - acc: 0.0802\n",
      "Epoch 79/100\n",
      "2868/2868 [==============================] - 0s 130us/step - loss: -36.5374 - acc: 0.0802\n",
      "Epoch 80/100\n",
      "2868/2868 [==============================] - 0s 131us/step - loss: -36.5374 - acc: 0.0802\n",
      "Epoch 81/100\n",
      "2868/2868 [==============================] - 0s 132us/step - loss: -36.5374 - acc: 0.0802\n",
      "Epoch 82/100\n",
      "2868/2868 [==============================] - 0s 132us/step - loss: -36.5374 - acc: 0.0802\n",
      "Epoch 83/100\n",
      "2868/2868 [==============================] - 0s 129us/step - loss: -36.5374 - acc: 0.0802\n",
      "Epoch 84/100\n",
      "2868/2868 [==============================] - 0s 128us/step - loss: -36.5374 - acc: 0.0802\n",
      "Epoch 85/100\n",
      "2868/2868 [==============================] - 0s 143us/step - loss: -36.5374 - acc: 0.0802\n",
      "Epoch 86/100\n",
      "2868/2868 [==============================] - 0s 130us/step - loss: -36.5374 - acc: 0.0802\n",
      "Epoch 87/100\n",
      "2868/2868 [==============================] - 1s 175us/step - loss: -36.5374 - acc: 0.0802\n",
      "Epoch 88/100\n",
      "2868/2868 [==============================] - 0s 134us/step - loss: -36.5374 - acc: 0.0802\n",
      "Epoch 89/100\n",
      "2868/2868 [==============================] - 0s 130us/step - loss: -36.5374 - acc: 0.0802\n",
      "Epoch 90/100\n",
      "2868/2868 [==============================] - 0s 129us/step - loss: -36.5374 - acc: 0.0802\n",
      "Epoch 91/100\n",
      "2868/2868 [==============================] - 0s 129us/step - loss: -36.5374 - acc: 0.0802\n",
      "Epoch 92/100\n",
      "2868/2868 [==============================] - 0s 137us/step - loss: -36.5374 - acc: 0.0802\n",
      "Epoch 93/100\n",
      "2868/2868 [==============================] - 0s 137us/step - loss: -36.5374 - acc: 0.0802\n",
      "Epoch 94/100\n",
      "2868/2868 [==============================] - 0s 129us/step - loss: -36.5374 - acc: 0.0802\n",
      "Epoch 95/100\n",
      "2868/2868 [==============================] - 0s 131us/step - loss: -36.5374 - acc: 0.0802\n",
      "Epoch 96/100\n",
      "2868/2868 [==============================] - 0s 137us/step - loss: -36.5374 - acc: 0.0802\n",
      "Epoch 97/100\n",
      "2868/2868 [==============================] - 0s 128us/step - loss: -36.5374 - acc: 0.0802\n",
      "Epoch 98/100\n",
      "2868/2868 [==============================] - 0s 133us/step - loss: -36.5374 - acc: 0.0802\n",
      "Epoch 99/100\n",
      "2868/2868 [==============================] - 0s 129us/step - loss: -36.5374 - acc: 0.0802\n",
      "Epoch 100/100\n",
      "2868/2868 [==============================] - 0s 133us/step - loss: -36.5374 - acc: 0.0802\n"
     ]
    },
    {
     "data": {
      "text/plain": [
       "<keras.callbacks.History at 0x7f333c52d2b0>"
      ]
     },
     "execution_count": 30,
     "metadata": {},
     "output_type": "execute_result"
    }
   ],
   "source": [
    "#Fitting the data to the training dataset\n",
    "classifier2.fit(X_test,y_test, batch_size=10, epochs=100)"
   ]
  },
  {
   "cell_type": "code",
   "execution_count": 31,
   "metadata": {},
   "outputs": [
    {
     "name": "stdout",
     "output_type": "stream",
     "text": [
      "2868/2868 [==============================] - 0s 35us/step\n"
     ]
    },
    {
     "data": {
      "text/plain": [
       "[-36.537410475386402, 0.08019525806109111]"
      ]
     },
     "execution_count": 31,
     "metadata": {},
     "output_type": "execute_result"
    }
   ],
   "source": [
    "eval_model=classifier2.evaluate(X_test, y_test)\n",
    "eval_model"
   ]
  },
  {
   "cell_type": "code",
   "execution_count": 35,
   "metadata": {
    "collapsed": true
   },
   "outputs": [],
   "source": [
    "y_pred2=classifier2.predict(X_test)\n",
    "y_pred2 =(y_pred>0.5)"
   ]
  },
  {
   "cell_type": "code",
   "execution_count": 36,
   "metadata": {},
   "outputs": [
    {
     "name": "stdout",
     "output_type": "stream",
     "text": [
      "[[ 230    0    0    0]\n",
      " [ 480    0    0    0]\n",
      " [ 381    0    0    0]\n",
      " [1777    0    0    0]]\n"
     ]
    }
   ],
   "source": [
    "from sklearn.metrics import confusion_matrix\n",
    "cm2 = confusion_matrix(y_test, y_pred2)\n",
    "print(cm2)"
   ]
  },
  {
   "cell_type": "markdown",
   "metadata": {},
   "source": [
    "### Iteration 3"
   ]
  },
  {
   "cell_type": "code",
   "execution_count": 47,
   "metadata": {
    "collapsed": true
   },
   "outputs": [],
   "source": [
    "classifier3 = Sequential()\n",
    "#First Hidden Layer\n",
    "classifier3.add(Dense(100, activation='relu', kernel_initializer='random_normal', input_dim=137))\n",
    "\n",
    "#Second  Hidden Layer\n",
    "classifier3.add(Dense(80, activation='relu', kernel_initializer='random_normal'))\n",
    "\n",
    "#Third  Hidden Layer\n",
    "classifier3.add(Dense(60, activation='relu', kernel_initializer='random_normal'))\n",
    "\n",
    "#Fourth  Hidden Layer\n",
    "classifier3.add(Dense(60, activation='relu', kernel_initializer='random_normal'))\n",
    "\n",
    "#Fifth  Hidden Layer\n",
    "classifier3.add(Dense(40, activation='relu', kernel_initializer='random_normal'))\n",
    "\n",
    "#Sixth  Hidden Layer\n",
    "classifier3.add(Dense(20, activation='relu', kernel_initializer='random_normal'))\n",
    "\n",
    "#Seventh  Hidden Layer\n",
    "classifier3.add(Dense(20, activation='relu', kernel_initializer='random_normal'))\n",
    "\n",
    "#Output Layer\n",
    "classifier3.add(Dense(1, activation='sigmoid', kernel_initializer='random_normal'))"
   ]
  },
  {
   "cell_type": "code",
   "execution_count": 48,
   "metadata": {
    "collapsed": true
   },
   "outputs": [],
   "source": [
    "#Compiling the neural network\n",
    "classifier3.compile(optimizer ='adagrad',loss='binary_crossentropy', metrics =['accuracy'])"
   ]
  },
  {
   "cell_type": "code",
   "execution_count": 49,
   "metadata": {
    "scrolled": false
   },
   "outputs": [
    {
     "name": "stdout",
     "output_type": "stream",
     "text": [
      "Epoch 1/100\n",
      "2868/2868 [==============================] - 1s 247us/step - loss: -35.8546 - acc: 0.0802\n",
      "Epoch 2/100\n",
      "2868/2868 [==============================] - 0s 171us/step - loss: -36.5374 - acc: 0.0802\n",
      "Epoch 3/100\n",
      "2868/2868 [==============================] - 0s 171us/step - loss: -36.5374 - acc: 0.0802\n",
      "Epoch 4/100\n",
      "2868/2868 [==============================] - 1s 175us/step - loss: -36.5374 - acc: 0.0802\n",
      "Epoch 5/100\n",
      "2868/2868 [==============================] - 1s 184us/step - loss: -36.5374 - acc: 0.0802\n",
      "Epoch 6/100\n",
      "2868/2868 [==============================] - 1s 177us/step - loss: -36.5374 - acc: 0.0802\n",
      "Epoch 7/100\n",
      "2868/2868 [==============================] - 1s 186us/step - loss: -36.5374 - acc: 0.0802\n",
      "Epoch 8/100\n",
      "2868/2868 [==============================] - 0s 172us/step - loss: -36.5374 - acc: 0.0802\n",
      "Epoch 9/100\n",
      "2868/2868 [==============================] - 0s 169us/step - loss: -36.5374 - acc: 0.0802\n",
      "Epoch 10/100\n",
      "2868/2868 [==============================] - 0s 173us/step - loss: -36.5374 - acc: 0.0802\n",
      "Epoch 11/100\n",
      "2868/2868 [==============================] - 0s 170us/step - loss: -36.5374 - acc: 0.0802\n",
      "Epoch 12/100\n",
      "2868/2868 [==============================] - 0s 172us/step - loss: -36.5374 - acc: 0.0802\n",
      "Epoch 13/100\n",
      "2868/2868 [==============================] - 1s 181us/step - loss: -36.5374 - acc: 0.0802\n",
      "Epoch 14/100\n",
      "2868/2868 [==============================] - 1s 205us/step - loss: -36.5374 - acc: 0.0802\n",
      "Epoch 15/100\n",
      "2868/2868 [==============================] - 1s 205us/step - loss: -36.5374 - acc: 0.0802\n",
      "Epoch 16/100\n",
      "2868/2868 [==============================] - 1s 185us/step - loss: -36.5374 - acc: 0.0802\n",
      "Epoch 17/100\n",
      "2868/2868 [==============================] - 0s 170us/step - loss: -36.5374 - acc: 0.0802\n",
      "Epoch 18/100\n",
      "2868/2868 [==============================] - 1s 181us/step - loss: -36.5374 - acc: 0.0802\n",
      "Epoch 19/100\n",
      "2868/2868 [==============================] - 0s 170us/step - loss: -36.5374 - acc: 0.0802\n",
      "Epoch 20/100\n",
      "2868/2868 [==============================] - 0s 169us/step - loss: -36.5374 - acc: 0.0802\n",
      "Epoch 21/100\n",
      "2868/2868 [==============================] - 0s 169us/step - loss: -36.5374 - acc: 0.0802\n",
      "Epoch 22/100\n",
      "2868/2868 [==============================] - 0s 170us/step - loss: -36.5374 - acc: 0.0802\n",
      "Epoch 23/100\n",
      "2868/2868 [==============================] - 0s 171us/step - loss: -36.5374 - acc: 0.0802\n",
      "Epoch 24/100\n",
      "2868/2868 [==============================] - 1s 186us/step - loss: -36.5374 - acc: 0.0802\n",
      "Epoch 25/100\n",
      "2868/2868 [==============================] - 1s 184us/step - loss: -36.5374 - acc: 0.0802\n",
      "Epoch 26/100\n",
      "2868/2868 [==============================] - 1s 183us/step - loss: -36.5374 - acc: 0.0802\n",
      "Epoch 27/100\n",
      "2868/2868 [==============================] - 1s 175us/step - loss: -36.5374 - acc: 0.0802\n",
      "Epoch 28/100\n",
      "2868/2868 [==============================] - 0s 173us/step - loss: -36.5374 - acc: 0.0802\n",
      "Epoch 29/100\n",
      "2868/2868 [==============================] - 0s 170us/step - loss: -36.5374 - acc: 0.0802\n",
      "Epoch 30/100\n",
      "2868/2868 [==============================] - 0s 172us/step - loss: -36.5374 - acc: 0.0802\n",
      "Epoch 31/100\n",
      "2868/2868 [==============================] - 0s 169us/step - loss: -36.5374 - acc: 0.0802\n",
      "Epoch 32/100\n",
      "2868/2868 [==============================] - 0s 169us/step - loss: -36.5374 - acc: 0.0802\n",
      "Epoch 33/100\n",
      "2868/2868 [==============================] - 1s 180us/step - loss: -36.5374 - acc: 0.0802\n",
      "Epoch 34/100\n",
      "2868/2868 [==============================] - 1s 203us/step - loss: -36.5374 - acc: 0.0802\n",
      "Epoch 35/100\n",
      "2868/2868 [==============================] - 0s 173us/step - loss: -36.5374 - acc: 0.0802\n",
      "Epoch 36/100\n",
      "2868/2868 [==============================] - 1s 185us/step - loss: -36.5374 - acc: 0.0802\n",
      "Epoch 37/100\n",
      "2868/2868 [==============================] - 0s 171us/step - loss: -36.5374 - acc: 0.0802\n",
      "Epoch 38/100\n",
      "2868/2868 [==============================] - 1s 175us/step - loss: -36.5374 - acc: 0.0802\n",
      "Epoch 39/100\n",
      "2868/2868 [==============================] - 0s 169us/step - loss: -36.5374 - acc: 0.0802\n",
      "Epoch 40/100\n",
      "2868/2868 [==============================] - 0s 170us/step - loss: -36.5374 - acc: 0.0802\n",
      "Epoch 41/100\n",
      "2868/2868 [==============================] - 0s 169us/step - loss: -36.5374 - acc: 0.0802\n",
      "Epoch 42/100\n",
      "2868/2868 [==============================] - 0s 170us/step - loss: -36.5374 - acc: 0.0802\n",
      "Epoch 43/100\n",
      "2868/2868 [==============================] - 0s 172us/step - loss: -36.5374 - acc: 0.0802\n",
      "Epoch 44/100\n",
      "2868/2868 [==============================] - 1s 177us/step - loss: -36.5374 - acc: 0.0802\n",
      "Epoch 45/100\n",
      "2868/2868 [==============================] - 1s 185us/step - loss: -36.5374 - acc: 0.0802\n",
      "Epoch 46/100\n",
      "2868/2868 [==============================] - 1s 181us/step - loss: -36.5374 - acc: 0.0802\n",
      "Epoch 47/100\n",
      "2868/2868 [==============================] - 1s 189us/step - loss: -36.5374 - acc: 0.0802\n",
      "Epoch 48/100\n",
      "2868/2868 [==============================] - 0s 172us/step - loss: -36.5374 - acc: 0.0802\n",
      "Epoch 49/100\n",
      "2868/2868 [==============================] - 0s 173us/step - loss: -36.5374 - acc: 0.0802\n",
      "Epoch 50/100\n",
      "2868/2868 [==============================] - 0s 169us/step - loss: -36.5374 - acc: 0.0802\n",
      "Epoch 51/100\n",
      "2868/2868 [==============================] - 0s 171us/step - loss: -36.5374 - acc: 0.0802\n",
      "Epoch 52/100\n",
      "2868/2868 [==============================] - 0s 169us/step - loss: -36.5374 - acc: 0.0802\n",
      "Epoch 53/100\n",
      "2868/2868 [==============================] - 1s 177us/step - loss: -36.5374 - acc: 0.0802\n",
      "Epoch 54/100\n",
      "2868/2868 [==============================] - 1s 209us/step - loss: -36.5374 - acc: 0.0802\n",
      "Epoch 55/100\n",
      "2868/2868 [==============================] - 0s 171us/step - loss: -36.5374 - acc: 0.0802\n",
      "Epoch 56/100\n",
      "2868/2868 [==============================] - 1s 186us/step - loss: -36.5374 - acc: 0.0802\n",
      "Epoch 57/100\n",
      "2868/2868 [==============================] - 0s 174us/step - loss: -36.5374 - acc: 0.0802\n",
      "Epoch 58/100\n",
      "2868/2868 [==============================] - 0s 172us/step - loss: -36.5374 - acc: 0.0802\n",
      "Epoch 59/100\n",
      "2868/2868 [==============================] - 0s 170us/step - loss: -36.5374 - acc: 0.0802\n",
      "Epoch 60/100\n",
      "2868/2868 [==============================] - 0s 170us/step - loss: -36.5374 - acc: 0.0802\n",
      "Epoch 61/100\n",
      "2868/2868 [==============================] - 0s 169us/step - loss: -36.5374 - acc: 0.0802\n",
      "Epoch 62/100\n",
      "2868/2868 [==============================] - 0s 169us/step - loss: -36.5374 - acc: 0.0802\n",
      "Epoch 63/100\n",
      "2868/2868 [==============================] - 0s 171us/step - loss: -36.5374 - acc: 0.0802\n",
      "Epoch 64/100\n",
      "2868/2868 [==============================] - 1s 175us/step - loss: -36.5374 - acc: 0.0802\n",
      "Epoch 65/100\n",
      "2868/2868 [==============================] - 1s 180us/step - loss: -36.5374 - acc: 0.0802\n",
      "Epoch 66/100\n",
      "2868/2868 [==============================] - 0s 171us/step - loss: -36.5374 - acc: 0.0802\n",
      "Epoch 67/100\n",
      "2868/2868 [==============================] - 1s 188us/step - loss: -36.5374 - acc: 0.0802\n",
      "Epoch 68/100\n",
      "2868/2868 [==============================] - 0s 174us/step - loss: -36.5374 - acc: 0.0802\n",
      "Epoch 69/100\n",
      "2868/2868 [==============================] - 0s 174us/step - loss: -36.5374 - acc: 0.0802\n",
      "Epoch 70/100\n",
      "2868/2868 [==============================] - 0s 172us/step - loss: -36.5374 - acc: 0.0802\n",
      "Epoch 71/100\n",
      "2868/2868 [==============================] - 0s 169us/step - loss: -36.5374 - acc: 0.0802\n",
      "Epoch 72/100\n",
      "2868/2868 [==============================] - 0s 169us/step - loss: -36.5374 - acc: 0.0802\n",
      "Epoch 73/100\n",
      "2868/2868 [==============================] - 1s 202us/step - loss: -36.5374 - acc: 0.0802\n",
      "Epoch 74/100\n",
      "2868/2868 [==============================] - 1s 228us/step - loss: -36.5374 - acc: 0.0802\n",
      "Epoch 75/100\n",
      "2868/2868 [==============================] - 0s 174us/step - loss: -36.5374 - acc: 0.0802\n",
      "Epoch 76/100\n",
      "2868/2868 [==============================] - 1s 178us/step - loss: -36.5374 - acc: 0.0802\n",
      "Epoch 77/100\n",
      "2868/2868 [==============================] - 0s 172us/step - loss: -36.5374 - acc: 0.0802\n",
      "Epoch 78/100\n",
      "2868/2868 [==============================] - 1s 183us/step - loss: -36.5374 - acc: 0.0802\n",
      "Epoch 79/100\n",
      "2868/2868 [==============================] - 1s 182us/step - loss: -36.5374 - acc: 0.0802\n",
      "Epoch 80/100\n",
      "2868/2868 [==============================] - 0s 170us/step - loss: -36.5374 - acc: 0.0802\n",
      "Epoch 81/100\n",
      "2868/2868 [==============================] - 0s 173us/step - loss: -36.5374 - acc: 0.0802\n",
      "Epoch 82/100\n",
      "2868/2868 [==============================] - 1s 182us/step - loss: -36.5374 - acc: 0.0802\n",
      "Epoch 83/100\n",
      "2868/2868 [==============================] - 0s 172us/step - loss: -36.5374 - acc: 0.0802\n",
      "Epoch 84/100\n",
      "2868/2868 [==============================] - 0s 173us/step - loss: -36.5374 - acc: 0.0802\n",
      "Epoch 85/100\n",
      "2868/2868 [==============================] - 1s 176us/step - loss: -36.5374 - acc: 0.0802\n",
      "Epoch 86/100\n",
      "2868/2868 [==============================] - 1s 178us/step - loss: -36.5374 - acc: 0.0802\n",
      "Epoch 87/100\n",
      "2868/2868 [==============================] - 1s 183us/step - loss: -36.5374 - acc: 0.0802\n",
      "Epoch 88/100\n",
      "2868/2868 [==============================] - 0s 169us/step - loss: -36.5374 - acc: 0.0802\n",
      "Epoch 89/100\n",
      "2868/2868 [==============================] - 0s 173us/step - loss: -36.5374 - acc: 0.0802\n",
      "Epoch 90/100\n",
      "2868/2868 [==============================] - 1s 175us/step - loss: -36.5374 - acc: 0.0802\n",
      "Epoch 91/100\n",
      "2868/2868 [==============================] - 1s 227us/step - loss: -36.5374 - acc: 0.0802\n",
      "Epoch 92/100\n",
      "2868/2868 [==============================] - 1s 231us/step - loss: -36.5374 - acc: 0.0802\n",
      "Epoch 93/100\n",
      "2868/2868 [==============================] - 1s 261us/step - loss: -36.5374 - acc: 0.0802\n",
      "Epoch 94/100\n",
      "2868/2868 [==============================] - 1s 311us/step - loss: -36.5374 - acc: 0.0802\n",
      "Epoch 95/100\n",
      "2868/2868 [==============================] - 1s 292us/step - loss: -36.5374 - acc: 0.0802\n",
      "Epoch 96/100\n",
      "2868/2868 [==============================] - 1s 208us/step - loss: -36.5374 - acc: 0.0802\n",
      "Epoch 97/100\n",
      "2868/2868 [==============================] - 1s 193us/step - loss: -36.5374 - acc: 0.0802\n",
      "Epoch 98/100\n",
      "2868/2868 [==============================] - 1s 188us/step - loss: -36.5374 - acc: 0.0802\n",
      "Epoch 99/100\n",
      "2868/2868 [==============================] - 1s 192us/step - loss: -36.5374 - acc: 0.0802\n",
      "Epoch 100/100\n",
      "2868/2868 [==============================] - 1s 194us/step - loss: -36.5374 - acc: 0.0802\n"
     ]
    },
    {
     "data": {
      "text/plain": [
       "<keras.callbacks.History at 0x7f333c55c358>"
      ]
     },
     "execution_count": 49,
     "metadata": {},
     "output_type": "execute_result"
    }
   ],
   "source": [
    "#Fitting the data to the training dataset\n",
    "classifier3.fit(X_test,y_test, batch_size=10, epochs=10)"
   ]
  },
  {
   "cell_type": "code",
   "execution_count": 50,
   "metadata": {},
   "outputs": [
    {
     "name": "stdout",
     "output_type": "stream",
     "text": [
      "2868/2868 [==============================] - 0s 52us/step\n"
     ]
    },
    {
     "data": {
      "text/plain": [
       "[-36.537410475386402, 0.08019525806109111]"
      ]
     },
     "execution_count": 50,
     "metadata": {},
     "output_type": "execute_result"
    }
   ],
   "source": [
    "eval_model=classifier3.evaluate(X_test, y_test)\n",
    "eval_model"
   ]
  },
  {
   "cell_type": "code",
   "execution_count": 51,
   "metadata": {
    "collapsed": true
   },
   "outputs": [],
   "source": [
    "y_pred3=classifier2.predict(X_test)\n",
    "y_pred3 =(y_pred>0.5)"
   ]
  },
  {
   "cell_type": "code",
   "execution_count": 52,
   "metadata": {},
   "outputs": [
    {
     "name": "stdout",
     "output_type": "stream",
     "text": [
      "[[ 230    0    0    0]\n",
      " [ 480    0    0    0]\n",
      " [ 381    0    0    0]\n",
      " [1777    0    0    0]]\n"
     ]
    }
   ],
   "source": [
    "from sklearn.metrics import confusion_matrix\n",
    "cm3 = confusion_matrix(y_test, y_pred3)\n",
    "print(cm3)"
   ]
  },
  {
   "cell_type": "code",
   "execution_count": null,
   "metadata": {
    "collapsed": true
   },
   "outputs": [],
   "source": []
  }
 ],
 "metadata": {
  "kernelspec": {
   "display_name": "Python 3",
   "language": "python",
   "name": "python3"
  },
  "language_info": {
   "codemirror_mode": {
    "name": "ipython",
    "version": 3
   },
   "file_extension": ".py",
   "mimetype": "text/x-python",
   "name": "python",
   "nbconvert_exporter": "python",
   "pygments_lexer": "ipython3",
   "version": "3.6.2"
  }
 },
 "nbformat": 4,
 "nbformat_minor": 2
}
