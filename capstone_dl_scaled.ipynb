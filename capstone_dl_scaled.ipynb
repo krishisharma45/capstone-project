{
 "cells": [
  {
   "cell_type": "code",
   "execution_count": 1,
   "metadata": {},
   "outputs": [],
   "source": [
    "import pandas as pd\n",
    "import numpy as np\n",
    "from sklearn.model_selection import train_test_split\n",
    "from sklearn.ensemble import RandomForestClassifier\n",
    "from dask.distributed import Client\n",
    "from sklearn.externals import joblib\n",
    "import pickle"
   ]
  },
  {
   "cell_type": "code",
   "execution_count": 2,
   "metadata": {},
   "outputs": [],
   "source": [
    "#Load and split the data\n",
    "training_data = pd.read_csv('train.csv')\n",
    "data = training_data.drop(['Target'], axis=1)\n",
    "target = training_data['Target']"
   ]
  },
  {
   "cell_type": "code",
   "execution_count": 3,
   "metadata": {},
   "outputs": [],
   "source": [
    "#Clean the data to either replace or remove string columns\n",
    "data.select_dtypes(exclude=[np.number]).head()\n",
    "data = data.select_dtypes(include=[np.number], exclude=[np.object]).fillna(0)"
   ]
  },
  {
   "cell_type": "code",
   "execution_count": 4,
   "metadata": {},
   "outputs": [],
   "source": [
    "#Extract feature names\n",
    "cols = data.columns.values\n",
    "dicts = dict(zip(cols, range(len(cols))))\n",
    "\n",
    "features = []\n",
    "for key in dicts:\n",
    "    if dicts[key] in [98, 135, 134, 131, 118, 133, 109, 132, 94, 2]:\n",
    "        features.append(key)"
   ]
  },
  {
   "cell_type": "code",
   "execution_count": 5,
   "metadata": {},
   "outputs": [],
   "source": [
    "#Define train and test data sets\n",
    "X_train, X_test, y_train, y_test = train_test_split(data[features], target, test_size= 0.2, random_state=42)"
   ]
  },
  {
   "cell_type": "code",
   "execution_count": 6,
   "metadata": {},
   "outputs": [],
   "source": [
    "#Start a local Dask client\n",
    "client = Client()"
   ]
  },
  {
   "cell_type": "code",
   "execution_count": null,
   "metadata": {},
   "outputs": [],
   "source": [
    "#Use Dask to parallelize tasks\n",
    "with joblib.parallel_backend('dask'):\n",
    "    def baseline_model():\n",
    "        model = tf.keras.Sequential()\n",
    "        model.add(Dense(4, input_dim=10, activation='relu'))\n",
    "        model.add(Dense(4, activation='softmax'))\n",
    "        model.compile(loss='categorical_crossentropy', optimizer='adam', metrics=['accuracy'])\n",
    "        return model\n",
    "    \n",
    "    estimator = KerasClassifier(build_fn=baseline_model, \n",
    "                            epochs=10, \n",
    "                            batch_size=5,\n",
    "                            verbose=0)\n",
    "    \n",
    "    kfold = KFold(n_splits=10, shuffle=True)\n",
    "    \n",
    "    results = cross_val_score(estimator, X_train, y_train, cv=kfold)\n",
    "    print('Accuracy for Baseline Model: ' + str(round(results.mean()*100,2)) + '%')"
   ]
  },
  {
   "cell_type": "code",
   "execution_count": null,
   "metadata": {},
   "outputs": [],
   "source": [
    "#Save the trained model as a pickle string, load pickled model + use it to make predictions\n",
    "saved_model = pickle.dumps(model)\n",
    "rf_from_pickle = pickle.loads(saved_model)\n",
    "rf_from_pickle.predict(X_test)"
   ]
  }
 ],
 "metadata": {
  "kernelspec": {
   "display_name": "Python 3",
   "language": "python",
   "name": "python3"
  },
  "language_info": {
   "codemirror_mode": {
    "name": "ipython",
    "version": 2
   },
   "file_extension": ".py",
   "mimetype": "text/x-python",
   "name": "python",
   "nbconvert_exporter": "python",
   "pygments_lexer": "ipython2",
   "version": "2.7.15"
  }
 },
 "nbformat": 4,
 "nbformat_minor": 2
}
