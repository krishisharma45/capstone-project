{
 "cells": [
  {
   "cell_type": "code",
   "execution_count": 1,
   "metadata": {},
   "outputs": [],
   "source": [
    "import pandas as pd\n",
    "import numpy as np\n",
    "import sklearn\n",
    "from sklearn.model_selection import train_test_split\n",
    "from sklearn.ensemble import RandomForestClassifier\n",
    "import pickle\n",
    "import flask"
   ]
  },
  {
   "cell_type": "code",
   "execution_count": 8,
   "metadata": {},
   "outputs": [],
   "source": [
    "#Load and split the data\n",
    "training_data = pd.read_csv(\"train.csv\")\n",
    "testing_data = pd.read_csv(\"test.csv\")\n",
    "costa_rica_data = training_data.drop(['Target'], axis=1)\n",
    "costa_rica_target = training_data['Target']\n",
    "costa_rica_test = testing_data"
   ]
  },
  {
   "cell_type": "code",
   "execution_count": 9,
   "metadata": {},
   "outputs": [],
   "source": [
    "#Clean the data to either replace or remove string columns\n",
    "costa_rica_data.select_dtypes(exclude=[np.number]).head()\n",
    "costa_rica_data = costa_rica_data.select_dtypes(include=[np.number], exclude=[np.object]).fillna(0)\n",
    "\n",
    "costa_rica_test.select_dtypes(exclude=[np.number]).head()\n",
    "costa_rica_test = costa_rica_test.select_dtypes(include=[np.number], exclude=[np.object]).fillna(0)"
   ]
  },
  {
   "cell_type": "code",
   "execution_count": 4,
   "metadata": {},
   "outputs": [],
   "source": [
    "#Extract feature names\n",
    "cols = costa_rica_data.columns.values\n",
    "dicts = dict(zip(cols, range(len(cols))))\n",
    "\n",
    "features = []\n",
    "for key in dicts:\n",
    "    #if dicts[key] in [98, 135, 134, 131, 118, 133, 109, 132, 94, 2]:\n",
    "    if dicts[key] in [98, 135, 134, 131, 118, 133, 109, 132, 94, 2]:\n",
    "        features.append(key)"
   ]
  },
  {
   "cell_type": "code",
   "execution_count": 10,
   "metadata": {},
   "outputs": [],
   "source": [
    "#Define train and test data sets\n",
    "X_train, X_test, y_train, y_test = train_test_split(costa_rica_data[features].values, costa_rica_target.values, test_size= 0.2, random_state=42)\n",
    "X_predict = costa_rica_test[features].values"
   ]
  },
  {
   "cell_type": "code",
   "execution_count": 6,
   "metadata": {},
   "outputs": [
    {
     "name": "stdout",
     "output_type": "stream",
     "text": [
      "Random Forest Train Accuracy: 96.38%\n",
      "Random Forest Validation Accuracy: 93.2%\n",
      "Train/Test Delta: 3.18%\n"
     ]
    }
   ],
   "source": [
    "#Set up model for testing\n",
    "clf = RandomForestClassifier(n_estimators=350, criterion='entropy', max_depth=15, random_state=42)\n",
    "model = clf.fit(X_train, y_train)\n",
    "train_score = model.score(X_train, y_train)\n",
    "val_score = model.score(X_test, y_test)\n",
    "print('Random Forest Train Accuracy: '+str(round(train_score*100,2))+'%')\n",
    "print('Random Forest Validation Accuracy: '+str(round(val_score*100,2))+'%')\n",
    "print('Train/Test Delta: '+str(round((train_score - val_score)*100,2))+'%')"
   ]
  },
  {
   "cell_type": "code",
   "execution_count": 7,
   "metadata": {},
   "outputs": [
    {
     "data": {
      "text/plain": [
       "array([4, 1, 1, ..., 4, 4, 4])"
      ]
     },
     "execution_count": 7,
     "metadata": {},
     "output_type": "execute_result"
    }
   ],
   "source": [
    "model.predict(X_test)"
   ]
  },
  {
   "cell_type": "code",
   "execution_count": 21,
   "metadata": {},
   "outputs": [
    {
     "data": {
      "text/plain": [
       "array([4, 4, 4, ..., 3, 3, 3])"
      ]
     },
     "execution_count": 21,
     "metadata": {},
     "output_type": "execute_result"
    }
   ],
   "source": [
    "test_pred = model.predict(X_predict)\n",
    "test_pred"
   ]
  },
  {
   "cell_type": "code",
   "execution_count": 44,
   "metadata": {},
   "outputs": [
    {
     "data": {
      "text/plain": [
       "array([ 4.  ,  4.  ,  8.  ,  2.5 ,  2.  ,  0.  , 16.  ,  6.25, 16.  ,\n",
       "       64.  ])"
      ]
     },
     "execution_count": 44,
     "metadata": {},
     "output_type": "execute_result"
    }
   ],
   "source": [
    "X_predict[23757,:]"
   ]
  },
  {
   "cell_type": "code",
   "execution_count": 45,
   "metadata": {},
   "outputs": [
    {
     "data": {
      "text/plain": [
       "1"
      ]
     },
     "execution_count": 45,
     "metadata": {},
     "output_type": "execute_result"
    }
   ],
   "source": [
    "test_pred[23757]"
   ]
  },
  {
   "cell_type": "code",
   "execution_count": 43,
   "metadata": {},
   "outputs": [],
   "source": [
    "def integration_test():\n",
    "    #for sample 0, application predicted class 4, not vulnerable\n",
    "    if test_pred[0] == 4:\n",
    "        return True\n",
    "    \n",
    "    #for sample 251, application predicted class 4, not vulnerable\n",
    "    if test_pred[251] == 4:\n",
    "        return True\n",
    "    \n",
    "    #for sample 3369, application predicted class 4, not vulnerable\n",
    "    if test_pred[3369] == 4:\n",
    "        return True\n",
    "    \n",
    "    #for sample 23851, application predicted class 2, highly vulnerable\n",
    "    if test_pred[23851] == 2:\n",
    "        return True\n",
    "    \n",
    "    #for sample 23853, application predicted class 3, somewhat vulnerable\n",
    "    if test_pred[23853] == 3:\n",
    "        return True\n",
    "    \n",
    "    #for sample 23853, application predicted class 3, somewhat vulnerable\n",
    "    if test_pred[23853] == 3:\n",
    "        return True\n",
    "    \n",
    "    #for sample 51, application predicted class 1, extremely vulnerable\n",
    "    if test_pred[51] == 1:\n",
    "        return True\n",
    "    \n",
    "    #for sample 23757, application predicted class 1, extremely vulnerable\n",
    "    if test_pred[23757] == 1:\n",
    "        return True"
   ]
  },
  {
   "cell_type": "code",
   "execution_count": 47,
   "metadata": {},
   "outputs": [],
   "source": [
    "def print_results():\n",
    "    if integration_test() == False:\n",
    "        print('Test failed')\n",
    "    else:\n",
    "        print('Test passed')"
   ]
  },
  {
   "cell_type": "code",
   "execution_count": 48,
   "metadata": {},
   "outputs": [
    {
     "name": "stdout",
     "output_type": "stream",
     "text": [
      "Test passed\n"
     ]
    }
   ],
   "source": [
    "print_results()"
   ]
  }
 ],
 "metadata": {
  "kernelspec": {
   "display_name": "Python 3",
   "language": "python",
   "name": "python3"
  },
  "language_info": {
   "codemirror_mode": {
    "name": "ipython",
    "version": 3
   },
   "file_extension": ".py",
   "mimetype": "text/x-python",
   "name": "python",
   "nbconvert_exporter": "python",
   "pygments_lexer": "ipython3",
   "version": "3.7.4"
  }
 },
 "nbformat": 4,
 "nbformat_minor": 2
}
