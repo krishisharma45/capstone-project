{
 "cells": [
  {
   "cell_type": "markdown",
   "metadata": {},
   "source": [
    "### Random Forest Prototype\n",
    "This file uses the insights gathered in the capstone_ml_prototype pipeline to fit a hyperparameter-tuned random forest to the test set to compare accuracy scores across the training and test sets (we use the validation set as the test set, as the test set is not labelled)."
   ]
  },
  {
   "cell_type": "code",
   "execution_count": 2,
   "metadata": {},
   "outputs": [],
   "source": [
    "import pandas as pd\n",
    "import numpy as np\n",
    "from sklearn.preprocessing import MinMaxScaler\n",
    "from sklearn.preprocessing import StandardScaler\n",
    "from sklearn import tree\n",
    "from sklearn.tree import DecisionTreeClassifier\n",
    "from sklearn.ensemble import RandomForestClassifier\n",
    "from sklearn.linear_model import LogisticRegression\n",
    "from xgboost import XGBClassifier\n",
    "#from catboost import CatBoostClassifier\n",
    "from sklearn.neighbors import KNeighborsClassifier\n",
    "from sklearn.svm import SVC\n",
    "from sklearn.model_selection import train_test_split\n",
    "from sklearn.model_selection import KFold\n",
    "from sklearn.pipeline import Pipeline\n",
    "from sklearn.model_selection import GridSearchCV\n",
    "from sklearn.metrics import classification_report\n",
    "from sklearn.metrics import mean_squared_error\n",
    "from sklearn.metrics import r2_score\n",
    "from sklearn.metrics import accuracy_score\n",
    "import matplotlib.pyplot as plt"
   ]
  },
  {
   "cell_type": "code",
   "execution_count": 3,
   "metadata": {},
   "outputs": [],
   "source": [
    "#Load and split the data\n",
    "training_data = pd.read_csv(\"train.csv\")\n",
    "testing_data = pd.read_csv(\"test.csv\")\n",
    "costa_rica_data = training_data.drop(['Target'], axis=1)\n",
    "costa_rica_target = training_data['Target']\n",
    "\n",
    "#Clean the data to either replace or remove string columns\n",
    "costa_rica_data.select_dtypes(exclude=[np.number]).head()\n",
    "costa_rica_data = costa_rica_data.select_dtypes(include=[np.number], exclude=[np.object]).fillna(0)\n",
    "\n",
    "#Split data into 80% train, 20% validation split\n",
    "X_train, X_test, y_train, y_test = train_test_split(costa_rica_data.values, costa_rica_target.values, test_size= 0.2, random_state=42)"
   ]
  },
  {
   "cell_type": "code",
   "execution_count": 103,
   "metadata": {},
   "outputs": [
    {
     "name": "stdout",
     "output_type": "stream",
     "text": [
      "('Best criterion:', 'entropy')\n",
      "('Best n_estimators:', 500)\n",
      "('Best max_depth:', 15)\n",
      "RandomForestClassifier(bootstrap=True, class_weight=None, criterion='entropy',\n",
      "            max_depth=15, max_features='auto', max_leaf_nodes=None,\n",
      "            min_impurity_decrease=0.0, min_impurity_split=None,\n",
      "            min_samples_leaf=1, min_samples_split=2,\n",
      "            min_weight_fraction_leaf=0.0, n_estimators=500, n_jobs=None,\n",
      "            oob_score=False, random_state=None, verbose=0,\n",
      "            warm_start=False)\n",
      "[ 0.88705882  0.87990581  0.89360031]\n",
      "0.886854982034\n",
      "0.00559261623603\n"
     ]
    }
   ],
   "source": [
    "#Optimize hyperparameters of a DecisionTree model using Grid Search in Python\n",
    "def optimizeParameter(train, test):\n",
    "\n",
    "    import warnings\n",
    "    warnings.filterwarnings(\"ignore\")\n",
    "\n",
    "    # load libraries\n",
    "    from sklearn import decomposition, datasets\n",
    "    from sklearn import ensemble\n",
    "    from sklearn.pipeline import Pipeline\n",
    "    from sklearn.model_selection import GridSearchCV, cross_val_score\n",
    "    from sklearn.preprocessing import StandardScaler\n",
    "\n",
    "    # Create an scaler object\n",
    "    sc = StandardScaler()\n",
    "\n",
    "    # Create a logistic regression object with an L2 penalty\n",
    "    randomforest = ensemble.RandomForestClassifier()\n",
    "\n",
    "    # Create a pipeline of three steps. First, standardize the data.\n",
    "    # Second, tranform the data with PCA.\n",
    "    # Third, train a Decision Tree Classifier on the data.\n",
    "    pipe = Pipeline(steps=[('sc', sc),\n",
    "                           ('randomforest', randomforest)])\n",
    "\n",
    "    # Create lists of parameter for Decision Tree Classifier\n",
    "    criterion = ['entropy']\n",
    "    n_estimators=[50, 100, 150, 200, 250, 500, 1000]\n",
    "    #max_depth = [1, 3, 5, 7, 10, 13, 15]\n",
    "    max_depth = [13, 14, 15]\n",
    "    #min_impurity_decrease = [0.23, 0.1, 0.2, 0.3, 0.4, 0.5]\n",
    "    #max_features = [None, 'auto', 'sqrt', 'log2']\n",
    "    #max_leaf_nodes = [None, 10, 20, 30, 40, 100, 200]\n",
    "    #class_weight = [None, 'balanced']\n",
    "    #warm_start = [True, False]\n",
    "    \n",
    "\n",
    "    # Create a dictionary of all the parameter options \n",
    "    # Note has you can access the parameters of steps of a pipeline by using '__’\n",
    "    parameters = dict(randomforest__criterion=criterion,\n",
    "                      randomforest__n_estimators=n_estimators,\n",
    "                      randomforest__max_depth=max_depth)\n",
    "                      #randomforest__min_impurity_decrease=min_impurity_decrease,\n",
    "                      #randomforest__max_features=max_features,\n",
    "                      #randomforest__max_leaf_nodes=max_leaf_nodes,\n",
    "                      #randomforest__class_weight=class_weight)\n",
    "                      #randomforest__warm_start=warm_start)\n",
    "\n",
    "    # Conduct Parameter Optmization With Pipeline\n",
    "    # Create a grid search object\n",
    "    clf = GridSearchCV(pipe, parameters)\n",
    "\n",
    "    # Fit the grid search\n",
    "    clf.fit(X_train, y_train)\n",
    "\n",
    "    # View The Best Parameters\n",
    "    print('Best criterion:', clf.best_estimator_.get_params()['randomforest__criterion'])\n",
    "    print('Best n_estimators:', clf.best_estimator_.get_params()['randomforest__n_estimators'])\n",
    "    print('Best max_depth:', clf.best_estimator_.get_params()['randomforest__max_depth'])\n",
    "    #print('Best min_impurity_decrease:', clf.best_estimator_.get_params()['randomforest__min_impurity_decrease'])\n",
    "    #print('Best max_features:', clf.best_estimator_.get_params()['randomforest__max_features'])\n",
    "    #print('Best max_leaf_nodes:', clf.best_estimator_.get_params()['randomforest__max_leaf_nodes'])\n",
    "    #print('Best class_weight:', clf.best_estimator_.get_params()['randomforest__class_weight'])\n",
    "    #print('Best warm_start:', clf.best_estimator_.get_params()['randomforest__warm_start'])\n",
    "    print(clf.best_estimator_.get_params()['randomforest'])\n",
    "\n",
    "    # Use Cross Validation To Evaluate Model\n",
    "    CV_Result = cross_val_score(clf, X_train, y_train, cv=3, n_jobs=1)\n",
    "    print(CV_Result)\n",
    "    print(CV_Result.mean())\n",
    "    print(CV_Result.std())\n",
    "\n",
    "optimizeParameter(X_train, y_train)"
   ]
  },
  {
   "cell_type": "code",
   "execution_count": 35,
   "metadata": {},
   "outputs": [
    {
     "name": "stdout",
     "output_type": "stream",
     "text": [
      "Random Forest Train Accuracy: 96.34%\n",
      "Random Forest Test Accuracy: 93.04%\n"
     ]
    }
   ],
   "source": [
    "#Fit a Decision Tree with default parameters to get a baseline idea of performance\n",
    "clf = RandomForestClassifier(random_state=42, n_estimators=500, criterion='entropy', max_depth=15)\n",
    "model = clf.fit(X_train, y_train)\n",
    "train_score = model.score(X_train, y_train)\n",
    "test_score = model.score(X_test, y_test)\n",
    "print('Random Forest Train Accuracy: '+str(round(train_score*100,2))+'%')\n",
    "print('Random Forest Test Accuracy: '+str(round(test_score*100,2))+'%')"
   ]
  },
  {
   "cell_type": "code",
   "execution_count": 5,
   "metadata": {},
   "outputs": [
    {
     "name": "stdout",
     "output_type": "stream",
     "text": [
      "Feature ranking:\n",
      "1. feature 98 (0.053438)\n",
      "2. feature 135 (0.052117)\n",
      "3. feature 134 (0.035147)\n",
      "4. feature 131 (0.025651)\n",
      "5. feature 118 (0.025495)\n",
      "6. feature 133 (0.025383)\n",
      "7. feature 109 (0.025274)\n",
      "8. feature 132 (0.021411)\n",
      "9. feature 94 (0.020985)\n",
      "10. feature 2 (0.020294)\n"
     ]
    },
    {
     "data": {
      "image/png": "[encoded data removed]",
      "text/plain": [
       "<Figure size 1152x576 with 1 Axes>"
      ]
     },
     "metadata": {
      "needs_background": "light"
     },
     "output_type": "display_data"
    }
   ],
   "source": [
    "# Build a forest and compute the feature importances\n",
    "forest = RandomForestClassifier(n_estimators=250,\n",
    "                              random_state=0)\n",
    "\n",
    "n_features = 10\n",
    "forest.fit(X_train, y_train)\n",
    "importances = forest.feature_importances_\n",
    "std = np.std([tree.feature_importances_ for tree in forest.estimators_],\n",
    "             axis=0)\n",
    "indices = np.argsort(importances)[::-1]\n",
    "\n",
    "# Print the feature ranking\n",
    "print(\"Feature ranking:\")\n",
    "\n",
    "for f in range(n_features):\n",
    "    print(\"%d. feature %d (%f)\" % (f + 1, indices[f], importances[indices[f]]))\n",
    "\n",
    "# Plot the feature importances of the forest\n",
    "plt.figure(figsize=(16,8))\n",
    "plt.title(\"Feature importances\")\n",
    "plt.bar(range(n_features), importances[indices][:n_features],\n",
    "       color=\"r\", yerr=std[indices][:n_features], align=\"center\")\n",
    "plt.xticks(range(n_features), indices)\n",
    "plt.xlim([-1, n_features])\n",
    "plt.show()"
   ]
  },
  {
   "cell_type": "code",
   "execution_count": 6,
   "metadata": {},
   "outputs": [],
   "source": [
    "#Extract feature names\n",
    "cols = costa_rica_data.columns.values\n",
    "dicts = dict(zip(cols, range(len(cols))))\n",
    "\n",
    "features = []\n",
    "for key in dicts:\n",
    "    if dicts[key] in [98, 135, 134, 131, 118, 133, 109, 132, 94, 2]:\n",
    "        features.append(key)"
   ]
  },
  {
   "cell_type": "code",
   "execution_count": 33,
   "metadata": {},
   "outputs": [
    {
     "name": "stdout",
     "output_type": "stream",
     "text": [
      "Random Forest Train Accuracy: 96.47%\n",
      "Random Forest Validation Accuracy: 93.36%\n",
      "Train/Test Delta: 3.11%\n"
     ]
    }
   ],
   "source": [
    "#Fit Decision Tree with these most important features\n",
    "X_train, X_test, y_train, y_test = train_test_split(costa_rica_data[features].values, costa_rica_target.values, test_size= 0.2, random_state=42)\n",
    "clf = RandomForestClassifier(n_estimators=350, criterion='entropy', max_depth=15, random_state=42, max_features=7)\n",
    "model = clf.fit(X_train, y_train)\n",
    "y_test_pred = model.predict(X_test)\n",
    "train_score = model.score(X_train, y_train)\n",
    "val_score = model.score(X_test, y_test)\n",
    "print('Random Forest Train Accuracy: '+str(round(train_score*100,2))+'%')\n",
    "print('Random Forest Validation Accuracy: '+str(round(val_score*100,2))+'%')\n",
    "print('Train/Test Delta: '+str(round((train_score - val_score)*100,2))+'%')"
   ]
  },
  {
   "cell_type": "markdown",
   "metadata": {},
   "source": [
    "### Model Results\n",
    "We can see that our model's train and validation accuracy are close together. However, the Random Forest did not perform as strongly as the decision tree. Since our test set does not have labels, we cannot use that to further corroborate our model."
   ]
  }
 ],
 "metadata": {
  "kernelspec": {
   "display_name": "Python 3",
   "language": "python",
   "name": "python3"
  },
  "language_info": {
   "codemirror_mode": {
    "name": "ipython",
    "version": 2
   },
   "file_extension": ".py",
   "mimetype": "text/x-python",
   "name": "python",
   "nbconvert_exporter": "python",
   "pygments_lexer": "ipython2",
   "version": "2.7.15"
  }
 },
 "nbformat": 4,
 "nbformat_minor": 2
}
