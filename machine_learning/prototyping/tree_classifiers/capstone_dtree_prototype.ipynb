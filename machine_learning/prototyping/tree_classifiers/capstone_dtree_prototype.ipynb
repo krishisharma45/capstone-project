{
 "cells": [
  {
   "cell_type": "markdown",
   "metadata": {},
   "source": [
    "### Decision Tree Prototype\n",
    "This file uses the insights gathered in the capstone_ml_prototype pipeline to fit a hyperparameter-tuned decision tree to the test set to compare accuracy scores across the training and test sets (we use the validation set as the test set, as the test set is not labelled)."
   ]
  },
  {
   "cell_type": "code",
   "execution_count": 1,
   "metadata": {},
   "outputs": [],
   "source": [
    "import pandas as pd\n",
    "import numpy as np\n",
    "from sklearn.preprocessing import MinMaxScaler\n",
    "from sklearn.preprocessing import StandardScaler\n",
    "from sklearn import tree\n",
    "from sklearn.tree import DecisionTreeClassifier\n",
    "from sklearn.ensemble import RandomForestClassifier\n",
    "from sklearn.linear_model import LogisticRegression\n",
    "from xgboost import XGBClassifier\n",
    "#from catboost import CatBoostClassifier\n",
    "from sklearn.neighbors import KNeighborsClassifier\n",
    "from sklearn.svm import SVC\n",
    "from sklearn.model_selection import train_test_split\n",
    "from sklearn.model_selection import KFold\n",
    "from sklearn.pipeline import Pipeline\n",
    "from sklearn.model_selection import GridSearchCV\n",
    "from sklearn.metrics import classification_report\n",
    "from sklearn.metrics import mean_squared_error\n",
    "from sklearn.metrics import r2_score\n",
    "from sklearn.metrics import accuracy_score\n",
    "import matplotlib.pyplot as plt"
   ]
  },
  {
   "cell_type": "code",
   "execution_count": 2,
   "metadata": {},
   "outputs": [],
   "source": [
    "#Load and split the data\n",
    "training_data = pd.read_csv(\"train.csv\")\n",
    "testing_data = pd.read_csv(\"test.csv\")\n",
    "costa_rica_data = training_data.drop(['Target'], axis=1)\n",
    "costa_rica_target = training_data['Target']\n",
    "\n",
    "#Clean the data to either replace or remove string columns\n",
    "costa_rica_data.select_dtypes(exclude=[np.number]).head()\n",
    "costa_rica_data = costa_rica_data.select_dtypes(include=[np.number], exclude=[np.object]).fillna(0)\n",
    "\n",
    "#Split data into 80% train, 20% validation split\n",
    "X_train, X_test, y_train, y_test = train_test_split(costa_rica_data.values, costa_rica_target.values, test_size= 0.2, random_state=42)"
   ]
  },
  {
   "cell_type": "code",
   "execution_count": 3,
   "metadata": {},
   "outputs": [
    {
     "name": "stdout",
     "output_type": "stream",
     "text": [
      "Decision Tree Train Accuracy: 100.0%\n",
      "Decision Tree Test Accuracy: 90.74%\n"
     ]
    }
   ],
   "source": [
    "#Fit a Decision Tree with hyperparameters to get a baseline idea of performance\n",
    "clf = DecisionTreeClassifier(criterion='gini', max_depth=75, random_state=42)\n",
    "model = clf.fit(X_train, y_train)\n",
    "y_test_pred = model.predict(X_test)\n",
    "train_score = model.score(X_train, y_train)\n",
    "test_score = model.score(X_test, y_test)\n",
    "print('Decision Tree Train Accuracy: '+str(round(train_score*100,2))+'%')\n",
    "print('Decision Tree Test Accuracy: '+str(round(test_score*100,2))+'%')"
   ]
  },
  {
   "cell_type": "code",
   "execution_count": 4,
   "metadata": {},
   "outputs": [
    {
     "data": {
      "text/html": [
       "<div>\n",
       "<style scoped>\n",
       "    .dataframe tbody tr th:only-of-type {\n",
       "        vertical-align: middle;\n",
       "    }\n",
       "\n",
       "    .dataframe tbody tr th {\n",
       "        vertical-align: top;\n",
       "    }\n",
       "\n",
       "    .dataframe thead th {\n",
       "        text-align: right;\n",
       "    }\n",
       "</style>\n",
       "<table border=\"1\" class=\"dataframe\">\n",
       "  <thead>\n",
       "    <tr style=\"text-align: right;\">\n",
       "      <th></th>\n",
       "      <th>Feature Importance</th>\n",
       "    </tr>\n",
       "  </thead>\n",
       "  <tbody>\n",
       "    <tr>\n",
       "      <th>meaneduc</th>\n",
       "      <td>0.095388</td>\n",
       "    </tr>\n",
       "    <tr>\n",
       "      <th>SQBdependency</th>\n",
       "      <td>0.049903</td>\n",
       "    </tr>\n",
       "    <tr>\n",
       "      <th>SQBedjefe</th>\n",
       "      <td>0.048171</td>\n",
       "    </tr>\n",
       "    <tr>\n",
       "      <th>SQBmeaned</th>\n",
       "      <td>0.039866</td>\n",
       "    </tr>\n",
       "    <tr>\n",
       "      <th>SQBhogar_nin</th>\n",
       "      <td>0.033865</td>\n",
       "    </tr>\n",
       "    <tr>\n",
       "      <th>qmobilephone</th>\n",
       "      <td>0.030314</td>\n",
       "    </tr>\n",
       "    <tr>\n",
       "      <th>r4m2</th>\n",
       "      <td>0.028967</td>\n",
       "    </tr>\n",
       "    <tr>\n",
       "      <th>r4h3</th>\n",
       "      <td>0.028142</td>\n",
       "    </tr>\n",
       "    <tr>\n",
       "      <th>overcrowding</th>\n",
       "      <td>0.025013</td>\n",
       "    </tr>\n",
       "    <tr>\n",
       "      <th>rooms</th>\n",
       "      <td>0.023156</td>\n",
       "    </tr>\n",
       "  </tbody>\n",
       "</table>\n",
       "</div>"
      ],
      "text/plain": [
       "               Feature Importance\n",
       "meaneduc                 0.095388\n",
       "SQBdependency            0.049903\n",
       "SQBedjefe                0.048171\n",
       "SQBmeaned                0.039866\n",
       "SQBhogar_nin             0.033865\n",
       "qmobilephone             0.030314\n",
       "r4m2                     0.028967\n",
       "r4h3                     0.028142\n",
       "overcrowding             0.025013\n",
       "rooms                    0.023156"
      ]
     },
     "execution_count": 4,
     "metadata": {},
     "output_type": "execute_result"
    }
   ],
   "source": [
    "#Run Feature Importance to extract relevant features\n",
    "features = model.feature_importances_\n",
    "features_dict = dict(zip(costa_rica_data.columns.values, features))\n",
    "ranked_features_df = pd.DataFrame(features_dict, \n",
    "                                  index=['Feature Importance']).T.sort_values('Feature Importance', ascending=False)[:10]\n",
    "ranked_features_df"
   ]
  },
  {
   "cell_type": "code",
   "execution_count": 5,
   "metadata": {},
   "outputs": [
    {
     "name": "stdout",
     "output_type": "stream",
     "text": [
      "Decision Tree Train Accuracy: 97.7%\n",
      "Decision Tree Validation Accuracy: 93.51%\n"
     ]
    }
   ],
   "source": [
    "#Fit Decision Tree with these most important features\n",
    "X_train, X_test, y_train, y_test = train_test_split(costa_rica_data[ranked_features_df.index].values, costa_rica_target.values, test_size= 0.2, random_state=42)\n",
    "clf = DecisionTreeClassifier(criterion='gini', max_depth=60)\n",
    "model = clf.fit(X_train, y_train)\n",
    "y_test_pred = model.predict(X_test)\n",
    "train_score = model.score(X_train, y_train)\n",
    "val_score = model.score(X_test, y_test)\n",
    "print('Decision Tree Train Accuracy: '+str(round(train_score*100,2))+'%')\n",
    "print('Decision Tree Validation Accuracy: '+str(round(val_score*100,2))+'%')"
   ]
  },
  {
   "cell_type": "markdown",
   "metadata": {},
   "source": [
    "### Model Results\n",
    "We can see that our model's train and validation accuracy are close together. Since our test set does not have labels, we cannot use that to further corroborate our model."
   ]
  }
 ],
 "metadata": {
  "kernelspec": {
   "display_name": "Python 3",
   "language": "python",
   "name": "python3"
  },
  "language_info": {
   "codemirror_mode": {
    "name": "ipython",
    "version": 2
   },
   "file_extension": ".py",
   "mimetype": "text/x-python",
   "name": "python",
   "nbconvert_exporter": "python",
   "pygments_lexer": "ipython2",
   "version": "2.7.15"
  }
 },
 "nbformat": 4,
 "nbformat_minor": 2
}
