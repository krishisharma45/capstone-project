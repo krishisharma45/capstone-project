{
 "cells": [
  {
   "cell_type": "code",
   "execution_count": 1,
   "metadata": {},
   "outputs": [],
   "source": [
    "import pandas as pd\n",
    "import numpy as np\n",
    "import seaborn as sns\n",
    "import matplotlib.pyplot as plt\n",
    "import matplotlib"
   ]
  },
  {
   "cell_type": "code",
   "execution_count": 2,
   "metadata": {},
   "outputs": [
    {
     "data": {
      "text/html": [
       "<div>\n",
       "<style scoped>\n",
       "    .dataframe tbody tr th:only-of-type {\n",
       "        vertical-align: middle;\n",
       "    }\n",
       "\n",
       "    .dataframe tbody tr th {\n",
       "        vertical-align: top;\n",
       "    }\n",
       "\n",
       "    .dataframe thead th {\n",
       "        text-align: right;\n",
       "    }\n",
       "</style>\n",
       "<table border=\"1\" class=\"dataframe\">\n",
       "  <thead>\n",
       "    <tr style=\"text-align: right;\">\n",
       "      <th></th>\n",
       "      <th>Id</th>\n",
       "      <th>idhogar</th>\n",
       "      <th>rooms</th>\n",
       "      <th>refrig</th>\n",
       "      <th>bedrooms</th>\n",
       "      <th>television</th>\n",
       "      <th>qmobilephone</th>\n",
       "      <th>v18q1</th>\n",
       "      <th>v2a1</th>\n",
       "      <th>r4h1</th>\n",
       "      <th>...</th>\n",
       "      <th>electricity</th>\n",
       "      <th>toilet</th>\n",
       "      <th>cooking_energy</th>\n",
       "      <th>rubbish_disposal</th>\n",
       "      <th>wall_condition</th>\n",
       "      <th>roof_condition</th>\n",
       "      <th>floor_condition</th>\n",
       "      <th>house_financing</th>\n",
       "      <th>house_location</th>\n",
       "      <th>house_area</th>\n",
       "    </tr>\n",
       "  </thead>\n",
       "  <tbody>\n",
       "    <tr>\n",
       "      <th>7472</th>\n",
       "      <td>ID_654683e33</td>\n",
       "      <td>001ff74ca</td>\n",
       "      <td>6</td>\n",
       "      <td>1</td>\n",
       "      <td>4</td>\n",
       "      <td>0</td>\n",
       "      <td>1</td>\n",
       "      <td>1</td>\n",
       "      <td>0</td>\n",
       "      <td>0</td>\n",
       "      <td>...</td>\n",
       "      <td>public</td>\n",
       "      <td>sanitario3</td>\n",
       "      <td>energcocinar3</td>\n",
       "      <td>elimbasu1</td>\n",
       "      <td>epared3</td>\n",
       "      <td>etecho3</td>\n",
       "      <td>eviv3</td>\n",
       "      <td>tipovivi3</td>\n",
       "      <td>lugar4</td>\n",
       "      <td>area2</td>\n",
       "    </tr>\n",
       "    <tr>\n",
       "      <th>7471</th>\n",
       "      <td>ID_389eb5f20</td>\n",
       "      <td>001ff74ca</td>\n",
       "      <td>6</td>\n",
       "      <td>1</td>\n",
       "      <td>4</td>\n",
       "      <td>0</td>\n",
       "      <td>1</td>\n",
       "      <td>1</td>\n",
       "      <td>0</td>\n",
       "      <td>0</td>\n",
       "      <td>...</td>\n",
       "      <td>public</td>\n",
       "      <td>sanitario3</td>\n",
       "      <td>energcocinar3</td>\n",
       "      <td>elimbasu1</td>\n",
       "      <td>epared3</td>\n",
       "      <td>etecho3</td>\n",
       "      <td>eviv3</td>\n",
       "      <td>tipovivi3</td>\n",
       "      <td>lugar4</td>\n",
       "      <td>area2</td>\n",
       "    </tr>\n",
       "    <tr>\n",
       "      <th>8159</th>\n",
       "      <td>ID_55199c2f3</td>\n",
       "      <td>003123ec2</td>\n",
       "      <td>3</td>\n",
       "      <td>1</td>\n",
       "      <td>2</td>\n",
       "      <td>0</td>\n",
       "      <td>2</td>\n",
       "      <td>0</td>\n",
       "      <td>0</td>\n",
       "      <td>2</td>\n",
       "      <td>...</td>\n",
       "      <td>public</td>\n",
       "      <td>sanitario3</td>\n",
       "      <td>energcocinar3</td>\n",
       "      <td>elimbasu1</td>\n",
       "      <td>epared3</td>\n",
       "      <td>etecho3</td>\n",
       "      <td>eviv3</td>\n",
       "      <td>tipovivi3</td>\n",
       "      <td>lugar5</td>\n",
       "      <td>area2</td>\n",
       "    </tr>\n",
       "    <tr>\n",
       "      <th>8160</th>\n",
       "      <td>ID_5bef9b553</td>\n",
       "      <td>003123ec2</td>\n",
       "      <td>3</td>\n",
       "      <td>1</td>\n",
       "      <td>2</td>\n",
       "      <td>0</td>\n",
       "      <td>2</td>\n",
       "      <td>0</td>\n",
       "      <td>0</td>\n",
       "      <td>2</td>\n",
       "      <td>...</td>\n",
       "      <td>public</td>\n",
       "      <td>sanitario3</td>\n",
       "      <td>energcocinar3</td>\n",
       "      <td>elimbasu1</td>\n",
       "      <td>epared3</td>\n",
       "      <td>etecho3</td>\n",
       "      <td>eviv3</td>\n",
       "      <td>tipovivi3</td>\n",
       "      <td>lugar5</td>\n",
       "      <td>area2</td>\n",
       "    </tr>\n",
       "    <tr>\n",
       "      <th>8161</th>\n",
       "      <td>ID_079963679</td>\n",
       "      <td>003123ec2</td>\n",
       "      <td>3</td>\n",
       "      <td>1</td>\n",
       "      <td>2</td>\n",
       "      <td>0</td>\n",
       "      <td>2</td>\n",
       "      <td>0</td>\n",
       "      <td>0</td>\n",
       "      <td>2</td>\n",
       "      <td>...</td>\n",
       "      <td>public</td>\n",
       "      <td>sanitario3</td>\n",
       "      <td>energcocinar3</td>\n",
       "      <td>elimbasu1</td>\n",
       "      <td>epared3</td>\n",
       "      <td>etecho3</td>\n",
       "      <td>eviv3</td>\n",
       "      <td>tipovivi3</td>\n",
       "      <td>lugar5</td>\n",
       "      <td>area2</td>\n",
       "    </tr>\n",
       "  </tbody>\n",
       "</table>\n",
       "<p>5 rows × 35 columns</p>\n",
       "</div>"
      ],
      "text/plain": [
       "                Id    idhogar  rooms  refrig  bedrooms  television  \\\n",
       "7472  ID_654683e33  001ff74ca      6       1         4           0   \n",
       "7471  ID_389eb5f20  001ff74ca      6       1         4           0   \n",
       "8159  ID_55199c2f3  003123ec2      3       1         2           0   \n",
       "8160  ID_5bef9b553  003123ec2      3       1         2           0   \n",
       "8161  ID_079963679  003123ec2      3       1         2           0   \n",
       "\n",
       "      qmobilephone v18q1 v2a1  r4h1  ...  electricity      toilet  \\\n",
       "7472             1     1    0     0  ...       public  sanitario3   \n",
       "7471             1     1    0     0  ...       public  sanitario3   \n",
       "8159             2     0    0     2  ...       public  sanitario3   \n",
       "8160             2     0    0     2  ...       public  sanitario3   \n",
       "8161             2     0    0     2  ...       public  sanitario3   \n",
       "\n",
       "      cooking_energy  rubbish_disposal  wall_condition  roof_condition  \\\n",
       "7472   energcocinar3         elimbasu1         epared3         etecho3   \n",
       "7471   energcocinar3         elimbasu1         epared3         etecho3   \n",
       "8159   energcocinar3         elimbasu1         epared3         etecho3   \n",
       "8160   energcocinar3         elimbasu1         epared3         etecho3   \n",
       "8161   energcocinar3         elimbasu1         epared3         etecho3   \n",
       "\n",
       "      floor_condition  house_financing  house_location  house_area  \n",
       "7472            eviv3        tipovivi3          lugar4       area2  \n",
       "7471            eviv3        tipovivi3          lugar4       area2  \n",
       "8159            eviv3        tipovivi3          lugar5       area2  \n",
       "8160            eviv3        tipovivi3          lugar5       area2  \n",
       "8161            eviv3        tipovivi3          lugar5       area2  \n",
       "\n",
       "[5 rows x 35 columns]"
      ]
     },
     "metadata": {},
     "output_type": "display_data"
    }
   ],
   "source": [
    "read_file = pd.read_csv('train.csv')\n",
    "poverty_df = pd.DataFrame(read_file)\n",
    "\n",
    "#Part 1: Prepare household level data\n",
    "household_level = ['Id', 'idhogar', 'rooms', 'refrig', 'bedrooms', 'television', 'qmobilephone', \n",
    "                   'v18q1', 'v2a1', 'r4h1', 'r4h2', 'r4h3', 'r4m1', 'r4m2', 'r4m3', 'r4t1', \n",
    "                   'r4t2', 'r4t3', 'tamhog', 'tamviv', 'hhsize']\n",
    "household_level_df = poverty_df[household_level].sort_values('idhogar').fillna('0')\n",
    "\n",
    "#Part 2: Prepare housing data\n",
    "wall_material = ['paredblolad', 'paredzocalo', 'paredpreb', 'pareddes', 'paredmad', 'paredzinc', 'paredfibras', 'paredother']\n",
    "floor_material = ['pisomoscer', 'pisocemento', 'pisoother', 'pisonatur', 'pisonotiene', 'pisomadera']\n",
    "roof_material = ['techozinc', 'techoentrepiso', 'techocane', 'techootro']\n",
    "water_provision = ['abastaguadentro', 'abastaguafuera', 'abastaguano']\n",
    "electricity = ['public', 'planpri', 'noelec', 'coopele']\n",
    "toilet = ['sanitario1', 'sanitario2', 'sanitario3', 'sanitario5', 'sanitario6']\n",
    "cooking_energy = ['energcocinar1', 'energcocinar2', 'energcocinar3', 'energcocinar4']\n",
    "rubbish_disposal = ['elimbasu1', 'elimbasu2', 'elimbasu3', 'elimbasu4', 'elimbasu5', 'elimbasu6']\n",
    "wall_condition = ['epared1', 'epared2', 'epared3']\n",
    "roof_condition = ['etecho1', 'etecho2', 'etecho3']\n",
    "floor_condition = ['eviv1', 'eviv2', 'eviv3']\n",
    "house_financing = ['tipovivi1', 'tipovivi2', 'tipovivi3', 'tipovivi4', 'tipovivi5']\n",
    "house_location = ['lugar1', 'lugar2', 'lugar3', 'lugar4', 'lugar5', 'lugar6']\n",
    "house_area = ['area1', 'area2']\n",
    "\n",
    "##create list of lists to iterate through with function\n",
    "house_information = [wall_material, floor_material, roof_material, water_provision, electricity, toilet, \n",
    "                    cooking_energy, rubbish_disposal, wall_condition, roof_condition, floor_condition, \n",
    "                    house_financing, house_location, house_area]\n",
    "\n",
    "##create list of strings for new column names\n",
    "house_information_str = ['wall_material', 'floor_material', 'roof_material', 'water_provision', 'electricity', 'toilet', \n",
    "                    'cooking_energy', 'rubbish_disposal', 'wall_condition', 'roof_condition', 'floor_condition', \n",
    "                    'house_financing', 'house_location', 'house_area']\n",
    "\n",
    "##loop through each row of each item in each list in house_information list to collapse columns\n",
    "def collapse_columns(housing_data_list):\n",
    "    new_df = []\n",
    "    for item in housing_data_list:\n",
    "        for i in range(len(poverty_df)):\n",
    "            if poverty_df[item][i] == 1:\n",
    "                new_df.append(item)\n",
    "            else:\n",
    "                pass\n",
    "    return pd.DataFrame(new_df)\n",
    "\n",
    "##rename columns with the list of strings for new column names\n",
    "cols = list(household_level_df.columns.values) + house_information_str\n",
    "\n",
    "\n",
    "##fill in house_hold_level_df with collapsed columns\n",
    "for i in range(len(house_information)):\n",
    "    household_level_df = pd.concat([household_level_df, collapse_columns(house_information[i])], axis=1)\n",
    "\n",
    "household_level_df.columns = cols\n",
    "display(household_level_df.sort_values('idhogar').head())\n"
   ]
  },
  {
   "cell_type": "code",
   "execution_count": 12,
   "metadata": {},
   "outputs": [
    {
     "data": {
      "image/png": "[encoded data removed]",
      "text/plain": [
       "<Figure size 720x720 with 2 Axes>"
      ]
     },
     "metadata": {
      "needs_background": "light"
     },
     "output_type": "display_data"
    }
   ],
   "source": [
    "#Part 3: Feature reduction using heatmap\n",
    "corr = household_level_df.corr()\n",
    "\n",
    "plt.figure(figsize = (10,10))\n",
    "\n",
    "ax = sns.heatmap(\n",
    "    corr,\n",
    "    vmin=-1, vmax=1, center=0,\n",
    "    cmap=sns.diverging_palette(20, 220, n=200),\n",
    "    square=True\n",
    ")\n",
    "\n",
    "ax.set_xticklabels(\n",
    "    ax.get_xticklabels(),\n",
    "    rotation=45,\n",
    "    horizontalalignment='right'\n",
    ");"
   ]
  },
  {
   "cell_type": "code",
   "execution_count": 7,
   "metadata": {},
   "outputs": [
    {
     "data": {
      "text/plain": [
       "Text(0.5,0,'Name')"
      ]
     },
     "execution_count": 7,
     "metadata": {},
     "output_type": "execute_result"
    },
    {
     "data": {
      "image/png": "[encoded data removed]",
      "text/plain": [
       "<Figure size 432x288 with 1 Axes>"
      ]
     },
     "metadata": {
      "needs_background": "light"
     },
     "output_type": "display_data"
    }
   ],
   "source": [
    "ax = household_level_df['rooms'].value_counts().sort_values(ascending=False).plot(kind='bar')\n",
    "ax.set_xlabel(\"Name\")"
   ]
  },
  {
   "cell_type": "code",
   "execution_count": 25,
   "metadata": {},
   "outputs": [
    {
     "data": {
      "text/plain": [
       "<seaborn.axisgrid.PairGrid at 0x1175a0a50>"
      ]
     },
     "execution_count": 25,
     "metadata": {},
     "output_type": "execute_result"
    },
    {
     "data": {
      "image/png": "[encoded data removed]",
      "text/plain": [
       "<Figure size 540x540 with 12 Axes>"
      ]
     },
     "metadata": {
      "needs_background": "light"
     },
     "output_type": "display_data"
    }
   ],
   "source": [
    "abc = household_level_df[['rooms', 'r4t3', 'qmobilephone']]\n",
    "\n",
    "sns.pairplot(abc)"
   ]
  },
  {
   "cell_type": "code",
   "execution_count": null,
   "metadata": {},
   "outputs": [],
   "source": [
    "plt.figure(figsize = (10,10))\n",
    "sns.countplot(household_level_df['v18q1'])"
   ]
  },
  {
   "cell_type": "code",
   "execution_count": 19,
   "metadata": {},
   "outputs": [
    {
     "data": {
      "text/plain": [
       "0           6860\n",
       "150000.0     233\n",
       "100000.0     181\n",
       "200000.0     159\n",
       "120000.0     149\n",
       "Name: v2a1, dtype: int64"
      ]
     },
     "execution_count": 19,
     "metadata": {},
     "output_type": "execute_result"
    }
   ],
   "source": [
    "household_level_df['v2a1'].value_counts().sort_values(ascending=False)[:5]"
   ]
  },
  {
   "cell_type": "code",
   "execution_count": null,
   "metadata": {},
   "outputs": [],
   "source": []
  }
 ],
 "metadata": {
  "kernelspec": {
   "display_name": "Python 3",
   "language": "python",
   "name": "python3"
  },
  "language_info": {
   "codemirror_mode": {
    "name": "ipython",
    "version": 2
   },
   "file_extension": ".py",
   "mimetype": "text/x-python",
   "name": "python",
   "nbconvert_exporter": "python",
   "pygments_lexer": "ipython2",
   "version": "2.7.15"
  }
 },
 "nbformat": 4,
 "nbformat_minor": 2
}
